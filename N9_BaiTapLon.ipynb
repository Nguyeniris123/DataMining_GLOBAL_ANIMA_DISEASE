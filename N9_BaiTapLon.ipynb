{
  "cells": [
    {
      "cell_type": "markdown",
      "metadata": {
        "id": "Xz8aOVFG0sxl"
      },
      "source": [
        "#Khai phá dữ liệu - Bài tập lớn nhóm 9"
      ]
    },
    {
      "cell_type": "markdown",
      "metadata": {
        "id": "89rB2YIf4NXT"
      },
      "source": [
        "# 1. Đọc dữ liệu và khám phá tổng quan\n",
        "\n"
      ]
    },
    {
      "cell_type": "code",
      "execution_count": 79,
      "metadata": {
        "colab": {
          "base_uri": "https://localhost:8080/"
        },
        "id": "DdyeEf1iXH5P",
        "outputId": "7389d704-6617-4a60-cc06-18b5c5ccd277"
      },
      "outputs": [
        {
          "output_type": "stream",
          "name": "stdout",
          "text": [
            "Số dòng và số cột của DataSet là: (17008, 24)\n"
          ]
        }
      ],
      "source": [
        "import pandas as pd\n",
        "url_dich_ta = \"https://raw.githubusercontent.com/Nguyeniris123/DH22IT01OU/refs/heads/main/Khai_Pha_Du_Lieu/DataSetBTL/DichTa.csv\"\n",
        "\n",
        "df = pd.read_csv(url_dich_ta)\n",
        "print(f'Số dòng và số cột của DataSet là: {df.shape}')"
      ]
    },
    {
      "cell_type": "code",
      "execution_count": 80,
      "metadata": {
        "colab": {
          "base_uri": "https://localhost:8080/"
        },
        "collapsed": true,
        "id": "kNLg9w6_1OB8",
        "outputId": "159e474e-891f-4635-b3f0-d0c531c683fa"
      },
      "outputs": [
        {
          "output_type": "stream",
          "name": "stdout",
          "text": [
            "<class 'pandas.core.frame.DataFrame'>\n",
            "RangeIndex: 17008 entries, 0 to 17007\n",
            "Data columns (total 24 columns):\n",
            " #   Column              Non-Null Count  Dtype  \n",
            "---  ------              --------------  -----  \n",
            " 0   Id                  17008 non-null  int64  \n",
            " 1   source              17008 non-null  object \n",
            " 2   latitude            17008 non-null  float64\n",
            " 3   longitude           17008 non-null  float64\n",
            " 4   region              17008 non-null  object \n",
            " 5   country             17008 non-null  object \n",
            " 6   admin1              17008 non-null  object \n",
            " 7   localityName        17008 non-null  object \n",
            " 8   localityQuality     17008 non-null  object \n",
            " 9   observationDate     16506 non-null  object \n",
            " 10  reportingDate       17008 non-null  object \n",
            " 11  status              17008 non-null  object \n",
            " 12  disease             17008 non-null  object \n",
            " 13  serotypes           10067 non-null  object \n",
            " 14  speciesDescription  15360 non-null  object \n",
            " 15  sumAtRisk           9757 non-null   float64\n",
            " 16  sumCases            14535 non-null  float64\n",
            " 17  sumDeaths           14168 non-null  float64\n",
            " 18  sumDestroyed        13005 non-null  float64\n",
            " 19  sumSlaughtered      12235 non-null  float64\n",
            " 20  humansGenderDesc    360 non-null    object \n",
            " 21  humansAge           1068 non-null   float64\n",
            " 22  humansAffected      1417 non-null   float64\n",
            " 23  humansDeaths        451 non-null    float64\n",
            "dtypes: float64(10), int64(1), object(13)\n",
            "memory usage: 3.1+ MB\n"
          ]
        }
      ],
      "source": [
        "df.info()"
      ]
    },
    {
      "cell_type": "code",
      "execution_count": 81,
      "metadata": {
        "colab": {
          "base_uri": "https://localhost:8080/",
          "height": 0
        },
        "collapsed": true,
        "id": "sTYgCK1i11dE",
        "outputId": "41db9b6d-8623-45fb-ea0b-88e4bd6554c7"
      },
      "outputs": [
        {
          "output_type": "execute_result",
          "data": {
            "text/plain": [
              "                  Id      latitude     longitude     sumAtRisk       sumCases  \\\n",
              "count   17008.000000  17008.000000  17008.000000  9.757000e+03   14535.000000   \n",
              "mean   218823.465075     39.168443     37.774981  7.500692e+03     328.183007   \n",
              "std      7048.338831     16.817821     41.034310  4.427669e+04    5821.929892   \n",
              "min    206270.000000    -36.856210   -146.490000  0.000000e+00       0.000000   \n",
              "25%    212070.750000     32.090000     11.950000  1.100000e+01       1.000000   \n",
              "50%    219591.500000     43.821579     24.511700  9.000000e+01       1.000000   \n",
              "75%    224717.250000     48.102805     43.424390  7.160000e+02       5.000000   \n",
              "max    230399.000000     68.392000    144.847374  2.000000e+06  460000.000000   \n",
              "\n",
              "           sumDeaths   sumDestroyed  sumSlaughtered    humansAge  \\\n",
              "count   14168.000000   13005.000000    12235.000000  1068.000000   \n",
              "mean      199.190147    3765.857978      100.211443    17.701311   \n",
              "std      4109.453986   28355.192298     4341.287763    26.932867   \n",
              "min         0.000000       0.000000        0.000000     0.000000   \n",
              "25%         0.000000       0.000000        0.000000     0.000000   \n",
              "50%         1.000000       0.000000        0.000000     0.000000   \n",
              "75%         2.000000       5.000000        0.000000    41.000000   \n",
              "max    439799.000000  913590.000000   339006.000000    94.000000   \n",
              "\n",
              "       humansAffected  humansDeaths  \n",
              "count     1417.000000    451.000000  \n",
              "mean         1.017643      0.889135  \n",
              "std          0.620142      0.321306  \n",
              "min          0.000000      0.000000  \n",
              "25%          1.000000      1.000000  \n",
              "50%          1.000000      1.000000  \n",
              "75%          1.000000      1.000000  \n",
              "max         24.000000      2.000000  "
            ],
            "text/html": [
              "\n",
              "  <div id=\"df-a8ebfaa1-32af-41d3-8f6d-628e7653337f\" class=\"colab-df-container\">\n",
              "    <div>\n",
              "<style scoped>\n",
              "    .dataframe tbody tr th:only-of-type {\n",
              "        vertical-align: middle;\n",
              "    }\n",
              "\n",
              "    .dataframe tbody tr th {\n",
              "        vertical-align: top;\n",
              "    }\n",
              "\n",
              "    .dataframe thead th {\n",
              "        text-align: right;\n",
              "    }\n",
              "</style>\n",
              "<table border=\"1\" class=\"dataframe\">\n",
              "  <thead>\n",
              "    <tr style=\"text-align: right;\">\n",
              "      <th></th>\n",
              "      <th>Id</th>\n",
              "      <th>latitude</th>\n",
              "      <th>longitude</th>\n",
              "      <th>sumAtRisk</th>\n",
              "      <th>sumCases</th>\n",
              "      <th>sumDeaths</th>\n",
              "      <th>sumDestroyed</th>\n",
              "      <th>sumSlaughtered</th>\n",
              "      <th>humansAge</th>\n",
              "      <th>humansAffected</th>\n",
              "      <th>humansDeaths</th>\n",
              "    </tr>\n",
              "  </thead>\n",
              "  <tbody>\n",
              "    <tr>\n",
              "      <th>count</th>\n",
              "      <td>17008.000000</td>\n",
              "      <td>17008.000000</td>\n",
              "      <td>17008.000000</td>\n",
              "      <td>9.757000e+03</td>\n",
              "      <td>14535.000000</td>\n",
              "      <td>14168.000000</td>\n",
              "      <td>13005.000000</td>\n",
              "      <td>12235.000000</td>\n",
              "      <td>1068.000000</td>\n",
              "      <td>1417.000000</td>\n",
              "      <td>451.000000</td>\n",
              "    </tr>\n",
              "    <tr>\n",
              "      <th>mean</th>\n",
              "      <td>218823.465075</td>\n",
              "      <td>39.168443</td>\n",
              "      <td>37.774981</td>\n",
              "      <td>7.500692e+03</td>\n",
              "      <td>328.183007</td>\n",
              "      <td>199.190147</td>\n",
              "      <td>3765.857978</td>\n",
              "      <td>100.211443</td>\n",
              "      <td>17.701311</td>\n",
              "      <td>1.017643</td>\n",
              "      <td>0.889135</td>\n",
              "    </tr>\n",
              "    <tr>\n",
              "      <th>std</th>\n",
              "      <td>7048.338831</td>\n",
              "      <td>16.817821</td>\n",
              "      <td>41.034310</td>\n",
              "      <td>4.427669e+04</td>\n",
              "      <td>5821.929892</td>\n",
              "      <td>4109.453986</td>\n",
              "      <td>28355.192298</td>\n",
              "      <td>4341.287763</td>\n",
              "      <td>26.932867</td>\n",
              "      <td>0.620142</td>\n",
              "      <td>0.321306</td>\n",
              "    </tr>\n",
              "    <tr>\n",
              "      <th>min</th>\n",
              "      <td>206270.000000</td>\n",
              "      <td>-36.856210</td>\n",
              "      <td>-146.490000</td>\n",
              "      <td>0.000000e+00</td>\n",
              "      <td>0.000000</td>\n",
              "      <td>0.000000</td>\n",
              "      <td>0.000000</td>\n",
              "      <td>0.000000</td>\n",
              "      <td>0.000000</td>\n",
              "      <td>0.000000</td>\n",
              "      <td>0.000000</td>\n",
              "    </tr>\n",
              "    <tr>\n",
              "      <th>25%</th>\n",
              "      <td>212070.750000</td>\n",
              "      <td>32.090000</td>\n",
              "      <td>11.950000</td>\n",
              "      <td>1.100000e+01</td>\n",
              "      <td>1.000000</td>\n",
              "      <td>0.000000</td>\n",
              "      <td>0.000000</td>\n",
              "      <td>0.000000</td>\n",
              "      <td>0.000000</td>\n",
              "      <td>1.000000</td>\n",
              "      <td>1.000000</td>\n",
              "    </tr>\n",
              "    <tr>\n",
              "      <th>50%</th>\n",
              "      <td>219591.500000</td>\n",
              "      <td>43.821579</td>\n",
              "      <td>24.511700</td>\n",
              "      <td>9.000000e+01</td>\n",
              "      <td>1.000000</td>\n",
              "      <td>1.000000</td>\n",
              "      <td>0.000000</td>\n",
              "      <td>0.000000</td>\n",
              "      <td>0.000000</td>\n",
              "      <td>1.000000</td>\n",
              "      <td>1.000000</td>\n",
              "    </tr>\n",
              "    <tr>\n",
              "      <th>75%</th>\n",
              "      <td>224717.250000</td>\n",
              "      <td>48.102805</td>\n",
              "      <td>43.424390</td>\n",
              "      <td>7.160000e+02</td>\n",
              "      <td>5.000000</td>\n",
              "      <td>2.000000</td>\n",
              "      <td>5.000000</td>\n",
              "      <td>0.000000</td>\n",
              "      <td>41.000000</td>\n",
              "      <td>1.000000</td>\n",
              "      <td>1.000000</td>\n",
              "    </tr>\n",
              "    <tr>\n",
              "      <th>max</th>\n",
              "      <td>230399.000000</td>\n",
              "      <td>68.392000</td>\n",
              "      <td>144.847374</td>\n",
              "      <td>2.000000e+06</td>\n",
              "      <td>460000.000000</td>\n",
              "      <td>439799.000000</td>\n",
              "      <td>913590.000000</td>\n",
              "      <td>339006.000000</td>\n",
              "      <td>94.000000</td>\n",
              "      <td>24.000000</td>\n",
              "      <td>2.000000</td>\n",
              "    </tr>\n",
              "  </tbody>\n",
              "</table>\n",
              "</div>\n",
              "    <div class=\"colab-df-buttons\">\n",
              "\n",
              "  <div class=\"colab-df-container\">\n",
              "    <button class=\"colab-df-convert\" onclick=\"convertToInteractive('df-a8ebfaa1-32af-41d3-8f6d-628e7653337f')\"\n",
              "            title=\"Convert this dataframe to an interactive table.\"\n",
              "            style=\"display:none;\">\n",
              "\n",
              "  <svg xmlns=\"http://www.w3.org/2000/svg\" height=\"24px\" viewBox=\"0 -960 960 960\">\n",
              "    <path d=\"M120-120v-720h720v720H120Zm60-500h600v-160H180v160Zm220 220h160v-160H400v160Zm0 220h160v-160H400v160ZM180-400h160v-160H180v160Zm440 0h160v-160H620v160ZM180-180h160v-160H180v160Zm440 0h160v-160H620v160Z\"/>\n",
              "  </svg>\n",
              "    </button>\n",
              "\n",
              "  <style>\n",
              "    .colab-df-container {\n",
              "      display:flex;\n",
              "      gap: 12px;\n",
              "    }\n",
              "\n",
              "    .colab-df-convert {\n",
              "      background-color: #E8F0FE;\n",
              "      border: none;\n",
              "      border-radius: 50%;\n",
              "      cursor: pointer;\n",
              "      display: none;\n",
              "      fill: #1967D2;\n",
              "      height: 32px;\n",
              "      padding: 0 0 0 0;\n",
              "      width: 32px;\n",
              "    }\n",
              "\n",
              "    .colab-df-convert:hover {\n",
              "      background-color: #E2EBFA;\n",
              "      box-shadow: 0px 1px 2px rgba(60, 64, 67, 0.3), 0px 1px 3px 1px rgba(60, 64, 67, 0.15);\n",
              "      fill: #174EA6;\n",
              "    }\n",
              "\n",
              "    .colab-df-buttons div {\n",
              "      margin-bottom: 4px;\n",
              "    }\n",
              "\n",
              "    [theme=dark] .colab-df-convert {\n",
              "      background-color: #3B4455;\n",
              "      fill: #D2E3FC;\n",
              "    }\n",
              "\n",
              "    [theme=dark] .colab-df-convert:hover {\n",
              "      background-color: #434B5C;\n",
              "      box-shadow: 0px 1px 3px 1px rgba(0, 0, 0, 0.15);\n",
              "      filter: drop-shadow(0px 1px 2px rgba(0, 0, 0, 0.3));\n",
              "      fill: #FFFFFF;\n",
              "    }\n",
              "  </style>\n",
              "\n",
              "    <script>\n",
              "      const buttonEl =\n",
              "        document.querySelector('#df-a8ebfaa1-32af-41d3-8f6d-628e7653337f button.colab-df-convert');\n",
              "      buttonEl.style.display =\n",
              "        google.colab.kernel.accessAllowed ? 'block' : 'none';\n",
              "\n",
              "      async function convertToInteractive(key) {\n",
              "        const element = document.querySelector('#df-a8ebfaa1-32af-41d3-8f6d-628e7653337f');\n",
              "        const dataTable =\n",
              "          await google.colab.kernel.invokeFunction('convertToInteractive',\n",
              "                                                    [key], {});\n",
              "        if (!dataTable) return;\n",
              "\n",
              "        const docLinkHtml = 'Like what you see? Visit the ' +\n",
              "          '<a target=\"_blank\" href=https://colab.research.google.com/notebooks/data_table.ipynb>data table notebook</a>'\n",
              "          + ' to learn more about interactive tables.';\n",
              "        element.innerHTML = '';\n",
              "        dataTable['output_type'] = 'display_data';\n",
              "        await google.colab.output.renderOutput(dataTable, element);\n",
              "        const docLink = document.createElement('div');\n",
              "        docLink.innerHTML = docLinkHtml;\n",
              "        element.appendChild(docLink);\n",
              "      }\n",
              "    </script>\n",
              "  </div>\n",
              "\n",
              "\n",
              "    <div id=\"df-dde935a6-11c9-4b7e-a98a-8d9721146383\">\n",
              "      <button class=\"colab-df-quickchart\" onclick=\"quickchart('df-dde935a6-11c9-4b7e-a98a-8d9721146383')\"\n",
              "                title=\"Suggest charts\"\n",
              "                style=\"display:none;\">\n",
              "\n",
              "<svg xmlns=\"http://www.w3.org/2000/svg\" height=\"24px\"viewBox=\"0 0 24 24\"\n",
              "     width=\"24px\">\n",
              "    <g>\n",
              "        <path d=\"M19 3H5c-1.1 0-2 .9-2 2v14c0 1.1.9 2 2 2h14c1.1 0 2-.9 2-2V5c0-1.1-.9-2-2-2zM9 17H7v-7h2v7zm4 0h-2V7h2v10zm4 0h-2v-4h2v4z\"/>\n",
              "    </g>\n",
              "</svg>\n",
              "      </button>\n",
              "\n",
              "<style>\n",
              "  .colab-df-quickchart {\n",
              "      --bg-color: #E8F0FE;\n",
              "      --fill-color: #1967D2;\n",
              "      --hover-bg-color: #E2EBFA;\n",
              "      --hover-fill-color: #174EA6;\n",
              "      --disabled-fill-color: #AAA;\n",
              "      --disabled-bg-color: #DDD;\n",
              "  }\n",
              "\n",
              "  [theme=dark] .colab-df-quickchart {\n",
              "      --bg-color: #3B4455;\n",
              "      --fill-color: #D2E3FC;\n",
              "      --hover-bg-color: #434B5C;\n",
              "      --hover-fill-color: #FFFFFF;\n",
              "      --disabled-bg-color: #3B4455;\n",
              "      --disabled-fill-color: #666;\n",
              "  }\n",
              "\n",
              "  .colab-df-quickchart {\n",
              "    background-color: var(--bg-color);\n",
              "    border: none;\n",
              "    border-radius: 50%;\n",
              "    cursor: pointer;\n",
              "    display: none;\n",
              "    fill: var(--fill-color);\n",
              "    height: 32px;\n",
              "    padding: 0;\n",
              "    width: 32px;\n",
              "  }\n",
              "\n",
              "  .colab-df-quickchart:hover {\n",
              "    background-color: var(--hover-bg-color);\n",
              "    box-shadow: 0 1px 2px rgba(60, 64, 67, 0.3), 0 1px 3px 1px rgba(60, 64, 67, 0.15);\n",
              "    fill: var(--button-hover-fill-color);\n",
              "  }\n",
              "\n",
              "  .colab-df-quickchart-complete:disabled,\n",
              "  .colab-df-quickchart-complete:disabled:hover {\n",
              "    background-color: var(--disabled-bg-color);\n",
              "    fill: var(--disabled-fill-color);\n",
              "    box-shadow: none;\n",
              "  }\n",
              "\n",
              "  .colab-df-spinner {\n",
              "    border: 2px solid var(--fill-color);\n",
              "    border-color: transparent;\n",
              "    border-bottom-color: var(--fill-color);\n",
              "    animation:\n",
              "      spin 1s steps(1) infinite;\n",
              "  }\n",
              "\n",
              "  @keyframes spin {\n",
              "    0% {\n",
              "      border-color: transparent;\n",
              "      border-bottom-color: var(--fill-color);\n",
              "      border-left-color: var(--fill-color);\n",
              "    }\n",
              "    20% {\n",
              "      border-color: transparent;\n",
              "      border-left-color: var(--fill-color);\n",
              "      border-top-color: var(--fill-color);\n",
              "    }\n",
              "    30% {\n",
              "      border-color: transparent;\n",
              "      border-left-color: var(--fill-color);\n",
              "      border-top-color: var(--fill-color);\n",
              "      border-right-color: var(--fill-color);\n",
              "    }\n",
              "    40% {\n",
              "      border-color: transparent;\n",
              "      border-right-color: var(--fill-color);\n",
              "      border-top-color: var(--fill-color);\n",
              "    }\n",
              "    60% {\n",
              "      border-color: transparent;\n",
              "      border-right-color: var(--fill-color);\n",
              "    }\n",
              "    80% {\n",
              "      border-color: transparent;\n",
              "      border-right-color: var(--fill-color);\n",
              "      border-bottom-color: var(--fill-color);\n",
              "    }\n",
              "    90% {\n",
              "      border-color: transparent;\n",
              "      border-bottom-color: var(--fill-color);\n",
              "    }\n",
              "  }\n",
              "</style>\n",
              "\n",
              "      <script>\n",
              "        async function quickchart(key) {\n",
              "          const quickchartButtonEl =\n",
              "            document.querySelector('#' + key + ' button');\n",
              "          quickchartButtonEl.disabled = true;  // To prevent multiple clicks.\n",
              "          quickchartButtonEl.classList.add('colab-df-spinner');\n",
              "          try {\n",
              "            const charts = await google.colab.kernel.invokeFunction(\n",
              "                'suggestCharts', [key], {});\n",
              "          } catch (error) {\n",
              "            console.error('Error during call to suggestCharts:', error);\n",
              "          }\n",
              "          quickchartButtonEl.classList.remove('colab-df-spinner');\n",
              "          quickchartButtonEl.classList.add('colab-df-quickchart-complete');\n",
              "        }\n",
              "        (() => {\n",
              "          let quickchartButtonEl =\n",
              "            document.querySelector('#df-dde935a6-11c9-4b7e-a98a-8d9721146383 button');\n",
              "          quickchartButtonEl.style.display =\n",
              "            google.colab.kernel.accessAllowed ? 'block' : 'none';\n",
              "        })();\n",
              "      </script>\n",
              "    </div>\n",
              "\n",
              "    </div>\n",
              "  </div>\n"
            ],
            "application/vnd.google.colaboratory.intrinsic+json": {
              "type": "dataframe",
              "summary": "{\n  \"name\": \"df\",\n  \"rows\": 8,\n  \"fields\": [\n    {\n      \"column\": \"Id\",\n      \"properties\": {\n        \"dtype\": \"number\",\n        \"std\": 95959.73135408583,\n        \"min\": 7048.338831389658,\n        \"max\": 230399.0,\n        \"num_unique_values\": 8,\n        \"samples\": [\n          218823.4650752587,\n          219591.5,\n          17008.0\n        ],\n        \"semantic_type\": \"\",\n        \"description\": \"\"\n      }\n    },\n    {\n      \"column\": \"latitude\",\n      \"properties\": {\n        \"dtype\": \"number\",\n        \"std\": 6002.631880332846,\n        \"min\": -36.85621,\n        \"max\": 17008.0,\n        \"num_unique_values\": 8,\n        \"samples\": [\n          39.16844290982578,\n          43.821579,\n          17008.0\n        ],\n        \"semantic_type\": \"\",\n        \"description\": \"\"\n      }\n    },\n    {\n      \"column\": \"longitude\",\n      \"properties\": {\n        \"dtype\": \"number\",\n        \"std\": 6005.834837142857,\n        \"min\": -146.49,\n        \"max\": 17008.0,\n        \"num_unique_values\": 8,\n        \"samples\": [\n          37.774981143343034,\n          24.5117,\n          17008.0\n        ],\n        \"semantic_type\": \"\",\n        \"description\": \"\"\n      }\n    },\n    {\n      \"column\": \"sumAtRisk\",\n      \"properties\": {\n        \"dtype\": \"number\",\n        \"std\": 704115.5293662129,\n        \"min\": 0.0,\n        \"max\": 2000000.0,\n        \"num_unique_values\": 8,\n        \"samples\": [\n          7500.6917085169625,\n          90.0,\n          9757.0\n        ],\n        \"semantic_type\": \"\",\n        \"description\": \"\"\n      }\n    },\n    {\n      \"column\": \"sumCases\",\n      \"properties\": {\n        \"dtype\": \"number\",\n        \"std\": 161670.80989221163,\n        \"min\": 0.0,\n        \"max\": 460000.0,\n        \"num_unique_values\": 7,\n        \"samples\": [\n          14535.0,\n          328.1830065359477,\n          5.0\n        ],\n        \"semantic_type\": \"\",\n        \"description\": \"\"\n      }\n    },\n    {\n      \"column\": \"sumDeaths\",\n      \"properties\": {\n        \"dtype\": \"number\",\n        \"std\": 154637.089184507,\n        \"min\": 0.0,\n        \"max\": 439799.0,\n        \"num_unique_values\": 7,\n        \"samples\": [\n          14168.0,\n          199.19014680971202,\n          2.0\n        ],\n        \"semantic_type\": \"\",\n        \"description\": \"\"\n      }\n    },\n    {\n      \"column\": \"sumDestroyed\",\n      \"properties\": {\n        \"dtype\": \"number\",\n        \"std\": 320878.4282996402,\n        \"min\": 0.0,\n        \"max\": 913590.0,\n        \"num_unique_values\": 6,\n        \"samples\": [\n          13005.0,\n          3765.8579777008845,\n          913590.0\n        ],\n        \"semantic_type\": \"\",\n        \"description\": \"\"\n      }\n    },\n    {\n      \"column\": \"sumSlaughtered\",\n      \"properties\": {\n        \"dtype\": \"number\",\n        \"std\": 119091.72038668024,\n        \"min\": 0.0,\n        \"max\": 339006.0,\n        \"num_unique_values\": 5,\n        \"samples\": [\n          100.21144258275439,\n          339006.0,\n          4341.2877632320915\n        ],\n        \"semantic_type\": \"\",\n        \"description\": \"\"\n      }\n    },\n    {\n      \"column\": \"humansAge\",\n      \"properties\": {\n        \"dtype\": \"number\",\n        \"std\": 369.865967153028,\n        \"min\": 0.0,\n        \"max\": 1068.0,\n        \"num_unique_values\": 6,\n        \"samples\": [\n          1068.0,\n          17.70131086142322,\n          94.0\n        ],\n        \"semantic_type\": \"\",\n        \"description\": \"\"\n      }\n    },\n    {\n      \"column\": \"humansAffected\",\n      \"properties\": {\n        \"dtype\": \"number\",\n        \"std\": 499.6049646183985,\n        \"min\": 0.0,\n        \"max\": 1417.0,\n        \"num_unique_values\": 6,\n        \"samples\": [\n          1417.0,\n          1.0176429075511644,\n          24.0\n        ],\n        \"semantic_type\": \"\",\n        \"description\": \"\"\n      }\n    },\n    {\n      \"column\": \"humansDeaths\",\n      \"properties\": {\n        \"dtype\": \"number\",\n        \"std\": 159.1399745067962,\n        \"min\": 0.0,\n        \"max\": 451.0,\n        \"num_unique_values\": 6,\n        \"samples\": [\n          451.0,\n          0.8891352549889135,\n          2.0\n        ],\n        \"semantic_type\": \"\",\n        \"description\": \"\"\n      }\n    }\n  ]\n}"
            }
          },
          "metadata": {},
          "execution_count": 81
        }
      ],
      "source": [
        "df.describe()"
      ]
    },
    {
      "cell_type": "code",
      "execution_count": 82,
      "metadata": {
        "colab": {
          "base_uri": "https://localhost:8080/",
          "height": 0
        },
        "collapsed": true,
        "id": "4a6OrvIucz8X",
        "outputId": "763e6e40-551e-4115-e821-1e5a748fd390"
      },
      "outputs": [
        {
          "output_type": "execute_result",
          "data": {
            "text/plain": [
              "           Id       source   latitude  longitude  region             country  \\\n",
              "0      230399          OIE -27.900000  30.800000  Africa        South Africa   \n",
              "1      230381          OIE  54.837037  73.354155  Europe  Russian Federation   \n",
              "2      230333          OIE -21.077740  30.211620  Africa            Zimbabwe   \n",
              "3      230396          OIE -26.000000  28.300000  Africa        South Africa   \n",
              "4      230371          OIE  49.237900  17.700200  Europe      Czech Republic   \n",
              "...       ...          ...        ...        ...     ...                 ...   \n",
              "17003  207420   FAO-Report   7.289176   8.857676  Africa             Nigeria   \n",
              "17004  207421  FAO officer  15.112823 -23.645005  Africa          Cape Verde   \n",
              "17005  207417   FAO-Report   6.658696   2.489576  Africa               Benin   \n",
              "17006  207418   FAO-Report   7.143645   3.278189  Africa             Nigeria   \n",
              "17007  207416   FAO-Report   5.413067  -4.068581  Africa       Côte d'Ivoire   \n",
              "\n",
              "                             admin1                  localityName  \\\n",
              "0                     KwaZulu-Natal            HPAI_H5N8_2017_019   \n",
              "1                    Omskaya Oblast                Novaya Stanica   \n",
              "2                          Masvingo                        Mwambe   \n",
              "3                           Gauteng            HPAI_H5N8_2017_020   \n",
              "4                      Jihomoravsky                       Hvozdná   \n",
              "...                             ...                           ...   \n",
              "17003                         Benue                         Benue   \n",
              "17004                      Santiago                      Santiago   \n",
              "17005                         Oueme                         Oueme   \n",
              "17006                          Ogun                          Ogun   \n",
              "17007  District autonome de Abidjan  District autonome de Abidjan   \n",
              "\n",
              "       localityQuality observationDate  ...          speciesDescription  \\\n",
              "0                Exact      17/08/2017  ...  domestic, unspecified bird   \n",
              "1                Exact      16/08/2017  ...             domestic, swine   \n",
              "2                Exact      16/08/2017  ...            domestic, cattle   \n",
              "3                Exact      15/08/2017  ...      wild, unspecified bird   \n",
              "4                Exact      15/08/2017  ...             wild, wild boar   \n",
              "...                ...             ...  ...                         ...   \n",
              "17003  Centroid Admin1      01/06/1998  ...             domestic, swine   \n",
              "17004  Centroid Admin1      01/01/1998  ...             domestic, swine   \n",
              "17005  Centroid Admin1      01/12/1997  ...             domestic, swine   \n",
              "17006  Centroid Admin1      01/09/1997  ...             domestic, swine   \n",
              "17007  Centroid Admin1      16/04/1996  ...             domestic, swine   \n",
              "\n",
              "      sumAtRisk sumCases sumDeaths sumDestroyed  sumSlaughtered  \\\n",
              "0      248000.0     12.0      12.0      50000.0             0.0   \n",
              "1         122.0      6.0       1.0          0.0             0.0   \n",
              "2        1283.0    112.0       0.0          NaN             7.0   \n",
              "3           NaN      1.0       1.0          0.0             0.0   \n",
              "4           NaN      1.0       1.0          NaN             NaN   \n",
              "...         ...      ...       ...          ...             ...   \n",
              "17003       NaN      NaN       NaN          NaN             NaN   \n",
              "17004       NaN      NaN       NaN          NaN             NaN   \n",
              "17005       NaN      NaN       NaN          NaN             NaN   \n",
              "17006       NaN      NaN       NaN          NaN             NaN   \n",
              "17007       NaN      NaN       NaN          NaN             NaN   \n",
              "\n",
              "       humansGenderDesc  humansAge  humansAffected  humansDeaths  \n",
              "0                   NaN        0.0             NaN           NaN  \n",
              "1                   NaN        NaN             NaN           NaN  \n",
              "2                   NaN        NaN             NaN           NaN  \n",
              "3                   NaN        0.0             NaN           NaN  \n",
              "4                   NaN        NaN             NaN           NaN  \n",
              "...                 ...        ...             ...           ...  \n",
              "17003               NaN        NaN             NaN           NaN  \n",
              "17004               NaN        NaN             NaN           NaN  \n",
              "17005               NaN        NaN             NaN           NaN  \n",
              "17006               NaN        NaN             NaN           NaN  \n",
              "17007               NaN        NaN             NaN           NaN  \n",
              "\n",
              "[17008 rows x 24 columns]"
            ],
            "text/html": [
              "\n",
              "  <div id=\"df-6d5c4851-222c-474a-8119-574414c32e1f\" class=\"colab-df-container\">\n",
              "    <div>\n",
              "<style scoped>\n",
              "    .dataframe tbody tr th:only-of-type {\n",
              "        vertical-align: middle;\n",
              "    }\n",
              "\n",
              "    .dataframe tbody tr th {\n",
              "        vertical-align: top;\n",
              "    }\n",
              "\n",
              "    .dataframe thead th {\n",
              "        text-align: right;\n",
              "    }\n",
              "</style>\n",
              "<table border=\"1\" class=\"dataframe\">\n",
              "  <thead>\n",
              "    <tr style=\"text-align: right;\">\n",
              "      <th></th>\n",
              "      <th>Id</th>\n",
              "      <th>source</th>\n",
              "      <th>latitude</th>\n",
              "      <th>longitude</th>\n",
              "      <th>region</th>\n",
              "      <th>country</th>\n",
              "      <th>admin1</th>\n",
              "      <th>localityName</th>\n",
              "      <th>localityQuality</th>\n",
              "      <th>observationDate</th>\n",
              "      <th>...</th>\n",
              "      <th>speciesDescription</th>\n",
              "      <th>sumAtRisk</th>\n",
              "      <th>sumCases</th>\n",
              "      <th>sumDeaths</th>\n",
              "      <th>sumDestroyed</th>\n",
              "      <th>sumSlaughtered</th>\n",
              "      <th>humansGenderDesc</th>\n",
              "      <th>humansAge</th>\n",
              "      <th>humansAffected</th>\n",
              "      <th>humansDeaths</th>\n",
              "    </tr>\n",
              "  </thead>\n",
              "  <tbody>\n",
              "    <tr>\n",
              "      <th>0</th>\n",
              "      <td>230399</td>\n",
              "      <td>OIE</td>\n",
              "      <td>-27.900000</td>\n",
              "      <td>30.800000</td>\n",
              "      <td>Africa</td>\n",
              "      <td>South Africa</td>\n",
              "      <td>KwaZulu-Natal</td>\n",
              "      <td>HPAI_H5N8_2017_019</td>\n",
              "      <td>Exact</td>\n",
              "      <td>17/08/2017</td>\n",
              "      <td>...</td>\n",
              "      <td>domestic, unspecified bird</td>\n",
              "      <td>248000.0</td>\n",
              "      <td>12.0</td>\n",
              "      <td>12.0</td>\n",
              "      <td>50000.0</td>\n",
              "      <td>0.0</td>\n",
              "      <td>NaN</td>\n",
              "      <td>0.0</td>\n",
              "      <td>NaN</td>\n",
              "      <td>NaN</td>\n",
              "    </tr>\n",
              "    <tr>\n",
              "      <th>1</th>\n",
              "      <td>230381</td>\n",
              "      <td>OIE</td>\n",
              "      <td>54.837037</td>\n",
              "      <td>73.354155</td>\n",
              "      <td>Europe</td>\n",
              "      <td>Russian Federation</td>\n",
              "      <td>Omskaya Oblast</td>\n",
              "      <td>Novaya Stanica</td>\n",
              "      <td>Exact</td>\n",
              "      <td>16/08/2017</td>\n",
              "      <td>...</td>\n",
              "      <td>domestic, swine</td>\n",
              "      <td>122.0</td>\n",
              "      <td>6.0</td>\n",
              "      <td>1.0</td>\n",
              "      <td>0.0</td>\n",
              "      <td>0.0</td>\n",
              "      <td>NaN</td>\n",
              "      <td>NaN</td>\n",
              "      <td>NaN</td>\n",
              "      <td>NaN</td>\n",
              "    </tr>\n",
              "    <tr>\n",
              "      <th>2</th>\n",
              "      <td>230333</td>\n",
              "      <td>OIE</td>\n",
              "      <td>-21.077740</td>\n",
              "      <td>30.211620</td>\n",
              "      <td>Africa</td>\n",
              "      <td>Zimbabwe</td>\n",
              "      <td>Masvingo</td>\n",
              "      <td>Mwambe</td>\n",
              "      <td>Exact</td>\n",
              "      <td>16/08/2017</td>\n",
              "      <td>...</td>\n",
              "      <td>domestic, cattle</td>\n",
              "      <td>1283.0</td>\n",
              "      <td>112.0</td>\n",
              "      <td>0.0</td>\n",
              "      <td>NaN</td>\n",
              "      <td>7.0</td>\n",
              "      <td>NaN</td>\n",
              "      <td>NaN</td>\n",
              "      <td>NaN</td>\n",
              "      <td>NaN</td>\n",
              "    </tr>\n",
              "    <tr>\n",
              "      <th>3</th>\n",
              "      <td>230396</td>\n",
              "      <td>OIE</td>\n",
              "      <td>-26.000000</td>\n",
              "      <td>28.300000</td>\n",
              "      <td>Africa</td>\n",
              "      <td>South Africa</td>\n",
              "      <td>Gauteng</td>\n",
              "      <td>HPAI_H5N8_2017_020</td>\n",
              "      <td>Exact</td>\n",
              "      <td>15/08/2017</td>\n",
              "      <td>...</td>\n",
              "      <td>wild, unspecified bird</td>\n",
              "      <td>NaN</td>\n",
              "      <td>1.0</td>\n",
              "      <td>1.0</td>\n",
              "      <td>0.0</td>\n",
              "      <td>0.0</td>\n",
              "      <td>NaN</td>\n",
              "      <td>0.0</td>\n",
              "      <td>NaN</td>\n",
              "      <td>NaN</td>\n",
              "    </tr>\n",
              "    <tr>\n",
              "      <th>4</th>\n",
              "      <td>230371</td>\n",
              "      <td>OIE</td>\n",
              "      <td>49.237900</td>\n",
              "      <td>17.700200</td>\n",
              "      <td>Europe</td>\n",
              "      <td>Czech Republic</td>\n",
              "      <td>Jihomoravsky</td>\n",
              "      <td>Hvozdná</td>\n",
              "      <td>Exact</td>\n",
              "      <td>15/08/2017</td>\n",
              "      <td>...</td>\n",
              "      <td>wild, wild boar</td>\n",
              "      <td>NaN</td>\n",
              "      <td>1.0</td>\n",
              "      <td>1.0</td>\n",
              "      <td>NaN</td>\n",
              "      <td>NaN</td>\n",
              "      <td>NaN</td>\n",
              "      <td>NaN</td>\n",
              "      <td>NaN</td>\n",
              "      <td>NaN</td>\n",
              "    </tr>\n",
              "    <tr>\n",
              "      <th>...</th>\n",
              "      <td>...</td>\n",
              "      <td>...</td>\n",
              "      <td>...</td>\n",
              "      <td>...</td>\n",
              "      <td>...</td>\n",
              "      <td>...</td>\n",
              "      <td>...</td>\n",
              "      <td>...</td>\n",
              "      <td>...</td>\n",
              "      <td>...</td>\n",
              "      <td>...</td>\n",
              "      <td>...</td>\n",
              "      <td>...</td>\n",
              "      <td>...</td>\n",
              "      <td>...</td>\n",
              "      <td>...</td>\n",
              "      <td>...</td>\n",
              "      <td>...</td>\n",
              "      <td>...</td>\n",
              "      <td>...</td>\n",
              "      <td>...</td>\n",
              "    </tr>\n",
              "    <tr>\n",
              "      <th>17003</th>\n",
              "      <td>207420</td>\n",
              "      <td>FAO-Report</td>\n",
              "      <td>7.289176</td>\n",
              "      <td>8.857676</td>\n",
              "      <td>Africa</td>\n",
              "      <td>Nigeria</td>\n",
              "      <td>Benue</td>\n",
              "      <td>Benue</td>\n",
              "      <td>Centroid Admin1</td>\n",
              "      <td>01/06/1998</td>\n",
              "      <td>...</td>\n",
              "      <td>domestic, swine</td>\n",
              "      <td>NaN</td>\n",
              "      <td>NaN</td>\n",
              "      <td>NaN</td>\n",
              "      <td>NaN</td>\n",
              "      <td>NaN</td>\n",
              "      <td>NaN</td>\n",
              "      <td>NaN</td>\n",
              "      <td>NaN</td>\n",
              "      <td>NaN</td>\n",
              "    </tr>\n",
              "    <tr>\n",
              "      <th>17004</th>\n",
              "      <td>207421</td>\n",
              "      <td>FAO officer</td>\n",
              "      <td>15.112823</td>\n",
              "      <td>-23.645005</td>\n",
              "      <td>Africa</td>\n",
              "      <td>Cape Verde</td>\n",
              "      <td>Santiago</td>\n",
              "      <td>Santiago</td>\n",
              "      <td>Centroid Admin1</td>\n",
              "      <td>01/01/1998</td>\n",
              "      <td>...</td>\n",
              "      <td>domestic, swine</td>\n",
              "      <td>NaN</td>\n",
              "      <td>NaN</td>\n",
              "      <td>NaN</td>\n",
              "      <td>NaN</td>\n",
              "      <td>NaN</td>\n",
              "      <td>NaN</td>\n",
              "      <td>NaN</td>\n",
              "      <td>NaN</td>\n",
              "      <td>NaN</td>\n",
              "    </tr>\n",
              "    <tr>\n",
              "      <th>17005</th>\n",
              "      <td>207417</td>\n",
              "      <td>FAO-Report</td>\n",
              "      <td>6.658696</td>\n",
              "      <td>2.489576</td>\n",
              "      <td>Africa</td>\n",
              "      <td>Benin</td>\n",
              "      <td>Oueme</td>\n",
              "      <td>Oueme</td>\n",
              "      <td>Centroid Admin1</td>\n",
              "      <td>01/12/1997</td>\n",
              "      <td>...</td>\n",
              "      <td>domestic, swine</td>\n",
              "      <td>NaN</td>\n",
              "      <td>NaN</td>\n",
              "      <td>NaN</td>\n",
              "      <td>NaN</td>\n",
              "      <td>NaN</td>\n",
              "      <td>NaN</td>\n",
              "      <td>NaN</td>\n",
              "      <td>NaN</td>\n",
              "      <td>NaN</td>\n",
              "    </tr>\n",
              "    <tr>\n",
              "      <th>17006</th>\n",
              "      <td>207418</td>\n",
              "      <td>FAO-Report</td>\n",
              "      <td>7.143645</td>\n",
              "      <td>3.278189</td>\n",
              "      <td>Africa</td>\n",
              "      <td>Nigeria</td>\n",
              "      <td>Ogun</td>\n",
              "      <td>Ogun</td>\n",
              "      <td>Centroid Admin1</td>\n",
              "      <td>01/09/1997</td>\n",
              "      <td>...</td>\n",
              "      <td>domestic, swine</td>\n",
              "      <td>NaN</td>\n",
              "      <td>NaN</td>\n",
              "      <td>NaN</td>\n",
              "      <td>NaN</td>\n",
              "      <td>NaN</td>\n",
              "      <td>NaN</td>\n",
              "      <td>NaN</td>\n",
              "      <td>NaN</td>\n",
              "      <td>NaN</td>\n",
              "    </tr>\n",
              "    <tr>\n",
              "      <th>17007</th>\n",
              "      <td>207416</td>\n",
              "      <td>FAO-Report</td>\n",
              "      <td>5.413067</td>\n",
              "      <td>-4.068581</td>\n",
              "      <td>Africa</td>\n",
              "      <td>Côte d'Ivoire</td>\n",
              "      <td>District autonome de Abidjan</td>\n",
              "      <td>District autonome de Abidjan</td>\n",
              "      <td>Centroid Admin1</td>\n",
              "      <td>16/04/1996</td>\n",
              "      <td>...</td>\n",
              "      <td>domestic, swine</td>\n",
              "      <td>NaN</td>\n",
              "      <td>NaN</td>\n",
              "      <td>NaN</td>\n",
              "      <td>NaN</td>\n",
              "      <td>NaN</td>\n",
              "      <td>NaN</td>\n",
              "      <td>NaN</td>\n",
              "      <td>NaN</td>\n",
              "      <td>NaN</td>\n",
              "    </tr>\n",
              "  </tbody>\n",
              "</table>\n",
              "<p>17008 rows × 24 columns</p>\n",
              "</div>\n",
              "    <div class=\"colab-df-buttons\">\n",
              "\n",
              "  <div class=\"colab-df-container\">\n",
              "    <button class=\"colab-df-convert\" onclick=\"convertToInteractive('df-6d5c4851-222c-474a-8119-574414c32e1f')\"\n",
              "            title=\"Convert this dataframe to an interactive table.\"\n",
              "            style=\"display:none;\">\n",
              "\n",
              "  <svg xmlns=\"http://www.w3.org/2000/svg\" height=\"24px\" viewBox=\"0 -960 960 960\">\n",
              "    <path d=\"M120-120v-720h720v720H120Zm60-500h600v-160H180v160Zm220 220h160v-160H400v160Zm0 220h160v-160H400v160ZM180-400h160v-160H180v160Zm440 0h160v-160H620v160ZM180-180h160v-160H180v160Zm440 0h160v-160H620v160Z\"/>\n",
              "  </svg>\n",
              "    </button>\n",
              "\n",
              "  <style>\n",
              "    .colab-df-container {\n",
              "      display:flex;\n",
              "      gap: 12px;\n",
              "    }\n",
              "\n",
              "    .colab-df-convert {\n",
              "      background-color: #E8F0FE;\n",
              "      border: none;\n",
              "      border-radius: 50%;\n",
              "      cursor: pointer;\n",
              "      display: none;\n",
              "      fill: #1967D2;\n",
              "      height: 32px;\n",
              "      padding: 0 0 0 0;\n",
              "      width: 32px;\n",
              "    }\n",
              "\n",
              "    .colab-df-convert:hover {\n",
              "      background-color: #E2EBFA;\n",
              "      box-shadow: 0px 1px 2px rgba(60, 64, 67, 0.3), 0px 1px 3px 1px rgba(60, 64, 67, 0.15);\n",
              "      fill: #174EA6;\n",
              "    }\n",
              "\n",
              "    .colab-df-buttons div {\n",
              "      margin-bottom: 4px;\n",
              "    }\n",
              "\n",
              "    [theme=dark] .colab-df-convert {\n",
              "      background-color: #3B4455;\n",
              "      fill: #D2E3FC;\n",
              "    }\n",
              "\n",
              "    [theme=dark] .colab-df-convert:hover {\n",
              "      background-color: #434B5C;\n",
              "      box-shadow: 0px 1px 3px 1px rgba(0, 0, 0, 0.15);\n",
              "      filter: drop-shadow(0px 1px 2px rgba(0, 0, 0, 0.3));\n",
              "      fill: #FFFFFF;\n",
              "    }\n",
              "  </style>\n",
              "\n",
              "    <script>\n",
              "      const buttonEl =\n",
              "        document.querySelector('#df-6d5c4851-222c-474a-8119-574414c32e1f button.colab-df-convert');\n",
              "      buttonEl.style.display =\n",
              "        google.colab.kernel.accessAllowed ? 'block' : 'none';\n",
              "\n",
              "      async function convertToInteractive(key) {\n",
              "        const element = document.querySelector('#df-6d5c4851-222c-474a-8119-574414c32e1f');\n",
              "        const dataTable =\n",
              "          await google.colab.kernel.invokeFunction('convertToInteractive',\n",
              "                                                    [key], {});\n",
              "        if (!dataTable) return;\n",
              "\n",
              "        const docLinkHtml = 'Like what you see? Visit the ' +\n",
              "          '<a target=\"_blank\" href=https://colab.research.google.com/notebooks/data_table.ipynb>data table notebook</a>'\n",
              "          + ' to learn more about interactive tables.';\n",
              "        element.innerHTML = '';\n",
              "        dataTable['output_type'] = 'display_data';\n",
              "        await google.colab.output.renderOutput(dataTable, element);\n",
              "        const docLink = document.createElement('div');\n",
              "        docLink.innerHTML = docLinkHtml;\n",
              "        element.appendChild(docLink);\n",
              "      }\n",
              "    </script>\n",
              "  </div>\n",
              "\n",
              "\n",
              "    <div id=\"df-38ff0f04-162b-4583-865b-f2fdacf5637a\">\n",
              "      <button class=\"colab-df-quickchart\" onclick=\"quickchart('df-38ff0f04-162b-4583-865b-f2fdacf5637a')\"\n",
              "                title=\"Suggest charts\"\n",
              "                style=\"display:none;\">\n",
              "\n",
              "<svg xmlns=\"http://www.w3.org/2000/svg\" height=\"24px\"viewBox=\"0 0 24 24\"\n",
              "     width=\"24px\">\n",
              "    <g>\n",
              "        <path d=\"M19 3H5c-1.1 0-2 .9-2 2v14c0 1.1.9 2 2 2h14c1.1 0 2-.9 2-2V5c0-1.1-.9-2-2-2zM9 17H7v-7h2v7zm4 0h-2V7h2v10zm4 0h-2v-4h2v4z\"/>\n",
              "    </g>\n",
              "</svg>\n",
              "      </button>\n",
              "\n",
              "<style>\n",
              "  .colab-df-quickchart {\n",
              "      --bg-color: #E8F0FE;\n",
              "      --fill-color: #1967D2;\n",
              "      --hover-bg-color: #E2EBFA;\n",
              "      --hover-fill-color: #174EA6;\n",
              "      --disabled-fill-color: #AAA;\n",
              "      --disabled-bg-color: #DDD;\n",
              "  }\n",
              "\n",
              "  [theme=dark] .colab-df-quickchart {\n",
              "      --bg-color: #3B4455;\n",
              "      --fill-color: #D2E3FC;\n",
              "      --hover-bg-color: #434B5C;\n",
              "      --hover-fill-color: #FFFFFF;\n",
              "      --disabled-bg-color: #3B4455;\n",
              "      --disabled-fill-color: #666;\n",
              "  }\n",
              "\n",
              "  .colab-df-quickchart {\n",
              "    background-color: var(--bg-color);\n",
              "    border: none;\n",
              "    border-radius: 50%;\n",
              "    cursor: pointer;\n",
              "    display: none;\n",
              "    fill: var(--fill-color);\n",
              "    height: 32px;\n",
              "    padding: 0;\n",
              "    width: 32px;\n",
              "  }\n",
              "\n",
              "  .colab-df-quickchart:hover {\n",
              "    background-color: var(--hover-bg-color);\n",
              "    box-shadow: 0 1px 2px rgba(60, 64, 67, 0.3), 0 1px 3px 1px rgba(60, 64, 67, 0.15);\n",
              "    fill: var(--button-hover-fill-color);\n",
              "  }\n",
              "\n",
              "  .colab-df-quickchart-complete:disabled,\n",
              "  .colab-df-quickchart-complete:disabled:hover {\n",
              "    background-color: var(--disabled-bg-color);\n",
              "    fill: var(--disabled-fill-color);\n",
              "    box-shadow: none;\n",
              "  }\n",
              "\n",
              "  .colab-df-spinner {\n",
              "    border: 2px solid var(--fill-color);\n",
              "    border-color: transparent;\n",
              "    border-bottom-color: var(--fill-color);\n",
              "    animation:\n",
              "      spin 1s steps(1) infinite;\n",
              "  }\n",
              "\n",
              "  @keyframes spin {\n",
              "    0% {\n",
              "      border-color: transparent;\n",
              "      border-bottom-color: var(--fill-color);\n",
              "      border-left-color: var(--fill-color);\n",
              "    }\n",
              "    20% {\n",
              "      border-color: transparent;\n",
              "      border-left-color: var(--fill-color);\n",
              "      border-top-color: var(--fill-color);\n",
              "    }\n",
              "    30% {\n",
              "      border-color: transparent;\n",
              "      border-left-color: var(--fill-color);\n",
              "      border-top-color: var(--fill-color);\n",
              "      border-right-color: var(--fill-color);\n",
              "    }\n",
              "    40% {\n",
              "      border-color: transparent;\n",
              "      border-right-color: var(--fill-color);\n",
              "      border-top-color: var(--fill-color);\n",
              "    }\n",
              "    60% {\n",
              "      border-color: transparent;\n",
              "      border-right-color: var(--fill-color);\n",
              "    }\n",
              "    80% {\n",
              "      border-color: transparent;\n",
              "      border-right-color: var(--fill-color);\n",
              "      border-bottom-color: var(--fill-color);\n",
              "    }\n",
              "    90% {\n",
              "      border-color: transparent;\n",
              "      border-bottom-color: var(--fill-color);\n",
              "    }\n",
              "  }\n",
              "</style>\n",
              "\n",
              "      <script>\n",
              "        async function quickchart(key) {\n",
              "          const quickchartButtonEl =\n",
              "            document.querySelector('#' + key + ' button');\n",
              "          quickchartButtonEl.disabled = true;  // To prevent multiple clicks.\n",
              "          quickchartButtonEl.classList.add('colab-df-spinner');\n",
              "          try {\n",
              "            const charts = await google.colab.kernel.invokeFunction(\n",
              "                'suggestCharts', [key], {});\n",
              "          } catch (error) {\n",
              "            console.error('Error during call to suggestCharts:', error);\n",
              "          }\n",
              "          quickchartButtonEl.classList.remove('colab-df-spinner');\n",
              "          quickchartButtonEl.classList.add('colab-df-quickchart-complete');\n",
              "        }\n",
              "        (() => {\n",
              "          let quickchartButtonEl =\n",
              "            document.querySelector('#df-38ff0f04-162b-4583-865b-f2fdacf5637a button');\n",
              "          quickchartButtonEl.style.display =\n",
              "            google.colab.kernel.accessAllowed ? 'block' : 'none';\n",
              "        })();\n",
              "      </script>\n",
              "    </div>\n",
              "\n",
              "  <div id=\"id_ca154b31-a527-4d33-9ac9-3612cfdeb000\">\n",
              "    <style>\n",
              "      .colab-df-generate {\n",
              "        background-color: #E8F0FE;\n",
              "        border: none;\n",
              "        border-radius: 50%;\n",
              "        cursor: pointer;\n",
              "        display: none;\n",
              "        fill: #1967D2;\n",
              "        height: 32px;\n",
              "        padding: 0 0 0 0;\n",
              "        width: 32px;\n",
              "      }\n",
              "\n",
              "      .colab-df-generate:hover {\n",
              "        background-color: #E2EBFA;\n",
              "        box-shadow: 0px 1px 2px rgba(60, 64, 67, 0.3), 0px 1px 3px 1px rgba(60, 64, 67, 0.15);\n",
              "        fill: #174EA6;\n",
              "      }\n",
              "\n",
              "      [theme=dark] .colab-df-generate {\n",
              "        background-color: #3B4455;\n",
              "        fill: #D2E3FC;\n",
              "      }\n",
              "\n",
              "      [theme=dark] .colab-df-generate:hover {\n",
              "        background-color: #434B5C;\n",
              "        box-shadow: 0px 1px 3px 1px rgba(0, 0, 0, 0.15);\n",
              "        filter: drop-shadow(0px 1px 2px rgba(0, 0, 0, 0.3));\n",
              "        fill: #FFFFFF;\n",
              "      }\n",
              "    </style>\n",
              "    <button class=\"colab-df-generate\" onclick=\"generateWithVariable('df')\"\n",
              "            title=\"Generate code using this dataframe.\"\n",
              "            style=\"display:none;\">\n",
              "\n",
              "  <svg xmlns=\"http://www.w3.org/2000/svg\" height=\"24px\"viewBox=\"0 0 24 24\"\n",
              "       width=\"24px\">\n",
              "    <path d=\"M7,19H8.4L18.45,9,17,7.55,7,17.6ZM5,21V16.75L18.45,3.32a2,2,0,0,1,2.83,0l1.4,1.43a1.91,1.91,0,0,1,.58,1.4,1.91,1.91,0,0,1-.58,1.4L9.25,21ZM18.45,9,17,7.55Zm-12,3A5.31,5.31,0,0,0,4.9,8.1,5.31,5.31,0,0,0,1,6.5,5.31,5.31,0,0,0,4.9,4.9,5.31,5.31,0,0,0,6.5,1,5.31,5.31,0,0,0,8.1,4.9,5.31,5.31,0,0,0,12,6.5,5.46,5.46,0,0,0,6.5,12Z\"/>\n",
              "  </svg>\n",
              "    </button>\n",
              "    <script>\n",
              "      (() => {\n",
              "      const buttonEl =\n",
              "        document.querySelector('#id_ca154b31-a527-4d33-9ac9-3612cfdeb000 button.colab-df-generate');\n",
              "      buttonEl.style.display =\n",
              "        google.colab.kernel.accessAllowed ? 'block' : 'none';\n",
              "\n",
              "      buttonEl.onclick = () => {\n",
              "        google.colab.notebook.generateWithVariable('df');\n",
              "      }\n",
              "      })();\n",
              "    </script>\n",
              "  </div>\n",
              "\n",
              "    </div>\n",
              "  </div>\n"
            ],
            "application/vnd.google.colaboratory.intrinsic+json": {
              "type": "dataframe",
              "variable_name": "df"
            }
          },
          "metadata": {},
          "execution_count": 82
        }
      ],
      "source": [
        "df"
      ]
    },
    {
      "cell_type": "markdown",
      "metadata": {
        "id": "KPrVtODJHQwZ"
      },
      "source": [
        "#2. Tiền xử lý dữ liệu"
      ]
    },
    {
      "cell_type": "markdown",
      "metadata": {
        "id": "WdTsNJ0UMmT_"
      },
      "source": [
        "\n",
        "## 2.1. Đổi tên cột"
      ]
    },
    {
      "cell_type": "code",
      "execution_count": 83,
      "metadata": {
        "colab": {
          "base_uri": "https://localhost:8080/"
        },
        "collapsed": true,
        "id": "_0fR7P5tHasH",
        "outputId": "3068524d-e93d-4d8c-ed11-ee609c687553"
      },
      "outputs": [
        {
          "output_type": "stream",
          "name": "stdout",
          "text": [
            "<class 'pandas.core.frame.DataFrame'>\n",
            "RangeIndex: 17008 entries, 0 to 17007\n",
            "Data columns (total 24 columns):\n",
            " #   Column               Non-Null Count  Dtype  \n",
            "---  ------               --------------  -----  \n",
            " 0   Id                   17008 non-null  int64  \n",
            " 1   Source               17008 non-null  object \n",
            " 2   Latitude             17008 non-null  float64\n",
            " 3   Longitude            17008 non-null  float64\n",
            " 4   Region               17008 non-null  object \n",
            " 5   Country              17008 non-null  object \n",
            " 6   Admin                17008 non-null  object \n",
            " 7   Locality Name        17008 non-null  object \n",
            " 8   Locality Quality     17008 non-null  object \n",
            " 9   Observation Date     16506 non-null  object \n",
            " 10  Reporting Date       17008 non-null  object \n",
            " 11  Status               17008 non-null  object \n",
            " 12  Disease              17008 non-null  object \n",
            " 13  Serotypes            10067 non-null  object \n",
            " 14  Species Description  15360 non-null  object \n",
            " 15  Sum At Risk          9757 non-null   float64\n",
            " 16  Sum Cases            14535 non-null  float64\n",
            " 17  Sum Deaths           14168 non-null  float64\n",
            " 18  Sum Destroyed        13005 non-null  float64\n",
            " 19  Sum Slaughtered      12235 non-null  float64\n",
            " 20  Humans Gender Desc   360 non-null    object \n",
            " 21  Humans Age           1068 non-null   float64\n",
            " 22  Humans Affected      1417 non-null   float64\n",
            " 23  Humans Deaths        451 non-null    float64\n",
            "dtypes: float64(10), int64(1), object(13)\n",
            "memory usage: 3.1+ MB\n"
          ]
        }
      ],
      "source": [
        "df.rename(columns={\n",
        "    'source': 'Source',\n",
        "    'latitude':'Latitude',\n",
        "    'longitude':'Longitude',\n",
        "    'region':'Region',\n",
        "    'country':'Country',\n",
        "    'admin1':'Admin',\n",
        "    'localityName':'Locality Name',\n",
        "    'localityQuality':'Locality Quality',\n",
        "    'observationDate':'Observation Date',\n",
        "    'reportingDate':'Reporting Date',\n",
        "    'status':'Status',\n",
        "    'disease':'Disease',\n",
        "    'serotypes':'Serotypes',\n",
        "    'speciesDescription':'Species Description',\n",
        "    'sumAtRisk':'Sum At Risk',\n",
        "    'sumCases':'Sum Cases',\n",
        "    'sumDeaths':'Sum Deaths',\n",
        "    'sumDestroyed':'Sum Destroyed',\n",
        "    'sumSlaughtered':'Sum Slaughtered',\n",
        "    'humansGenderDesc':'Humans Gender Desc',\n",
        "    'humansAge':'Humans Age',\n",
        "    'humansAffected':'Humans Affected',\n",
        "    'humansDeaths':'Humans Deaths'\n",
        "}, inplace=True)\n",
        "df.info()"
      ]
    },
    {
      "cell_type": "markdown",
      "metadata": {
        "id": "jS0bg94zKXBn"
      },
      "source": [
        "## 2.2. Xóa dữ liệu trùng lặp"
      ]
    },
    {
      "cell_type": "code",
      "execution_count": 84,
      "metadata": {
        "id": "XH511R4IKVWs"
      },
      "outputs": [],
      "source": [
        "df.drop_duplicates(inplace=True)"
      ]
    },
    {
      "cell_type": "markdown",
      "metadata": {
        "id": "7oZW1jhmSqWU"
      },
      "source": [
        "## 2.3. Tổng số cột chứa null"
      ]
    },
    {
      "cell_type": "code",
      "execution_count": 85,
      "metadata": {
        "colab": {
          "base_uri": "https://localhost:8080/",
          "height": 0
        },
        "id": "-GqZsmyqSz5Q",
        "outputId": "e62c41ef-f416-4b06-ec9f-8a2e8e4d9c3c"
      },
      "outputs": [
        {
          "output_type": "execute_result",
          "data": {
            "text/plain": [
              "Id                         0\n",
              "Source                     0\n",
              "Latitude                   0\n",
              "Longitude                  0\n",
              "Region                     0\n",
              "Country                    0\n",
              "Admin                      0\n",
              "Locality Name              0\n",
              "Locality Quality           0\n",
              "Observation Date         502\n",
              "Reporting Date             0\n",
              "Status                     0\n",
              "Disease                    0\n",
              "Serotypes               6941\n",
              "Species Description     1648\n",
              "Sum At Risk             7251\n",
              "Sum Cases               2473\n",
              "Sum Deaths              2840\n",
              "Sum Destroyed           4003\n",
              "Sum Slaughtered         4773\n",
              "Humans Gender Desc     16648\n",
              "Humans Age             15940\n",
              "Humans Affected        15591\n",
              "Humans Deaths          16557\n",
              "dtype: int64"
            ],
            "text/html": [
              "<div>\n",
              "<style scoped>\n",
              "    .dataframe tbody tr th:only-of-type {\n",
              "        vertical-align: middle;\n",
              "    }\n",
              "\n",
              "    .dataframe tbody tr th {\n",
              "        vertical-align: top;\n",
              "    }\n",
              "\n",
              "    .dataframe thead th {\n",
              "        text-align: right;\n",
              "    }\n",
              "</style>\n",
              "<table border=\"1\" class=\"dataframe\">\n",
              "  <thead>\n",
              "    <tr style=\"text-align: right;\">\n",
              "      <th></th>\n",
              "      <th>0</th>\n",
              "    </tr>\n",
              "  </thead>\n",
              "  <tbody>\n",
              "    <tr>\n",
              "      <th>Id</th>\n",
              "      <td>0</td>\n",
              "    </tr>\n",
              "    <tr>\n",
              "      <th>Source</th>\n",
              "      <td>0</td>\n",
              "    </tr>\n",
              "    <tr>\n",
              "      <th>Latitude</th>\n",
              "      <td>0</td>\n",
              "    </tr>\n",
              "    <tr>\n",
              "      <th>Longitude</th>\n",
              "      <td>0</td>\n",
              "    </tr>\n",
              "    <tr>\n",
              "      <th>Region</th>\n",
              "      <td>0</td>\n",
              "    </tr>\n",
              "    <tr>\n",
              "      <th>Country</th>\n",
              "      <td>0</td>\n",
              "    </tr>\n",
              "    <tr>\n",
              "      <th>Admin</th>\n",
              "      <td>0</td>\n",
              "    </tr>\n",
              "    <tr>\n",
              "      <th>Locality Name</th>\n",
              "      <td>0</td>\n",
              "    </tr>\n",
              "    <tr>\n",
              "      <th>Locality Quality</th>\n",
              "      <td>0</td>\n",
              "    </tr>\n",
              "    <tr>\n",
              "      <th>Observation Date</th>\n",
              "      <td>502</td>\n",
              "    </tr>\n",
              "    <tr>\n",
              "      <th>Reporting Date</th>\n",
              "      <td>0</td>\n",
              "    </tr>\n",
              "    <tr>\n",
              "      <th>Status</th>\n",
              "      <td>0</td>\n",
              "    </tr>\n",
              "    <tr>\n",
              "      <th>Disease</th>\n",
              "      <td>0</td>\n",
              "    </tr>\n",
              "    <tr>\n",
              "      <th>Serotypes</th>\n",
              "      <td>6941</td>\n",
              "    </tr>\n",
              "    <tr>\n",
              "      <th>Species Description</th>\n",
              "      <td>1648</td>\n",
              "    </tr>\n",
              "    <tr>\n",
              "      <th>Sum At Risk</th>\n",
              "      <td>7251</td>\n",
              "    </tr>\n",
              "    <tr>\n",
              "      <th>Sum Cases</th>\n",
              "      <td>2473</td>\n",
              "    </tr>\n",
              "    <tr>\n",
              "      <th>Sum Deaths</th>\n",
              "      <td>2840</td>\n",
              "    </tr>\n",
              "    <tr>\n",
              "      <th>Sum Destroyed</th>\n",
              "      <td>4003</td>\n",
              "    </tr>\n",
              "    <tr>\n",
              "      <th>Sum Slaughtered</th>\n",
              "      <td>4773</td>\n",
              "    </tr>\n",
              "    <tr>\n",
              "      <th>Humans Gender Desc</th>\n",
              "      <td>16648</td>\n",
              "    </tr>\n",
              "    <tr>\n",
              "      <th>Humans Age</th>\n",
              "      <td>15940</td>\n",
              "    </tr>\n",
              "    <tr>\n",
              "      <th>Humans Affected</th>\n",
              "      <td>15591</td>\n",
              "    </tr>\n",
              "    <tr>\n",
              "      <th>Humans Deaths</th>\n",
              "      <td>16557</td>\n",
              "    </tr>\n",
              "  </tbody>\n",
              "</table>\n",
              "</div><br><label><b>dtype:</b> int64</label>"
            ]
          },
          "metadata": {},
          "execution_count": 85
        }
      ],
      "source": [
        "df.isnull().sum()"
      ]
    },
    {
      "cell_type": "markdown",
      "metadata": {
        "id": "D1W4EWKeL12v"
      },
      "source": [
        "có 12 cột chứa giá trị null"
      ]
    },
    {
      "cell_type": "markdown",
      "metadata": {
        "id": "gqxG4agS0z_V"
      },
      "source": [
        "##2.4 Tổng số ô bị thiếu trong toàn bộ DataFrame"
      ]
    },
    {
      "cell_type": "code",
      "execution_count": 86,
      "metadata": {
        "colab": {
          "base_uri": "https://localhost:8080/"
        },
        "id": "fMBPlfkb03r0",
        "outputId": "58fb28a2-4c2b-4b82-a7cf-60ba96b775c6"
      },
      "outputs": [
        {
          "output_type": "execute_result",
          "data": {
            "text/plain": [
              "np.int64(95167)"
            ]
          },
          "metadata": {},
          "execution_count": 86
        }
      ],
      "source": [
        "df.isnull().sum().sum()"
      ]
    },
    {
      "cell_type": "markdown",
      "metadata": {
        "id": "Z-GGw-EO093v"
      },
      "source": [
        "## 2.5 Chuyển đổi kiểu dữ liệu"
      ]
    },
    {
      "cell_type": "code",
      "execution_count": 87,
      "metadata": {
        "colab": {
          "base_uri": "https://localhost:8080/"
        },
        "collapsed": true,
        "id": "65nfNE3J1BUc",
        "outputId": "035fb86c-1f71-48d5-c754-1f230f386581"
      },
      "outputs": [
        {
          "output_type": "stream",
          "name": "stderr",
          "text": [
            "/tmp/ipython-input-2836245611.py:2: UserWarning:\n",
            "\n",
            "Parsing dates in %d/%m/%Y format when dayfirst=False (the default) was specified. Pass `dayfirst=True` or specify a format to silence this warning.\n",
            "\n",
            "/tmp/ipython-input-2836245611.py:3: UserWarning:\n",
            "\n",
            "Parsing dates in %d/%m/%Y format when dayfirst=False (the default) was specified. Pass `dayfirst=True` or specify a format to silence this warning.\n",
            "\n"
          ]
        }
      ],
      "source": [
        "import pandas as pd\n",
        "df[\"Observation Date\"] = pd.to_datetime(df[\"Observation Date\"], errors=\"coerce\")\n",
        "df[\"Reporting Date\"] = pd.to_datetime(df[\"Reporting Date\"], errors=\"coerce\")"
      ]
    },
    {
      "cell_type": "markdown",
      "metadata": {
        "id": "E5QV0aPy_ZJB"
      },
      "source": [
        "Chuyển các kiểu dữ liệu của 2 cột Observation Date và Reporting Date về đúng định dạng là Datetime"
      ]
    },
    {
      "cell_type": "markdown",
      "metadata": {
        "id": "SNGte97g1kmd"
      },
      "source": [
        "## 2.6 Xử lý giá trị thiếu"
      ]
    },
    {
      "cell_type": "code",
      "execution_count": 88,
      "metadata": {
        "colab": {
          "base_uri": "https://localhost:8080/"
        },
        "collapsed": true,
        "id": "agt769lm1nBU",
        "outputId": "d537f21c-a8f1-4b28-fa46-607c519821d3"
      },
      "outputs": [
        {
          "output_type": "stream",
          "name": "stderr",
          "text": [
            "/tmp/ipython-input-1968867865.py:2: FutureWarning:\n",
            "\n",
            "A value is trying to be set on a copy of a DataFrame or Series through chained assignment using an inplace method.\n",
            "The behavior will change in pandas 3.0. This inplace method will never work because the intermediate object on which we are setting values always behaves as a copy.\n",
            "\n",
            "For example, when doing 'df[col].method(value, inplace=True)', try using 'df.method({col: value}, inplace=True)' or df[col] = df[col].method(value) instead, to perform the operation inplace on the original object.\n",
            "\n",
            "\n",
            "\n"
          ]
        }
      ],
      "source": [
        "for col in [\"Sum Cases\", \"Sum Deaths\", \"Sum At Risk\", \"Sum Destroyed\", \"Sum Slaughtered\"]:\n",
        "    df[col].fillna(df[col].median(), inplace=True)"
      ]
    },
    {
      "cell_type": "code",
      "execution_count": 89,
      "metadata": {
        "id": "wKsJLWZO2JUR"
      },
      "outputs": [],
      "source": [
        "df[\"Serotypes\"] = df[\"Serotypes\"].fillna(\"Unknown\")\n",
        "df[\"Species Description\"] = df[\"Species Description\"].fillna(\"Unknown\")"
      ]
    },
    {
      "cell_type": "markdown",
      "metadata": {
        "id": "gTADTxfA2VK0"
      },
      "source": [
        "Điền các giá trị null (NaN) có dạng string là \"unknown\""
      ]
    },
    {
      "cell_type": "code",
      "execution_count": 90,
      "metadata": {
        "colab": {
          "base_uri": "https://localhost:8080/"
        },
        "collapsed": true,
        "id": "noRGGvgl2uBM",
        "outputId": "abb46fb6-4303-4402-aac4-1ca4dbfe890f"
      },
      "outputs": [
        {
          "output_type": "stream",
          "name": "stderr",
          "text": [
            "/tmp/ipython-input-2202703760.py:2: FutureWarning:\n",
            "\n",
            "A value is trying to be set on a copy of a DataFrame or Series through chained assignment using an inplace method.\n",
            "The behavior will change in pandas 3.0. This inplace method will never work because the intermediate object on which we are setting values always behaves as a copy.\n",
            "\n",
            "For example, when doing 'df[col].method(value, inplace=True)', try using 'df.method({col: value}, inplace=True)' or df[col] = df[col].method(value) instead, to perform the operation inplace on the original object.\n",
            "\n",
            "\n",
            "\n"
          ]
        }
      ],
      "source": [
        "median_delay = (df[\"Reporting Date\"] - pd.to_datetime(df[\"Observation Date\"])).dt.days.median()\n",
        "df[\"Observation Date\"].fillna(df[\"Reporting Date\"] - pd.to_timedelta(median_delay, unit=\"D\"), inplace=True)"
      ]
    },
    {
      "cell_type": "markdown",
      "metadata": {
        "id": "y1y_91Z926Es"
      },
      "source": [
        "Điền giá trị bị thiếu (NaN) trong cột observationDate bằng cách ước lượng ngược lại từ reportingDate, dựa trên độ trễ trung vị giữa ngày quan sát và ngày báo cáo.\n",
        "\n"
      ]
    },
    {
      "cell_type": "markdown",
      "metadata": {
        "id": "JCQCUUkdT5tf"
      },
      "source": [
        "## 2.7. Loại bỏ 1 số đặc trưng"
      ]
    },
    {
      "cell_type": "code",
      "execution_count": 91,
      "metadata": {
        "colab": {
          "base_uri": "https://localhost:8080/",
          "height": 0
        },
        "collapsed": true,
        "id": "-2jFHMaGT782",
        "outputId": "a2fb509e-131c-46a0-f83d-b47afd049a0d"
      },
      "outputs": [
        {
          "output_type": "execute_result",
          "data": {
            "text/plain": [
              "                   count           mean           std           min  \\\n",
              "Humans Deaths      451.0       0.889135      0.321306       0.00000   \n",
              "Humans Age        1068.0      17.701311     26.932867       0.00000   \n",
              "Humans Affected   1417.0       1.017643      0.620142       0.00000   \n",
              "Longitude        17008.0      37.774981     41.034310    -146.49000   \n",
              "Latitude         17008.0      39.168443     16.817821     -36.85621   \n",
              "Id               17008.0  218823.465075   7048.338831  206270.00000   \n",
              "Sum At Risk      17008.0    4341.300506  33734.595816       0.00000   \n",
              "Sum Destroyed    17008.0    2879.526282  24846.023432       0.00000   \n",
              "Sum Deaths       17008.0     166.096308   3751.401426       0.00000   \n",
              "Sum Cases        17008.0     280.609889   5383.260488       0.00000   \n",
              "Sum Slaughtered  17008.0      72.088841   3682.319155       0.00000   \n",
              "\n",
              "                       25%            50%            75%           max  \\\n",
              "Humans Deaths         1.00       1.000000       1.000000  2.000000e+00   \n",
              "Humans Age            0.00       0.000000      41.000000  9.400000e+01   \n",
              "Humans Affected       1.00       1.000000       1.000000  2.400000e+01   \n",
              "Longitude            11.95      24.511700      43.424390  1.448474e+02   \n",
              "Latitude             32.09      43.821579      48.102805  6.839200e+01   \n",
              "Id               212070.75  219591.500000  224717.250000  2.303990e+05   \n",
              "Sum At Risk          60.00      90.000000     130.000000  2.000000e+06   \n",
              "Sum Destroyed         0.00       0.000000       1.000000  9.135900e+05   \n",
              "Sum Deaths            0.00       1.000000       1.000000  4.397990e+05   \n",
              "Sum Cases             1.00       1.000000       3.000000  4.600000e+05   \n",
              "Sum Slaughtered       0.00       0.000000       0.000000  3.390060e+05   \n",
              "\n",
              "                 missing_%  \n",
              "Humans Deaths    97.348307  \n",
              "Humans Age       93.720602  \n",
              "Humans Affected  91.668627  \n",
              "Longitude         0.000000  \n",
              "Latitude          0.000000  \n",
              "Id                0.000000  \n",
              "Sum At Risk       0.000000  \n",
              "Sum Destroyed     0.000000  \n",
              "Sum Deaths        0.000000  \n",
              "Sum Cases         0.000000  \n",
              "Sum Slaughtered   0.000000  "
            ],
            "text/html": [
              "\n",
              "  <div id=\"df-3dd77f5b-093b-4b3d-b927-e714bc5979a8\" class=\"colab-df-container\">\n",
              "    <div>\n",
              "<style scoped>\n",
              "    .dataframe tbody tr th:only-of-type {\n",
              "        vertical-align: middle;\n",
              "    }\n",
              "\n",
              "    .dataframe tbody tr th {\n",
              "        vertical-align: top;\n",
              "    }\n",
              "\n",
              "    .dataframe thead th {\n",
              "        text-align: right;\n",
              "    }\n",
              "</style>\n",
              "<table border=\"1\" class=\"dataframe\">\n",
              "  <thead>\n",
              "    <tr style=\"text-align: right;\">\n",
              "      <th></th>\n",
              "      <th>count</th>\n",
              "      <th>mean</th>\n",
              "      <th>std</th>\n",
              "      <th>min</th>\n",
              "      <th>25%</th>\n",
              "      <th>50%</th>\n",
              "      <th>75%</th>\n",
              "      <th>max</th>\n",
              "      <th>missing_%</th>\n",
              "    </tr>\n",
              "  </thead>\n",
              "  <tbody>\n",
              "    <tr>\n",
              "      <th>Humans Deaths</th>\n",
              "      <td>451.0</td>\n",
              "      <td>0.889135</td>\n",
              "      <td>0.321306</td>\n",
              "      <td>0.00000</td>\n",
              "      <td>1.00</td>\n",
              "      <td>1.000000</td>\n",
              "      <td>1.000000</td>\n",
              "      <td>2.000000e+00</td>\n",
              "      <td>97.348307</td>\n",
              "    </tr>\n",
              "    <tr>\n",
              "      <th>Humans Age</th>\n",
              "      <td>1068.0</td>\n",
              "      <td>17.701311</td>\n",
              "      <td>26.932867</td>\n",
              "      <td>0.00000</td>\n",
              "      <td>0.00</td>\n",
              "      <td>0.000000</td>\n",
              "      <td>41.000000</td>\n",
              "      <td>9.400000e+01</td>\n",
              "      <td>93.720602</td>\n",
              "    </tr>\n",
              "    <tr>\n",
              "      <th>Humans Affected</th>\n",
              "      <td>1417.0</td>\n",
              "      <td>1.017643</td>\n",
              "      <td>0.620142</td>\n",
              "      <td>0.00000</td>\n",
              "      <td>1.00</td>\n",
              "      <td>1.000000</td>\n",
              "      <td>1.000000</td>\n",
              "      <td>2.400000e+01</td>\n",
              "      <td>91.668627</td>\n",
              "    </tr>\n",
              "    <tr>\n",
              "      <th>Longitude</th>\n",
              "      <td>17008.0</td>\n",
              "      <td>37.774981</td>\n",
              "      <td>41.034310</td>\n",
              "      <td>-146.49000</td>\n",
              "      <td>11.95</td>\n",
              "      <td>24.511700</td>\n",
              "      <td>43.424390</td>\n",
              "      <td>1.448474e+02</td>\n",
              "      <td>0.000000</td>\n",
              "    </tr>\n",
              "    <tr>\n",
              "      <th>Latitude</th>\n",
              "      <td>17008.0</td>\n",
              "      <td>39.168443</td>\n",
              "      <td>16.817821</td>\n",
              "      <td>-36.85621</td>\n",
              "      <td>32.09</td>\n",
              "      <td>43.821579</td>\n",
              "      <td>48.102805</td>\n",
              "      <td>6.839200e+01</td>\n",
              "      <td>0.000000</td>\n",
              "    </tr>\n",
              "    <tr>\n",
              "      <th>Id</th>\n",
              "      <td>17008.0</td>\n",
              "      <td>218823.465075</td>\n",
              "      <td>7048.338831</td>\n",
              "      <td>206270.00000</td>\n",
              "      <td>212070.75</td>\n",
              "      <td>219591.500000</td>\n",
              "      <td>224717.250000</td>\n",
              "      <td>2.303990e+05</td>\n",
              "      <td>0.000000</td>\n",
              "    </tr>\n",
              "    <tr>\n",
              "      <th>Sum At Risk</th>\n",
              "      <td>17008.0</td>\n",
              "      <td>4341.300506</td>\n",
              "      <td>33734.595816</td>\n",
              "      <td>0.00000</td>\n",
              "      <td>60.00</td>\n",
              "      <td>90.000000</td>\n",
              "      <td>130.000000</td>\n",
              "      <td>2.000000e+06</td>\n",
              "      <td>0.000000</td>\n",
              "    </tr>\n",
              "    <tr>\n",
              "      <th>Sum Destroyed</th>\n",
              "      <td>17008.0</td>\n",
              "      <td>2879.526282</td>\n",
              "      <td>24846.023432</td>\n",
              "      <td>0.00000</td>\n",
              "      <td>0.00</td>\n",
              "      <td>0.000000</td>\n",
              "      <td>1.000000</td>\n",
              "      <td>9.135900e+05</td>\n",
              "      <td>0.000000</td>\n",
              "    </tr>\n",
              "    <tr>\n",
              "      <th>Sum Deaths</th>\n",
              "      <td>17008.0</td>\n",
              "      <td>166.096308</td>\n",
              "      <td>3751.401426</td>\n",
              "      <td>0.00000</td>\n",
              "      <td>0.00</td>\n",
              "      <td>1.000000</td>\n",
              "      <td>1.000000</td>\n",
              "      <td>4.397990e+05</td>\n",
              "      <td>0.000000</td>\n",
              "    </tr>\n",
              "    <tr>\n",
              "      <th>Sum Cases</th>\n",
              "      <td>17008.0</td>\n",
              "      <td>280.609889</td>\n",
              "      <td>5383.260488</td>\n",
              "      <td>0.00000</td>\n",
              "      <td>1.00</td>\n",
              "      <td>1.000000</td>\n",
              "      <td>3.000000</td>\n",
              "      <td>4.600000e+05</td>\n",
              "      <td>0.000000</td>\n",
              "    </tr>\n",
              "    <tr>\n",
              "      <th>Sum Slaughtered</th>\n",
              "      <td>17008.0</td>\n",
              "      <td>72.088841</td>\n",
              "      <td>3682.319155</td>\n",
              "      <td>0.00000</td>\n",
              "      <td>0.00</td>\n",
              "      <td>0.000000</td>\n",
              "      <td>0.000000</td>\n",
              "      <td>3.390060e+05</td>\n",
              "      <td>0.000000</td>\n",
              "    </tr>\n",
              "  </tbody>\n",
              "</table>\n",
              "</div>\n",
              "    <div class=\"colab-df-buttons\">\n",
              "\n",
              "  <div class=\"colab-df-container\">\n",
              "    <button class=\"colab-df-convert\" onclick=\"convertToInteractive('df-3dd77f5b-093b-4b3d-b927-e714bc5979a8')\"\n",
              "            title=\"Convert this dataframe to an interactive table.\"\n",
              "            style=\"display:none;\">\n",
              "\n",
              "  <svg xmlns=\"http://www.w3.org/2000/svg\" height=\"24px\" viewBox=\"0 -960 960 960\">\n",
              "    <path d=\"M120-120v-720h720v720H120Zm60-500h600v-160H180v160Zm220 220h160v-160H400v160Zm0 220h160v-160H400v160ZM180-400h160v-160H180v160Zm440 0h160v-160H620v160ZM180-180h160v-160H180v160Zm440 0h160v-160H620v160Z\"/>\n",
              "  </svg>\n",
              "    </button>\n",
              "\n",
              "  <style>\n",
              "    .colab-df-container {\n",
              "      display:flex;\n",
              "      gap: 12px;\n",
              "    }\n",
              "\n",
              "    .colab-df-convert {\n",
              "      background-color: #E8F0FE;\n",
              "      border: none;\n",
              "      border-radius: 50%;\n",
              "      cursor: pointer;\n",
              "      display: none;\n",
              "      fill: #1967D2;\n",
              "      height: 32px;\n",
              "      padding: 0 0 0 0;\n",
              "      width: 32px;\n",
              "    }\n",
              "\n",
              "    .colab-df-convert:hover {\n",
              "      background-color: #E2EBFA;\n",
              "      box-shadow: 0px 1px 2px rgba(60, 64, 67, 0.3), 0px 1px 3px 1px rgba(60, 64, 67, 0.15);\n",
              "      fill: #174EA6;\n",
              "    }\n",
              "\n",
              "    .colab-df-buttons div {\n",
              "      margin-bottom: 4px;\n",
              "    }\n",
              "\n",
              "    [theme=dark] .colab-df-convert {\n",
              "      background-color: #3B4455;\n",
              "      fill: #D2E3FC;\n",
              "    }\n",
              "\n",
              "    [theme=dark] .colab-df-convert:hover {\n",
              "      background-color: #434B5C;\n",
              "      box-shadow: 0px 1px 3px 1px rgba(0, 0, 0, 0.15);\n",
              "      filter: drop-shadow(0px 1px 2px rgba(0, 0, 0, 0.3));\n",
              "      fill: #FFFFFF;\n",
              "    }\n",
              "  </style>\n",
              "\n",
              "    <script>\n",
              "      const buttonEl =\n",
              "        document.querySelector('#df-3dd77f5b-093b-4b3d-b927-e714bc5979a8 button.colab-df-convert');\n",
              "      buttonEl.style.display =\n",
              "        google.colab.kernel.accessAllowed ? 'block' : 'none';\n",
              "\n",
              "      async function convertToInteractive(key) {\n",
              "        const element = document.querySelector('#df-3dd77f5b-093b-4b3d-b927-e714bc5979a8');\n",
              "        const dataTable =\n",
              "          await google.colab.kernel.invokeFunction('convertToInteractive',\n",
              "                                                    [key], {});\n",
              "        if (!dataTable) return;\n",
              "\n",
              "        const docLinkHtml = 'Like what you see? Visit the ' +\n",
              "          '<a target=\"_blank\" href=https://colab.research.google.com/notebooks/data_table.ipynb>data table notebook</a>'\n",
              "          + ' to learn more about interactive tables.';\n",
              "        element.innerHTML = '';\n",
              "        dataTable['output_type'] = 'display_data';\n",
              "        await google.colab.output.renderOutput(dataTable, element);\n",
              "        const docLink = document.createElement('div');\n",
              "        docLink.innerHTML = docLinkHtml;\n",
              "        element.appendChild(docLink);\n",
              "      }\n",
              "    </script>\n",
              "  </div>\n",
              "\n",
              "\n",
              "    <div id=\"df-95b05f57-d230-4d8b-84a6-84a4fa3bf6f3\">\n",
              "      <button class=\"colab-df-quickchart\" onclick=\"quickchart('df-95b05f57-d230-4d8b-84a6-84a4fa3bf6f3')\"\n",
              "                title=\"Suggest charts\"\n",
              "                style=\"display:none;\">\n",
              "\n",
              "<svg xmlns=\"http://www.w3.org/2000/svg\" height=\"24px\"viewBox=\"0 0 24 24\"\n",
              "     width=\"24px\">\n",
              "    <g>\n",
              "        <path d=\"M19 3H5c-1.1 0-2 .9-2 2v14c0 1.1.9 2 2 2h14c1.1 0 2-.9 2-2V5c0-1.1-.9-2-2-2zM9 17H7v-7h2v7zm4 0h-2V7h2v10zm4 0h-2v-4h2v4z\"/>\n",
              "    </g>\n",
              "</svg>\n",
              "      </button>\n",
              "\n",
              "<style>\n",
              "  .colab-df-quickchart {\n",
              "      --bg-color: #E8F0FE;\n",
              "      --fill-color: #1967D2;\n",
              "      --hover-bg-color: #E2EBFA;\n",
              "      --hover-fill-color: #174EA6;\n",
              "      --disabled-fill-color: #AAA;\n",
              "      --disabled-bg-color: #DDD;\n",
              "  }\n",
              "\n",
              "  [theme=dark] .colab-df-quickchart {\n",
              "      --bg-color: #3B4455;\n",
              "      --fill-color: #D2E3FC;\n",
              "      --hover-bg-color: #434B5C;\n",
              "      --hover-fill-color: #FFFFFF;\n",
              "      --disabled-bg-color: #3B4455;\n",
              "      --disabled-fill-color: #666;\n",
              "  }\n",
              "\n",
              "  .colab-df-quickchart {\n",
              "    background-color: var(--bg-color);\n",
              "    border: none;\n",
              "    border-radius: 50%;\n",
              "    cursor: pointer;\n",
              "    display: none;\n",
              "    fill: var(--fill-color);\n",
              "    height: 32px;\n",
              "    padding: 0;\n",
              "    width: 32px;\n",
              "  }\n",
              "\n",
              "  .colab-df-quickchart:hover {\n",
              "    background-color: var(--hover-bg-color);\n",
              "    box-shadow: 0 1px 2px rgba(60, 64, 67, 0.3), 0 1px 3px 1px rgba(60, 64, 67, 0.15);\n",
              "    fill: var(--button-hover-fill-color);\n",
              "  }\n",
              "\n",
              "  .colab-df-quickchart-complete:disabled,\n",
              "  .colab-df-quickchart-complete:disabled:hover {\n",
              "    background-color: var(--disabled-bg-color);\n",
              "    fill: var(--disabled-fill-color);\n",
              "    box-shadow: none;\n",
              "  }\n",
              "\n",
              "  .colab-df-spinner {\n",
              "    border: 2px solid var(--fill-color);\n",
              "    border-color: transparent;\n",
              "    border-bottom-color: var(--fill-color);\n",
              "    animation:\n",
              "      spin 1s steps(1) infinite;\n",
              "  }\n",
              "\n",
              "  @keyframes spin {\n",
              "    0% {\n",
              "      border-color: transparent;\n",
              "      border-bottom-color: var(--fill-color);\n",
              "      border-left-color: var(--fill-color);\n",
              "    }\n",
              "    20% {\n",
              "      border-color: transparent;\n",
              "      border-left-color: var(--fill-color);\n",
              "      border-top-color: var(--fill-color);\n",
              "    }\n",
              "    30% {\n",
              "      border-color: transparent;\n",
              "      border-left-color: var(--fill-color);\n",
              "      border-top-color: var(--fill-color);\n",
              "      border-right-color: var(--fill-color);\n",
              "    }\n",
              "    40% {\n",
              "      border-color: transparent;\n",
              "      border-right-color: var(--fill-color);\n",
              "      border-top-color: var(--fill-color);\n",
              "    }\n",
              "    60% {\n",
              "      border-color: transparent;\n",
              "      border-right-color: var(--fill-color);\n",
              "    }\n",
              "    80% {\n",
              "      border-color: transparent;\n",
              "      border-right-color: var(--fill-color);\n",
              "      border-bottom-color: var(--fill-color);\n",
              "    }\n",
              "    90% {\n",
              "      border-color: transparent;\n",
              "      border-bottom-color: var(--fill-color);\n",
              "    }\n",
              "  }\n",
              "</style>\n",
              "\n",
              "      <script>\n",
              "        async function quickchart(key) {\n",
              "          const quickchartButtonEl =\n",
              "            document.querySelector('#' + key + ' button');\n",
              "          quickchartButtonEl.disabled = true;  // To prevent multiple clicks.\n",
              "          quickchartButtonEl.classList.add('colab-df-spinner');\n",
              "          try {\n",
              "            const charts = await google.colab.kernel.invokeFunction(\n",
              "                'suggestCharts', [key], {});\n",
              "          } catch (error) {\n",
              "            console.error('Error during call to suggestCharts:', error);\n",
              "          }\n",
              "          quickchartButtonEl.classList.remove('colab-df-spinner');\n",
              "          quickchartButtonEl.classList.add('colab-df-quickchart-complete');\n",
              "        }\n",
              "        (() => {\n",
              "          let quickchartButtonEl =\n",
              "            document.querySelector('#df-95b05f57-d230-4d8b-84a6-84a4fa3bf6f3 button');\n",
              "          quickchartButtonEl.style.display =\n",
              "            google.colab.kernel.accessAllowed ? 'block' : 'none';\n",
              "        })();\n",
              "      </script>\n",
              "    </div>\n",
              "\n",
              "  <div id=\"id_cabcb1fc-b57c-4be4-ab05-0df328a1cd0a\">\n",
              "    <style>\n",
              "      .colab-df-generate {\n",
              "        background-color: #E8F0FE;\n",
              "        border: none;\n",
              "        border-radius: 50%;\n",
              "        cursor: pointer;\n",
              "        display: none;\n",
              "        fill: #1967D2;\n",
              "        height: 32px;\n",
              "        padding: 0 0 0 0;\n",
              "        width: 32px;\n",
              "      }\n",
              "\n",
              "      .colab-df-generate:hover {\n",
              "        background-color: #E2EBFA;\n",
              "        box-shadow: 0px 1px 2px rgba(60, 64, 67, 0.3), 0px 1px 3px 1px rgba(60, 64, 67, 0.15);\n",
              "        fill: #174EA6;\n",
              "      }\n",
              "\n",
              "      [theme=dark] .colab-df-generate {\n",
              "        background-color: #3B4455;\n",
              "        fill: #D2E3FC;\n",
              "      }\n",
              "\n",
              "      [theme=dark] .colab-df-generate:hover {\n",
              "        background-color: #434B5C;\n",
              "        box-shadow: 0px 1px 3px 1px rgba(0, 0, 0, 0.15);\n",
              "        filter: drop-shadow(0px 1px 2px rgba(0, 0, 0, 0.3));\n",
              "        fill: #FFFFFF;\n",
              "      }\n",
              "    </style>\n",
              "    <button class=\"colab-df-generate\" onclick=\"generateWithVariable('summary_df_sorted')\"\n",
              "            title=\"Generate code using this dataframe.\"\n",
              "            style=\"display:none;\">\n",
              "\n",
              "  <svg xmlns=\"http://www.w3.org/2000/svg\" height=\"24px\"viewBox=\"0 0 24 24\"\n",
              "       width=\"24px\">\n",
              "    <path d=\"M7,19H8.4L18.45,9,17,7.55,7,17.6ZM5,21V16.75L18.45,3.32a2,2,0,0,1,2.83,0l1.4,1.43a1.91,1.91,0,0,1,.58,1.4,1.91,1.91,0,0,1-.58,1.4L9.25,21ZM18.45,9,17,7.55Zm-12,3A5.31,5.31,0,0,0,4.9,8.1,5.31,5.31,0,0,0,1,6.5,5.31,5.31,0,0,0,4.9,4.9,5.31,5.31,0,0,0,6.5,1,5.31,5.31,0,0,0,8.1,4.9,5.31,5.31,0,0,0,12,6.5,5.46,5.46,0,0,0,6.5,12Z\"/>\n",
              "  </svg>\n",
              "    </button>\n",
              "    <script>\n",
              "      (() => {\n",
              "      const buttonEl =\n",
              "        document.querySelector('#id_cabcb1fc-b57c-4be4-ab05-0df328a1cd0a button.colab-df-generate');\n",
              "      buttonEl.style.display =\n",
              "        google.colab.kernel.accessAllowed ? 'block' : 'none';\n",
              "\n",
              "      buttonEl.onclick = () => {\n",
              "        google.colab.notebook.generateWithVariable('summary_df_sorted');\n",
              "      }\n",
              "      })();\n",
              "    </script>\n",
              "  </div>\n",
              "\n",
              "    </div>\n",
              "  </div>\n"
            ],
            "application/vnd.google.colaboratory.intrinsic+json": {
              "type": "dataframe",
              "variable_name": "summary_df_sorted",
              "summary": "{\n  \"name\": \"summary_df_sorted\",\n  \"rows\": 11,\n  \"fields\": [\n    {\n      \"column\": \"count\",\n      \"properties\": {\n        \"dtype\": \"number\",\n        \"std\": 7490.486503194934,\n        \"min\": 451.0,\n        \"max\": 17008.0,\n        \"num_unique_values\": 4,\n        \"samples\": [\n          1068.0,\n          17008.0,\n          451.0\n        ],\n        \"semantic_type\": \"\",\n        \"description\": \"\"\n      }\n    },\n    {\n      \"column\": \"mean\",\n      \"properties\": {\n        \"dtype\": \"number\",\n        \"std\": 65757.54314619214,\n        \"min\": 0.8891352549889135,\n        \"max\": 218823.4650752587,\n        \"num_unique_values\": 11,\n        \"samples\": [\n          218823.4650752587,\n          0.8891352549889135,\n          280.60988946378177\n        ],\n        \"semantic_type\": \"\",\n        \"description\": \"\"\n      }\n    },\n    {\n      \"column\": \"std\",\n      \"properties\": {\n        \"dtype\": \"number\",\n        \"std\": 11406.07293318705,\n        \"min\": 0.3213055408086267,\n        \"max\": 33734.59581605776,\n        \"num_unique_values\": 11,\n        \"samples\": [\n          7048.338831389658,\n          0.3213055408086267,\n          5383.260487683405\n        ],\n        \"semantic_type\": \"\",\n        \"description\": \"\"\n      }\n    },\n    {\n      \"column\": \"min\",\n      \"properties\": {\n        \"dtype\": \"number\",\n        \"std\": 62198.28878268307,\n        \"min\": -146.49,\n        \"max\": 206270.0,\n        \"num_unique_values\": 4,\n        \"samples\": [\n          -146.49,\n          206270.0,\n          0.0\n        ],\n        \"semantic_type\": \"\",\n        \"description\": \"\"\n      }\n    },\n    {\n      \"column\": \"25%\",\n      \"properties\": {\n        \"dtype\": \"number\",\n        \"std\": 63938.51243920208,\n        \"min\": 0.0,\n        \"max\": 212070.75,\n        \"num_unique_values\": 6,\n        \"samples\": [\n          1.0,\n          0.0,\n          60.0\n        ],\n        \"semantic_type\": \"\",\n        \"description\": \"\"\n      }\n    },\n    {\n      \"column\": \"50%\",\n      \"properties\": {\n        \"dtype\": \"number\",\n        \"std\": 66204.439924623,\n        \"min\": 0.0,\n        \"max\": 219591.5,\n        \"num_unique_values\": 6,\n        \"samples\": [\n          1.0,\n          0.0,\n          90.0\n        ],\n        \"semantic_type\": \"\",\n        \"description\": \"\"\n      }\n    },\n    {\n      \"column\": \"75%\",\n      \"properties\": {\n        \"dtype\": \"number\",\n        \"std\": 67746.68510774095,\n        \"min\": 0.0,\n        \"max\": 224717.25,\n        \"num_unique_values\": 8,\n        \"samples\": [\n          41.0,\n          130.0,\n          1.0\n        ],\n        \"semantic_type\": \"\",\n        \"description\": \"\"\n      }\n    },\n    {\n      \"column\": \"max\",\n      \"properties\": {\n        \"dtype\": \"number\",\n        \"std\": 605074.456443113,\n        \"min\": 2.0,\n        \"max\": 2000000.0,\n        \"num_unique_values\": 11,\n        \"samples\": [\n          230399.0,\n          2.0,\n          460000.0\n        ],\n        \"semantic_type\": \"\",\n        \"description\": \"\"\n      }\n    },\n    {\n      \"column\": \"missing_%\",\n      \"properties\": {\n        \"dtype\": \"number\",\n        \"std\": 44.04096015519128,\n        \"min\": 0.0,\n        \"max\": 97.34830667920978,\n        \"num_unique_values\": 4,\n        \"samples\": [\n          93.7206020696143,\n          0.0,\n          97.34830667920978\n        ],\n        \"semantic_type\": \"\",\n        \"description\": \"\"\n      }\n    }\n  ]\n}"
            }
          },
          "metadata": {},
          "execution_count": 91
        }
      ],
      "source": [
        "# Lấy danh sách các cột số (numeric) để kiểm tra thêm\n",
        "numeric_cols = df.select_dtypes(include=[\"float64\", \"int64\"]).columns.tolist()\n",
        "\n",
        "# Mô tả thống kê cho tất cả các cột số\n",
        "describe_all_numeric = df[numeric_cols].describe()\n",
        "\n",
        "# Tính phần trăm giá trị thiếu trong mỗi cột\n",
        "missing_percentage = df[numeric_cols].isnull().mean() * 100\n",
        "\n",
        "# Gộp thống kê và tỷ lệ thiếu thành một bảng duy nhất\n",
        "summary_df = describe_all_numeric.T\n",
        "summary_df[\"missing_%\"] = missing_percentage\n",
        "\n",
        "# Sắp xếp theo tỷ lệ thiếu giảm dần\n",
        "summary_df_sorted = summary_df.sort_values(\"missing_%\", ascending=False)\n",
        "\n",
        "summary_df_sorted"
      ]
    },
    {
      "cell_type": "markdown",
      "metadata": {
        "id": "cjUG224vV92V"
      },
      "source": [
        "Dựa trên mô tả ta sẽ loại bỏ đi 3 cột dữ liệu humansDeaths, humansAge, humansAffected. Vì giá trị thiếu của nó >90% và dữ liệu các dòng cũng quá nhỏ. nằm ngoài phạm vi phân tích Giám sát bệnh động vật toàn cầu bùng phát trong 2 năm 2017-2019 bao gồm dịch tả Châu Phi, bệnh lỡ mồm lông móng và gia cúm gia cầm"
      ]
    },
    {
      "cell_type": "code",
      "execution_count": 92,
      "metadata": {
        "id": "Lj56w7FsWD-o"
      },
      "outputs": [],
      "source": [
        "cols_to_drop = [\"Humans Deaths\", \"Humans Age\", \"Humans Affected\"]\n",
        "df.drop(columns=cols_to_drop, inplace=True)"
      ]
    },
    {
      "cell_type": "markdown",
      "metadata": {
        "id": "jEfT336hWWqN"
      },
      "source": [
        "## 2.8. Vì đã loải bỏ các thông tin về human trước đó nên về giới giới tính ta cũng sẽ loại bỏ luôn"
      ]
    },
    {
      "cell_type": "code",
      "execution_count": 93,
      "metadata": {
        "id": "TCy8BHT7WaYw"
      },
      "outputs": [],
      "source": [
        "df.drop(columns=['Humans Gender Desc'], inplace=True)"
      ]
    },
    {
      "cell_type": "markdown",
      "metadata": {
        "id": "a5NJiUfSMqmi"
      },
      "source": [
        "## 2.9 Tạo một số đặc trưng mới để phân tích chuyên sâu về sau"
      ]
    },
    {
      "cell_type": "code",
      "execution_count": 94,
      "metadata": {
        "id": "sKXVuWw8Mtbq"
      },
      "outputs": [],
      "source": [
        "df[\"report late\"] = (df[\"Reporting Date\"] - df[\"Observation Date\"]).dt.days"
      ]
    },
    {
      "cell_type": "markdown",
      "metadata": {
        "id": "Z3jY0j7J4H68"
      },
      "source": [
        "Tính thời gian trễ giữa quan sát và báo cáo"
      ]
    },
    {
      "cell_type": "code",
      "execution_count": 95,
      "metadata": {
        "id": "hf0EFkyi4fDL"
      },
      "outputs": [],
      "source": [
        "df[\"location\"] = df[\"Country\"] + \" - \" + df[\"Admin\"]\n"
      ]
    },
    {
      "cell_type": "markdown",
      "metadata": {
        "id": "GxCdUPC95Ker"
      },
      "source": [
        "Thay vì phải nhớ hoặc lọc theo 2 cột country và admin1 riêng biệt, giờ đây có thể làm việc dễ dàng chỉ với một cột location."
      ]
    },
    {
      "cell_type": "code",
      "execution_count": 96,
      "metadata": {
        "id": "-Cp58kkH8QXi"
      },
      "outputs": [],
      "source": [
        "df[\"death rate_%\"] = (df[\"Sum Deaths\"] / df[\"Sum Cases\"].replace(0, 1)) * 100\n"
      ]
    },
    {
      "cell_type": "code",
      "execution_count": 97,
      "metadata": {
        "colab": {
          "base_uri": "https://localhost:8080/",
          "height": 0
        },
        "collapsed": true,
        "id": "K5qyFOXJRVAI",
        "outputId": "88576506-fc8f-4c6b-83c4-5b3e15fa3ef3"
      },
      "outputs": [
        {
          "output_type": "execute_result",
          "data": {
            "text/plain": [
              "Id                     0\n",
              "Source                 0\n",
              "Latitude               0\n",
              "Longitude              0\n",
              "Region                 0\n",
              "Country                0\n",
              "Admin                  0\n",
              "Locality Name          0\n",
              "Locality Quality       0\n",
              "Observation Date       0\n",
              "Reporting Date         0\n",
              "Status                 0\n",
              "Disease                0\n",
              "Serotypes              0\n",
              "Species Description    0\n",
              "Sum At Risk            0\n",
              "Sum Cases              0\n",
              "Sum Deaths             0\n",
              "Sum Destroyed          0\n",
              "Sum Slaughtered        0\n",
              "report late            0\n",
              "location               0\n",
              "death rate_%           0\n",
              "dtype: int64"
            ],
            "text/html": [
              "<div>\n",
              "<style scoped>\n",
              "    .dataframe tbody tr th:only-of-type {\n",
              "        vertical-align: middle;\n",
              "    }\n",
              "\n",
              "    .dataframe tbody tr th {\n",
              "        vertical-align: top;\n",
              "    }\n",
              "\n",
              "    .dataframe thead th {\n",
              "        text-align: right;\n",
              "    }\n",
              "</style>\n",
              "<table border=\"1\" class=\"dataframe\">\n",
              "  <thead>\n",
              "    <tr style=\"text-align: right;\">\n",
              "      <th></th>\n",
              "      <th>0</th>\n",
              "    </tr>\n",
              "  </thead>\n",
              "  <tbody>\n",
              "    <tr>\n",
              "      <th>Id</th>\n",
              "      <td>0</td>\n",
              "    </tr>\n",
              "    <tr>\n",
              "      <th>Source</th>\n",
              "      <td>0</td>\n",
              "    </tr>\n",
              "    <tr>\n",
              "      <th>Latitude</th>\n",
              "      <td>0</td>\n",
              "    </tr>\n",
              "    <tr>\n",
              "      <th>Longitude</th>\n",
              "      <td>0</td>\n",
              "    </tr>\n",
              "    <tr>\n",
              "      <th>Region</th>\n",
              "      <td>0</td>\n",
              "    </tr>\n",
              "    <tr>\n",
              "      <th>Country</th>\n",
              "      <td>0</td>\n",
              "    </tr>\n",
              "    <tr>\n",
              "      <th>Admin</th>\n",
              "      <td>0</td>\n",
              "    </tr>\n",
              "    <tr>\n",
              "      <th>Locality Name</th>\n",
              "      <td>0</td>\n",
              "    </tr>\n",
              "    <tr>\n",
              "      <th>Locality Quality</th>\n",
              "      <td>0</td>\n",
              "    </tr>\n",
              "    <tr>\n",
              "      <th>Observation Date</th>\n",
              "      <td>0</td>\n",
              "    </tr>\n",
              "    <tr>\n",
              "      <th>Reporting Date</th>\n",
              "      <td>0</td>\n",
              "    </tr>\n",
              "    <tr>\n",
              "      <th>Status</th>\n",
              "      <td>0</td>\n",
              "    </tr>\n",
              "    <tr>\n",
              "      <th>Disease</th>\n",
              "      <td>0</td>\n",
              "    </tr>\n",
              "    <tr>\n",
              "      <th>Serotypes</th>\n",
              "      <td>0</td>\n",
              "    </tr>\n",
              "    <tr>\n",
              "      <th>Species Description</th>\n",
              "      <td>0</td>\n",
              "    </tr>\n",
              "    <tr>\n",
              "      <th>Sum At Risk</th>\n",
              "      <td>0</td>\n",
              "    </tr>\n",
              "    <tr>\n",
              "      <th>Sum Cases</th>\n",
              "      <td>0</td>\n",
              "    </tr>\n",
              "    <tr>\n",
              "      <th>Sum Deaths</th>\n",
              "      <td>0</td>\n",
              "    </tr>\n",
              "    <tr>\n",
              "      <th>Sum Destroyed</th>\n",
              "      <td>0</td>\n",
              "    </tr>\n",
              "    <tr>\n",
              "      <th>Sum Slaughtered</th>\n",
              "      <td>0</td>\n",
              "    </tr>\n",
              "    <tr>\n",
              "      <th>report late</th>\n",
              "      <td>0</td>\n",
              "    </tr>\n",
              "    <tr>\n",
              "      <th>location</th>\n",
              "      <td>0</td>\n",
              "    </tr>\n",
              "    <tr>\n",
              "      <th>death rate_%</th>\n",
              "      <td>0</td>\n",
              "    </tr>\n",
              "  </tbody>\n",
              "</table>\n",
              "</div><br><label><b>dtype:</b> int64</label>"
            ]
          },
          "metadata": {},
          "execution_count": 97
        }
      ],
      "source": [
        "df.isnull().sum()"
      ]
    },
    {
      "cell_type": "markdown",
      "metadata": {
        "id": "HXX6GZsgfhRK"
      },
      "source": [
        "## 2.10 Chuyển thành file csv sau khi làm sạch"
      ]
    },
    {
      "cell_type": "code",
      "execution_count": 98,
      "metadata": {
        "id": "NQgFqE-ybqd9"
      },
      "outputs": [],
      "source": [
        "# from google.colab import drive\n",
        "# drive.mount('/content/drive')\n",
        "# df.to_csv('/content/drive/MyDrive/Colab Notebooks/Data/df_dichta_clean.csv', index=False)"
      ]
    },
    {
      "cell_type": "markdown",
      "metadata": {
        "id": "gKKJ-od0UXDu"
      },
      "source": [
        "# 3. Khám phá dữ liệu và Trực quan hóa"
      ]
    },
    {
      "cell_type": "markdown",
      "metadata": {
        "id": "dvj_wq1TTyLV"
      },
      "source": [
        "## 3.1. Tần suất xuất hiện của mỗi loại bệnh"
      ]
    },
    {
      "cell_type": "code",
      "execution_count": 99,
      "metadata": {
        "colab": {
          "base_uri": "https://localhost:8080/",
          "height": 0
        },
        "id": "qrD79sATUP97",
        "outputId": "f8b7f230-01ac-421e-decd-ee35c92991ef"
      },
      "outputs": [
        {
          "output_type": "stream",
          "name": "stdout",
          "text": [
            "Top 5 loại bệnh chính:\n"
          ]
        },
        {
          "output_type": "display_data",
          "data": {
            "text/plain": [
              "Disease\n",
              "Influenza - Avian      6479\n",
              "Bluetongue             3391\n",
              "African swine fever    3330\n",
              "Lumpy skin disease     2112\n",
              "MERS-CoV                675\n",
              "Name: count, dtype: int64"
            ],
            "text/html": [
              "<div>\n",
              "<style scoped>\n",
              "    .dataframe tbody tr th:only-of-type {\n",
              "        vertical-align: middle;\n",
              "    }\n",
              "\n",
              "    .dataframe tbody tr th {\n",
              "        vertical-align: top;\n",
              "    }\n",
              "\n",
              "    .dataframe thead th {\n",
              "        text-align: right;\n",
              "    }\n",
              "</style>\n",
              "<table border=\"1\" class=\"dataframe\">\n",
              "  <thead>\n",
              "    <tr style=\"text-align: right;\">\n",
              "      <th></th>\n",
              "      <th>count</th>\n",
              "    </tr>\n",
              "    <tr>\n",
              "      <th>Disease</th>\n",
              "      <th></th>\n",
              "    </tr>\n",
              "  </thead>\n",
              "  <tbody>\n",
              "    <tr>\n",
              "      <th>Influenza - Avian</th>\n",
              "      <td>6479</td>\n",
              "    </tr>\n",
              "    <tr>\n",
              "      <th>Bluetongue</th>\n",
              "      <td>3391</td>\n",
              "    </tr>\n",
              "    <tr>\n",
              "      <th>African swine fever</th>\n",
              "      <td>3330</td>\n",
              "    </tr>\n",
              "    <tr>\n",
              "      <th>Lumpy skin disease</th>\n",
              "      <td>2112</td>\n",
              "    </tr>\n",
              "    <tr>\n",
              "      <th>MERS-CoV</th>\n",
              "      <td>675</td>\n",
              "    </tr>\n",
              "  </tbody>\n",
              "</table>\n",
              "</div><br><label><b>dtype:</b> int64</label>"
            ]
          },
          "metadata": {}
        }
      ],
      "source": [
        "# Đếm tần suất xuất hiện của mỗi loại bệnh trong cột 'Disease'\n",
        "disease_counts = df['Disease'].value_counts()\n",
        "\n",
        "# Hiển thị 5 loại bệnh xuất hiện nhiều nhất\n",
        "print(\"Top 5 loại bệnh chính:\")\n",
        "display(disease_counts.head())"
      ]
    },
    {
      "cell_type": "code",
      "execution_count": 100,
      "metadata": {
        "colab": {
          "base_uri": "https://localhost:8080/",
          "height": 0
        },
        "id": "6_y-oWNBWVXB",
        "outputId": "4bedc7f2-2786-4f87-d58c-ed5a4c73509f"
      },
      "outputs": [
        {
          "output_type": "display_data",
          "data": {
            "text/plain": [
              "<Figure size 1200x600 with 1 Axes>"
            ],
            "image/png": "[encoded data removed]"
          },
          "metadata": {}
        }
      ],
      "source": [
        "import matplotlib.pyplot as plt\n",
        "import seaborn as sns\n",
        "\n",
        "# Lấy top 5 loại bệnh chính và tần suất của chúng\n",
        "top_5_diseases = disease_counts.head(5)\n",
        "\n",
        "# Tạo DataFrame trung gian để seaborn dễ vẽ hơn\n",
        "import pandas as pd\n",
        "df_top = pd.DataFrame({\n",
        "    'Loại bệnh': top_5_diseases.index,\n",
        "    'Số lượng': top_5_diseases.values\n",
        "})\n",
        "\n",
        "# Vẽ biểu đồ cột\n",
        "plt.figure(figsize=(12, 6))\n",
        "sns.barplot(data=df_top, x='Loại bệnh', y='Số lượng', hue='Loại bệnh', palette='viridis', legend=False)\n",
        "plt.title('Top 5 loại bệnh chính')\n",
        "plt.xlabel('Loại bệnh')\n",
        "plt.ylabel('Số lượng')\n",
        "plt.xticks(rotation=45, ha='right')\n",
        "plt.tight_layout()\n",
        "plt.show()\n"
      ]
    },
    {
      "cell_type": "markdown",
      "metadata": {
        "id": "8LepJnmnXseN"
      },
      "source": [
        "## 3.2. Các loài chính bị ảnh hưởng"
      ]
    },
    {
      "cell_type": "code",
      "execution_count": 101,
      "metadata": {
        "colab": {
          "base_uri": "https://localhost:8080/",
          "height": 0
        },
        "id": "CW2cyVJtYS8T",
        "outputId": "4779d87b-10bd-4c2c-e756-eefd69be4b39"
      },
      "outputs": [
        {
          "output_type": "stream",
          "name": "stdout",
          "text": [
            "Top 10 loài bị ảnh hưởng nhiều nhất:\n"
          ]
        },
        {
          "output_type": "display_data",
          "data": {
            "text/plain": [
              "Species Description\n",
              "domestic, cattle     4913\n",
              "wild, wild boar      2670\n",
              "domestic, chicken    1682\n",
              "Unknown              1648\n",
              "domestic, duck       1227\n",
              "Name: count, dtype: int64"
            ],
            "text/html": [
              "<div>\n",
              "<style scoped>\n",
              "    .dataframe tbody tr th:only-of-type {\n",
              "        vertical-align: middle;\n",
              "    }\n",
              "\n",
              "    .dataframe tbody tr th {\n",
              "        vertical-align: top;\n",
              "    }\n",
              "\n",
              "    .dataframe thead th {\n",
              "        text-align: right;\n",
              "    }\n",
              "</style>\n",
              "<table border=\"1\" class=\"dataframe\">\n",
              "  <thead>\n",
              "    <tr style=\"text-align: right;\">\n",
              "      <th></th>\n",
              "      <th>count</th>\n",
              "    </tr>\n",
              "    <tr>\n",
              "      <th>Species Description</th>\n",
              "      <th></th>\n",
              "    </tr>\n",
              "  </thead>\n",
              "  <tbody>\n",
              "    <tr>\n",
              "      <th>domestic, cattle</th>\n",
              "      <td>4913</td>\n",
              "    </tr>\n",
              "    <tr>\n",
              "      <th>wild, wild boar</th>\n",
              "      <td>2670</td>\n",
              "    </tr>\n",
              "    <tr>\n",
              "      <th>domestic, chicken</th>\n",
              "      <td>1682</td>\n",
              "    </tr>\n",
              "    <tr>\n",
              "      <th>Unknown</th>\n",
              "      <td>1648</td>\n",
              "    </tr>\n",
              "    <tr>\n",
              "      <th>domestic, duck</th>\n",
              "      <td>1227</td>\n",
              "    </tr>\n",
              "  </tbody>\n",
              "</table>\n",
              "</div><br><label><b>dtype:</b> int64</label>"
            ]
          },
          "metadata": {}
        }
      ],
      "source": [
        "# Đếm tần suất xuất hiện của mỗi loại bệnh trong cột 'Disease'\n",
        "species_counts = df['Species Description'].value_counts()\n",
        "\n",
        "# Lấy top 10 loài bị ảnh hưởng nhiều nhất\n",
        "top_species = species_counts.head(10)\n",
        "print(\"Top 10 loài bị ảnh hưởng nhiều nhất:\")\n",
        "display(species_counts.head())"
      ]
    },
    {
      "cell_type": "code",
      "execution_count": 102,
      "metadata": {
        "colab": {
          "base_uri": "https://localhost:8080/",
          "height": 0
        },
        "id": "IPNi-reNXriO",
        "outputId": "ee4dedd9-e6f0-4f01-d242-7cc012be231e"
      },
      "outputs": [
        {
          "output_type": "display_data",
          "data": {
            "text/plain": [
              "<Figure size 1400x700 with 1 Axes>"
            ],
            "image/png": "[encoded data removed]"
          },
          "metadata": {}
        }
      ],
      "source": [
        "# Các loài chính bị ảnh hưởng\n",
        "\n",
        "import pandas as pd\n",
        "import matplotlib.pyplot as plt\n",
        "# Đếm tần suất xuất hiện của mỗi loài bị ảnh hưởng\n",
        "species_counts = df['Species Description'].value_counts()\n",
        "\n",
        "# Lấy top 10 loài bị ảnh hưởng nhiều nhất (hoặc số lượng phù hợp)\n",
        "top_species = species_counts.head(10)\n",
        "\n",
        "# Tạo DataFrame trung gian để seaborn dễ vẽ hơn\n",
        "df_species_top = pd.DataFrame({\n",
        "    'Loài bị ảnh hưởng': top_species.index,\n",
        "    'Số lượng': top_species.values\n",
        "})\n",
        "\n",
        "# Vẽ biểu đồ cột\n",
        "plt.figure(figsize=(14, 7))\n",
        "sns.barplot(data=df_species_top, x='Loài bị ảnh hưởng', y='Số lượng', hue='Loài bị ảnh hưởng', palette='viridis', legend=False)\n",
        "plt.title('Top 10 loài bị ảnh hưởng chính bởi các dịch bệnh')\n",
        "plt.xlabel('Loài bị ảnh hưởng')\n",
        "plt.ylabel('Số lượng báo cáo')\n",
        "plt.xticks(rotation=45, ha='right')\n",
        "plt.tight_layout()\n",
        "plt.show()"
      ]
    },
    {
      "cell_type": "markdown",
      "metadata": {
        "id": "fX6pUJzTcosO"
      },
      "source": [
        "## 3.3. Ma trận tương quan giữa các đặc trưng"
      ]
    },
    {
      "cell_type": "code",
      "execution_count": 103,
      "metadata": {
        "colab": {
          "base_uri": "https://localhost:8080/",
          "height": 0
        },
        "id": "qo_c1MJlQvB-",
        "outputId": "ab9798fe-e575-44c1-df08-f74cbb363837"
      },
      "outputs": [
        {
          "output_type": "display_data",
          "data": {
            "text/plain": [
              "<Figure size 800x600 with 2 Axes>"
            ],
            "image/png": "[encoded data removed]"
          },
          "metadata": {}
        }
      ],
      "source": [
        "import matplotlib.pyplot as plt\n",
        "import seaborn as sns\n",
        "\n",
        "plt.figure(figsize=(8,6))\n",
        "# Chỉ chọn các cột số để tính toán tương quan\n",
        "numeric_df = df.select_dtypes(include=['float64', 'int64', 'int32'])\n",
        "corr_matrix = numeric_df.corr()\n",
        "sns.heatmap(corr_matrix, annot=True, cmap='coolwarm', fmt='.2f')\n",
        "plt.title('Ma trận tương quan giữa các đặc trưng')\n",
        "plt.show()"
      ]
    },
    {
      "cell_type": "markdown",
      "metadata": {
        "id": "19b8c562"
      },
      "source": [
        "## 3.4. Trực quan hóa Địa lý (Geospatial Visualization)"
      ]
    },
    {
      "cell_type": "code",
      "execution_count": 104,
      "metadata": {
        "id": "e585e7ad"
      },
      "outputs": [],
      "source": [
        "import plotly.express as px\n",
        "\n",
        "# Tạo bản đồ hiển thị vị trí các ổ dịch\n",
        "fig = px.scatter_geo(df,\n",
        "                     lat=\"Latitude\",\n",
        "                     lon=\"Longitude\",\n",
        "                     hover_name=\"Country\", # Hiển thị tên quốc gia khi di chuột\n",
        "                     color=\"Disease\", # Tô màu theo loại bệnh\n",
        "                     size=\"Sum Cases\", # Kích thước điểm theo số ca bệnh\n",
        "                     projection=\"natural earth\", # Kiểu chiếu bản đồ\n",
        "                     title=\"Phân bố địa lý các ổ dịch bệnh động vật\")\n",
        "# fig.show()"
      ]
    },
    {
      "cell_type": "markdown",
      "metadata": {
        "id": "9wYSZZOY5Geb"
      },
      "source": [
        "#4. Clustering"
      ]
    },
    {
      "cell_type": "code",
      "execution_count": 105,
      "metadata": {
        "colab": {
          "base_uri": "https://localhost:8080/"
        },
        "collapsed": true,
        "id": "1GrE3r3nZXgi",
        "outputId": "8d4ee2b9-1848-4fca-be1e-88459fb78fed"
      },
      "outputs": [
        {
          "output_type": "stream",
          "name": "stdout",
          "text": [
            "<class 'pandas.core.frame.DataFrame'>\n",
            "RangeIndex: 17008 entries, 0 to 17007\n",
            "Data columns (total 23 columns):\n",
            " #   Column               Non-Null Count  Dtype         \n",
            "---  ------               --------------  -----         \n",
            " 0   Id                   17008 non-null  int64         \n",
            " 1   Source               17008 non-null  object        \n",
            " 2   Latitude             17008 non-null  float64       \n",
            " 3   Longitude            17008 non-null  float64       \n",
            " 4   Region               17008 non-null  object        \n",
            " 5   Country              17008 non-null  object        \n",
            " 6   Admin                17008 non-null  object        \n",
            " 7   Locality Name        17008 non-null  object        \n",
            " 8   Locality Quality     17008 non-null  object        \n",
            " 9   Observation Date     17008 non-null  datetime64[ns]\n",
            " 10  Reporting Date       17008 non-null  datetime64[ns]\n",
            " 11  Status               17008 non-null  object        \n",
            " 12  Disease              17008 non-null  object        \n",
            " 13  Serotypes            17008 non-null  object        \n",
            " 14  Species Description  17008 non-null  object        \n",
            " 15  Sum At Risk          17008 non-null  float64       \n",
            " 16  Sum Cases            17008 non-null  float64       \n",
            " 17  Sum Deaths           17008 non-null  float64       \n",
            " 18  Sum Destroyed        17008 non-null  float64       \n",
            " 19  Sum Slaughtered      17008 non-null  float64       \n",
            " 20  report late          17008 non-null  int64         \n",
            " 21  location             17008 non-null  object        \n",
            " 22  death rate_%         17008 non-null  float64       \n",
            "dtypes: datetime64[ns](2), float64(8), int64(2), object(11)\n",
            "memory usage: 3.0+ MB\n"
          ]
        }
      ],
      "source": [
        "df.info()"
      ]
    },
    {
      "cell_type": "markdown",
      "metadata": {
        "id": "56TzhM18q8WQ"
      },
      "source": [
        "### 4.1. Gom cụm theo thời gian và không gian địa lý sử thuật toán DBSCAN"
      ]
    },
    {
      "cell_type": "code",
      "execution_count": 106,
      "metadata": {
        "colab": {
          "base_uri": "https://localhost:8080/",
          "height": 0
        },
        "id": "LP2TmDe7RgSX",
        "outputId": "0a8122d3-341f-4857-8e73-97d364026afe"
      },
      "outputs": [
        {
          "output_type": "execute_result",
          "data": {
            "text/plain": [
              "      Observation Date   Latitude  Longitude  Time Stamp   Time Scaled\n",
              "0           2017-08-17 -27.900000  30.800000  1502928000  173888.76960\n",
              "1           2017-08-16  54.837037  73.354155  1502841600  173878.77312\n",
              "2           2017-08-16 -21.077740  30.211620  1502841600  173878.77312\n",
              "3           2017-08-15 -26.000000  28.300000  1502755200  173868.77664\n",
              "4           2017-08-15  49.237900  17.700200  1502755200  173868.77664\n",
              "...                ...        ...        ...         ...           ...\n",
              "17003       1998-06-01   7.289176   8.857676   896659200  103743.46944\n",
              "17004       1998-01-01  15.112823 -23.645005   883612800  102234.00096\n",
              "17005       1997-12-01   6.658696   2.489576   880934400  101924.11008\n",
              "17006       1997-09-01   7.143645   3.278189   873072000  101014.43040\n",
              "17007       1996-04-16   5.413067  -4.068581   829612800   95986.20096\n",
              "\n",
              "[17008 rows x 5 columns]"
            ],
            "text/html": [
              "\n",
              "  <div id=\"df-79e81697-b621-48da-9050-54406f811e99\" class=\"colab-df-container\">\n",
              "    <div>\n",
              "<style scoped>\n",
              "    .dataframe tbody tr th:only-of-type {\n",
              "        vertical-align: middle;\n",
              "    }\n",
              "\n",
              "    .dataframe tbody tr th {\n",
              "        vertical-align: top;\n",
              "    }\n",
              "\n",
              "    .dataframe thead th {\n",
              "        text-align: right;\n",
              "    }\n",
              "</style>\n",
              "<table border=\"1\" class=\"dataframe\">\n",
              "  <thead>\n",
              "    <tr style=\"text-align: right;\">\n",
              "      <th></th>\n",
              "      <th>Observation Date</th>\n",
              "      <th>Latitude</th>\n",
              "      <th>Longitude</th>\n",
              "      <th>Time Stamp</th>\n",
              "      <th>Time Scaled</th>\n",
              "    </tr>\n",
              "  </thead>\n",
              "  <tbody>\n",
              "    <tr>\n",
              "      <th>0</th>\n",
              "      <td>2017-08-17</td>\n",
              "      <td>-27.900000</td>\n",
              "      <td>30.800000</td>\n",
              "      <td>1502928000</td>\n",
              "      <td>173888.76960</td>\n",
              "    </tr>\n",
              "    <tr>\n",
              "      <th>1</th>\n",
              "      <td>2017-08-16</td>\n",
              "      <td>54.837037</td>\n",
              "      <td>73.354155</td>\n",
              "      <td>1502841600</td>\n",
              "      <td>173878.77312</td>\n",
              "    </tr>\n",
              "    <tr>\n",
              "      <th>2</th>\n",
              "      <td>2017-08-16</td>\n",
              "      <td>-21.077740</td>\n",
              "      <td>30.211620</td>\n",
              "      <td>1502841600</td>\n",
              "      <td>173878.77312</td>\n",
              "    </tr>\n",
              "    <tr>\n",
              "      <th>3</th>\n",
              "      <td>2017-08-15</td>\n",
              "      <td>-26.000000</td>\n",
              "      <td>28.300000</td>\n",
              "      <td>1502755200</td>\n",
              "      <td>173868.77664</td>\n",
              "    </tr>\n",
              "    <tr>\n",
              "      <th>4</th>\n",
              "      <td>2017-08-15</td>\n",
              "      <td>49.237900</td>\n",
              "      <td>17.700200</td>\n",
              "      <td>1502755200</td>\n",
              "      <td>173868.77664</td>\n",
              "    </tr>\n",
              "    <tr>\n",
              "      <th>...</th>\n",
              "      <td>...</td>\n",
              "      <td>...</td>\n",
              "      <td>...</td>\n",
              "      <td>...</td>\n",
              "      <td>...</td>\n",
              "    </tr>\n",
              "    <tr>\n",
              "      <th>17003</th>\n",
              "      <td>1998-06-01</td>\n",
              "      <td>7.289176</td>\n",
              "      <td>8.857676</td>\n",
              "      <td>896659200</td>\n",
              "      <td>103743.46944</td>\n",
              "    </tr>\n",
              "    <tr>\n",
              "      <th>17004</th>\n",
              "      <td>1998-01-01</td>\n",
              "      <td>15.112823</td>\n",
              "      <td>-23.645005</td>\n",
              "      <td>883612800</td>\n",
              "      <td>102234.00096</td>\n",
              "    </tr>\n",
              "    <tr>\n",
              "      <th>17005</th>\n",
              "      <td>1997-12-01</td>\n",
              "      <td>6.658696</td>\n",
              "      <td>2.489576</td>\n",
              "      <td>880934400</td>\n",
              "      <td>101924.11008</td>\n",
              "    </tr>\n",
              "    <tr>\n",
              "      <th>17006</th>\n",
              "      <td>1997-09-01</td>\n",
              "      <td>7.143645</td>\n",
              "      <td>3.278189</td>\n",
              "      <td>873072000</td>\n",
              "      <td>101014.43040</td>\n",
              "    </tr>\n",
              "    <tr>\n",
              "      <th>17007</th>\n",
              "      <td>1996-04-16</td>\n",
              "      <td>5.413067</td>\n",
              "      <td>-4.068581</td>\n",
              "      <td>829612800</td>\n",
              "      <td>95986.20096</td>\n",
              "    </tr>\n",
              "  </tbody>\n",
              "</table>\n",
              "<p>17008 rows × 5 columns</p>\n",
              "</div>\n",
              "    <div class=\"colab-df-buttons\">\n",
              "\n",
              "  <div class=\"colab-df-container\">\n",
              "    <button class=\"colab-df-convert\" onclick=\"convertToInteractive('df-79e81697-b621-48da-9050-54406f811e99')\"\n",
              "            title=\"Convert this dataframe to an interactive table.\"\n",
              "            style=\"display:none;\">\n",
              "\n",
              "  <svg xmlns=\"http://www.w3.org/2000/svg\" height=\"24px\" viewBox=\"0 -960 960 960\">\n",
              "    <path d=\"M120-120v-720h720v720H120Zm60-500h600v-160H180v160Zm220 220h160v-160H400v160Zm0 220h160v-160H400v160ZM180-400h160v-160H180v160Zm440 0h160v-160H620v160ZM180-180h160v-160H180v160Zm440 0h160v-160H620v160Z\"/>\n",
              "  </svg>\n",
              "    </button>\n",
              "\n",
              "  <style>\n",
              "    .colab-df-container {\n",
              "      display:flex;\n",
              "      gap: 12px;\n",
              "    }\n",
              "\n",
              "    .colab-df-convert {\n",
              "      background-color: #E8F0FE;\n",
              "      border: none;\n",
              "      border-radius: 50%;\n",
              "      cursor: pointer;\n",
              "      display: none;\n",
              "      fill: #1967D2;\n",
              "      height: 32px;\n",
              "      padding: 0 0 0 0;\n",
              "      width: 32px;\n",
              "    }\n",
              "\n",
              "    .colab-df-convert:hover {\n",
              "      background-color: #E2EBFA;\n",
              "      box-shadow: 0px 1px 2px rgba(60, 64, 67, 0.3), 0px 1px 3px 1px rgba(60, 64, 67, 0.15);\n",
              "      fill: #174EA6;\n",
              "    }\n",
              "\n",
              "    .colab-df-buttons div {\n",
              "      margin-bottom: 4px;\n",
              "    }\n",
              "\n",
              "    [theme=dark] .colab-df-convert {\n",
              "      background-color: #3B4455;\n",
              "      fill: #D2E3FC;\n",
              "    }\n",
              "\n",
              "    [theme=dark] .colab-df-convert:hover {\n",
              "      background-color: #434B5C;\n",
              "      box-shadow: 0px 1px 3px 1px rgba(0, 0, 0, 0.15);\n",
              "      filter: drop-shadow(0px 1px 2px rgba(0, 0, 0, 0.3));\n",
              "      fill: #FFFFFF;\n",
              "    }\n",
              "  </style>\n",
              "\n",
              "    <script>\n",
              "      const buttonEl =\n",
              "        document.querySelector('#df-79e81697-b621-48da-9050-54406f811e99 button.colab-df-convert');\n",
              "      buttonEl.style.display =\n",
              "        google.colab.kernel.accessAllowed ? 'block' : 'none';\n",
              "\n",
              "      async function convertToInteractive(key) {\n",
              "        const element = document.querySelector('#df-79e81697-b621-48da-9050-54406f811e99');\n",
              "        const dataTable =\n",
              "          await google.colab.kernel.invokeFunction('convertToInteractive',\n",
              "                                                    [key], {});\n",
              "        if (!dataTable) return;\n",
              "\n",
              "        const docLinkHtml = 'Like what you see? Visit the ' +\n",
              "          '<a target=\"_blank\" href=https://colab.research.google.com/notebooks/data_table.ipynb>data table notebook</a>'\n",
              "          + ' to learn more about interactive tables.';\n",
              "        element.innerHTML = '';\n",
              "        dataTable['output_type'] = 'display_data';\n",
              "        await google.colab.output.renderOutput(dataTable, element);\n",
              "        const docLink = document.createElement('div');\n",
              "        docLink.innerHTML = docLinkHtml;\n",
              "        element.appendChild(docLink);\n",
              "      }\n",
              "    </script>\n",
              "  </div>\n",
              "\n",
              "\n",
              "    <div id=\"df-bce0b328-6331-45b3-80e5-98043b7eba47\">\n",
              "      <button class=\"colab-df-quickchart\" onclick=\"quickchart('df-bce0b328-6331-45b3-80e5-98043b7eba47')\"\n",
              "                title=\"Suggest charts\"\n",
              "                style=\"display:none;\">\n",
              "\n",
              "<svg xmlns=\"http://www.w3.org/2000/svg\" height=\"24px\"viewBox=\"0 0 24 24\"\n",
              "     width=\"24px\">\n",
              "    <g>\n",
              "        <path d=\"M19 3H5c-1.1 0-2 .9-2 2v14c0 1.1.9 2 2 2h14c1.1 0 2-.9 2-2V5c0-1.1-.9-2-2-2zM9 17H7v-7h2v7zm4 0h-2V7h2v10zm4 0h-2v-4h2v4z\"/>\n",
              "    </g>\n",
              "</svg>\n",
              "      </button>\n",
              "\n",
              "<style>\n",
              "  .colab-df-quickchart {\n",
              "      --bg-color: #E8F0FE;\n",
              "      --fill-color: #1967D2;\n",
              "      --hover-bg-color: #E2EBFA;\n",
              "      --hover-fill-color: #174EA6;\n",
              "      --disabled-fill-color: #AAA;\n",
              "      --disabled-bg-color: #DDD;\n",
              "  }\n",
              "\n",
              "  [theme=dark] .colab-df-quickchart {\n",
              "      --bg-color: #3B4455;\n",
              "      --fill-color: #D2E3FC;\n",
              "      --hover-bg-color: #434B5C;\n",
              "      --hover-fill-color: #FFFFFF;\n",
              "      --disabled-bg-color: #3B4455;\n",
              "      --disabled-fill-color: #666;\n",
              "  }\n",
              "\n",
              "  .colab-df-quickchart {\n",
              "    background-color: var(--bg-color);\n",
              "    border: none;\n",
              "    border-radius: 50%;\n",
              "    cursor: pointer;\n",
              "    display: none;\n",
              "    fill: var(--fill-color);\n",
              "    height: 32px;\n",
              "    padding: 0;\n",
              "    width: 32px;\n",
              "  }\n",
              "\n",
              "  .colab-df-quickchart:hover {\n",
              "    background-color: var(--hover-bg-color);\n",
              "    box-shadow: 0 1px 2px rgba(60, 64, 67, 0.3), 0 1px 3px 1px rgba(60, 64, 67, 0.15);\n",
              "    fill: var(--button-hover-fill-color);\n",
              "  }\n",
              "\n",
              "  .colab-df-quickchart-complete:disabled,\n",
              "  .colab-df-quickchart-complete:disabled:hover {\n",
              "    background-color: var(--disabled-bg-color);\n",
              "    fill: var(--disabled-fill-color);\n",
              "    box-shadow: none;\n",
              "  }\n",
              "\n",
              "  .colab-df-spinner {\n",
              "    border: 2px solid var(--fill-color);\n",
              "    border-color: transparent;\n",
              "    border-bottom-color: var(--fill-color);\n",
              "    animation:\n",
              "      spin 1s steps(1) infinite;\n",
              "  }\n",
              "\n",
              "  @keyframes spin {\n",
              "    0% {\n",
              "      border-color: transparent;\n",
              "      border-bottom-color: var(--fill-color);\n",
              "      border-left-color: var(--fill-color);\n",
              "    }\n",
              "    20% {\n",
              "      border-color: transparent;\n",
              "      border-left-color: var(--fill-color);\n",
              "      border-top-color: var(--fill-color);\n",
              "    }\n",
              "    30% {\n",
              "      border-color: transparent;\n",
              "      border-left-color: var(--fill-color);\n",
              "      border-top-color: var(--fill-color);\n",
              "      border-right-color: var(--fill-color);\n",
              "    }\n",
              "    40% {\n",
              "      border-color: transparent;\n",
              "      border-right-color: var(--fill-color);\n",
              "      border-top-color: var(--fill-color);\n",
              "    }\n",
              "    60% {\n",
              "      border-color: transparent;\n",
              "      border-right-color: var(--fill-color);\n",
              "    }\n",
              "    80% {\n",
              "      border-color: transparent;\n",
              "      border-right-color: var(--fill-color);\n",
              "      border-bottom-color: var(--fill-color);\n",
              "    }\n",
              "    90% {\n",
              "      border-color: transparent;\n",
              "      border-bottom-color: var(--fill-color);\n",
              "    }\n",
              "  }\n",
              "</style>\n",
              "\n",
              "      <script>\n",
              "        async function quickchart(key) {\n",
              "          const quickchartButtonEl =\n",
              "            document.querySelector('#' + key + ' button');\n",
              "          quickchartButtonEl.disabled = true;  // To prevent multiple clicks.\n",
              "          quickchartButtonEl.classList.add('colab-df-spinner');\n",
              "          try {\n",
              "            const charts = await google.colab.kernel.invokeFunction(\n",
              "                'suggestCharts', [key], {});\n",
              "          } catch (error) {\n",
              "            console.error('Error during call to suggestCharts:', error);\n",
              "          }\n",
              "          quickchartButtonEl.classList.remove('colab-df-spinner');\n",
              "          quickchartButtonEl.classList.add('colab-df-quickchart-complete');\n",
              "        }\n",
              "        (() => {\n",
              "          let quickchartButtonEl =\n",
              "            document.querySelector('#df-bce0b328-6331-45b3-80e5-98043b7eba47 button');\n",
              "          quickchartButtonEl.style.display =\n",
              "            google.colab.kernel.accessAllowed ? 'block' : 'none';\n",
              "        })();\n",
              "      </script>\n",
              "    </div>\n",
              "\n",
              "  <div id=\"id_78da74fb-e392-4fd4-9252-2cb809f9430d\">\n",
              "    <style>\n",
              "      .colab-df-generate {\n",
              "        background-color: #E8F0FE;\n",
              "        border: none;\n",
              "        border-radius: 50%;\n",
              "        cursor: pointer;\n",
              "        display: none;\n",
              "        fill: #1967D2;\n",
              "        height: 32px;\n",
              "        padding: 0 0 0 0;\n",
              "        width: 32px;\n",
              "      }\n",
              "\n",
              "      .colab-df-generate:hover {\n",
              "        background-color: #E2EBFA;\n",
              "        box-shadow: 0px 1px 2px rgba(60, 64, 67, 0.3), 0px 1px 3px 1px rgba(60, 64, 67, 0.15);\n",
              "        fill: #174EA6;\n",
              "      }\n",
              "\n",
              "      [theme=dark] .colab-df-generate {\n",
              "        background-color: #3B4455;\n",
              "        fill: #D2E3FC;\n",
              "      }\n",
              "\n",
              "      [theme=dark] .colab-df-generate:hover {\n",
              "        background-color: #434B5C;\n",
              "        box-shadow: 0px 1px 3px 1px rgba(0, 0, 0, 0.15);\n",
              "        filter: drop-shadow(0px 1px 2px rgba(0, 0, 0, 0.3));\n",
              "        fill: #FFFFFF;\n",
              "      }\n",
              "    </style>\n",
              "    <button class=\"colab-df-generate\" onclick=\"generateWithVariable('df_clus_DBSCAN')\"\n",
              "            title=\"Generate code using this dataframe.\"\n",
              "            style=\"display:none;\">\n",
              "\n",
              "  <svg xmlns=\"http://www.w3.org/2000/svg\" height=\"24px\"viewBox=\"0 0 24 24\"\n",
              "       width=\"24px\">\n",
              "    <path d=\"M7,19H8.4L18.45,9,17,7.55,7,17.6ZM5,21V16.75L18.45,3.32a2,2,0,0,1,2.83,0l1.4,1.43a1.91,1.91,0,0,1,.58,1.4,1.91,1.91,0,0,1-.58,1.4L9.25,21ZM18.45,9,17,7.55Zm-12,3A5.31,5.31,0,0,0,4.9,8.1,5.31,5.31,0,0,0,1,6.5,5.31,5.31,0,0,0,4.9,4.9,5.31,5.31,0,0,0,6.5,1,5.31,5.31,0,0,0,8.1,4.9,5.31,5.31,0,0,0,12,6.5,5.46,5.46,0,0,0,6.5,12Z\"/>\n",
              "  </svg>\n",
              "    </button>\n",
              "    <script>\n",
              "      (() => {\n",
              "      const buttonEl =\n",
              "        document.querySelector('#id_78da74fb-e392-4fd4-9252-2cb809f9430d button.colab-df-generate');\n",
              "      buttonEl.style.display =\n",
              "        google.colab.kernel.accessAllowed ? 'block' : 'none';\n",
              "\n",
              "      buttonEl.onclick = () => {\n",
              "        google.colab.notebook.generateWithVariable('df_clus_DBSCAN');\n",
              "      }\n",
              "      })();\n",
              "    </script>\n",
              "  </div>\n",
              "\n",
              "    </div>\n",
              "  </div>\n"
            ],
            "application/vnd.google.colaboratory.intrinsic+json": {
              "type": "dataframe",
              "variable_name": "df_clus_DBSCAN",
              "summary": "{\n  \"name\": \"df_clus_DBSCAN\",\n  \"rows\": 17008,\n  \"fields\": [\n    {\n      \"column\": \"Observation Date\",\n      \"properties\": {\n        \"dtype\": \"date\",\n        \"min\": \"1996-04-16 00:00:00\",\n        \"max\": \"2017-08-17 00:00:00\",\n        \"num_unique_values\": 852,\n        \"samples\": [\n          \"2017-06-06 00:00:00\",\n          \"2016-06-12 00:00:00\",\n          \"2017-02-03 00:00:00\"\n        ],\n        \"semantic_type\": \"\",\n        \"description\": \"\"\n      }\n    },\n    {\n      \"column\": \"Latitude\",\n      \"properties\": {\n        \"dtype\": \"number\",\n        \"std\": 16.8178214693892,\n        \"min\": -36.85621,\n        \"max\": 68.392,\n        \"num_unique_values\": 11872,\n        \"samples\": [\n          -5.405463,\n          31.833333,\n          31.218974\n        ],\n        \"semantic_type\": \"\",\n        \"description\": \"\"\n      }\n    },\n    {\n      \"column\": \"Longitude\",\n      \"properties\": {\n        \"dtype\": \"number\",\n        \"std\": 41.034310263191536,\n        \"min\": -146.49,\n        \"max\": 144.847374,\n        \"num_unique_values\": 12051,\n        \"samples\": [\n          23.0361,\n          11.14,\n          7.5287\n        ],\n        \"semantic_type\": \"\",\n        \"description\": \"\"\n      }\n    },\n    {\n      \"column\": \"Time Stamp\",\n      \"properties\": {\n        \"dtype\": \"number\",\n        \"std\": 20468144,\n        \"min\": 829612800,\n        \"max\": 1502928000,\n        \"num_unique_values\": 852,\n        \"samples\": [\n          1496707200,\n          1465689600,\n          1486080000\n        ],\n        \"semantic_type\": \"\",\n        \"description\": \"\"\n      }\n    },\n    {\n      \"column\": \"Time Scaled\",\n      \"properties\": {\n        \"dtype\": \"number\",\n        \"std\": 2368.164375056591,\n        \"min\": 95986.20095999999,\n        \"max\": 173888.7696,\n        \"num_unique_values\": 852,\n        \"samples\": [\n          173169.02304,\n          169580.28672,\n          171939.45599999998\n        ],\n        \"semantic_type\": \"\",\n        \"description\": \"\"\n      }\n    }\n  ]\n}"
            }
          },
          "metadata": {},
          "execution_count": 106
        }
      ],
      "source": [
        "import pandas as pd\n",
        "import numpy as np\n",
        "from sklearn.preprocessing import StandardScaler\n",
        "from sklearn.cluster import DBSCAN\n",
        "\n",
        "df_clus_DBSCAN = df[[\"Observation Date\", \"Latitude\", \"Longitude\"]].copy()\n",
        "df_clus_DBSCAN['Time Stamp'] = df_clus_DBSCAN['Observation Date'].astype(np.int64) // 10**9\n",
        "\n",
        "alpha = 0.0001157\n",
        "df_clus_DBSCAN['Time Scaled'] = df_clus_DBSCAN['Time Stamp'] * alpha\n",
        "\n",
        "X = df_clus_DBSCAN[['Latitude', 'Longitude', 'Time Scaled']].values\n",
        "\n",
        "scaler = StandardScaler()\n",
        "X_scaled = scaler.fit_transform(X)\n",
        "df_clus_DBSCAN\n"
      ]
    },
    {
      "cell_type": "markdown",
      "metadata": {
        "id": "KvHbGZQnQ5NX"
      },
      "source": [
        "#### Tìm esp và min_samples"
      ]
    },
    {
      "cell_type": "code",
      "execution_count": 107,
      "metadata": {
        "colab": {
          "base_uri": "https://localhost:8080/",
          "height": 0
        },
        "id": "2GFno5QqRH6X",
        "outputId": "302297cb-993f-4000-8ccb-39d7e6661c63"
      },
      "outputs": [
        {
          "output_type": "display_data",
          "data": {
            "text/plain": [
              "<Figure size 640x480 with 1 Axes>"
            ],
            "image/png": "[encoded data removed]"
          },
          "metadata": {}
        }
      ],
      "source": [
        "  #Tim esp bang phuong phap khuyu tay\n",
        "  from sklearn.neighbors import NearestNeighbors\n",
        "  import matplotlib.pyplot as plt\n",
        "\n",
        "  min_samples = 5\n",
        "  neigh = NearestNeighbors(n_neighbors=min_samples)\n",
        "  neigh.fit(X_scaled)\n",
        "\n",
        "  # Lấy khoảng cách đến k-th nearest neighbors\n",
        "  distances, indices = neigh.kneighbors(X_scaled)\n",
        "  k_distances = np.sort(distances[:, -1])\n",
        "\n",
        "  plt.plot(k_distances)\n",
        "  plt.title(\"K-Distance Graph\")\n",
        "  plt.xlabel(\"Điểm dữ liệu\")\n",
        "  plt.ylabel(f\"Khoảng cách tới điểm thứ {min_samples}\")\n",
        "  plt.show()\n"
      ]
    },
    {
      "cell_type": "code",
      "execution_count": 108,
      "metadata": {
        "colab": {
          "base_uri": "https://localhost:8080/",
          "height": 0
        },
        "collapsed": true,
        "id": "2bSZ661Ym8DM",
        "outputId": "097c6a8e-a8d2-4562-bf0c-5da0ac817ce0"
      },
      "outputs": [
        {
          "output_type": "execute_result",
          "data": {
            "text/plain": [
              "      Observation Date   Latitude  Longitude  Time Stamp   Time Scaled  \\\n",
              "0           2017-08-17 -27.900000  30.800000  1502928000  173888.76960   \n",
              "1           2017-08-16  54.837037  73.354155  1502841600  173878.77312   \n",
              "2           2017-08-16 -21.077740  30.211620  1502841600  173878.77312   \n",
              "3           2017-08-15 -26.000000  28.300000  1502755200  173868.77664   \n",
              "4           2017-08-15  49.237900  17.700200  1502755200  173868.77664   \n",
              "...                ...        ...        ...         ...           ...   \n",
              "17003       1998-06-01   7.289176   8.857676   896659200  103743.46944   \n",
              "17004       1998-01-01  15.112823 -23.645005   883612800  102234.00096   \n",
              "17005       1997-12-01   6.658696   2.489576   880934400  101924.11008   \n",
              "17006       1997-09-01   7.143645   3.278189   873072000  101014.43040   \n",
              "17007       1996-04-16   5.413067  -4.068581   829612800   95986.20096   \n",
              "\n",
              "       cluster  \n",
              "0            0  \n",
              "1            1  \n",
              "2            0  \n",
              "3            0  \n",
              "4            2  \n",
              "...        ...  \n",
              "17003       -1  \n",
              "17004       -1  \n",
              "17005       -1  \n",
              "17006       -1  \n",
              "17007       -1  \n",
              "\n",
              "[17008 rows x 6 columns]"
            ],
            "text/html": [
              "\n",
              "  <div id=\"df-4735ba27-3971-4d39-bd58-05195b7bc671\" class=\"colab-df-container\">\n",
              "    <div>\n",
              "<style scoped>\n",
              "    .dataframe tbody tr th:only-of-type {\n",
              "        vertical-align: middle;\n",
              "    }\n",
              "\n",
              "    .dataframe tbody tr th {\n",
              "        vertical-align: top;\n",
              "    }\n",
              "\n",
              "    .dataframe thead th {\n",
              "        text-align: right;\n",
              "    }\n",
              "</style>\n",
              "<table border=\"1\" class=\"dataframe\">\n",
              "  <thead>\n",
              "    <tr style=\"text-align: right;\">\n",
              "      <th></th>\n",
              "      <th>Observation Date</th>\n",
              "      <th>Latitude</th>\n",
              "      <th>Longitude</th>\n",
              "      <th>Time Stamp</th>\n",
              "      <th>Time Scaled</th>\n",
              "      <th>cluster</th>\n",
              "    </tr>\n",
              "  </thead>\n",
              "  <tbody>\n",
              "    <tr>\n",
              "      <th>0</th>\n",
              "      <td>2017-08-17</td>\n",
              "      <td>-27.900000</td>\n",
              "      <td>30.800000</td>\n",
              "      <td>1502928000</td>\n",
              "      <td>173888.76960</td>\n",
              "      <td>0</td>\n",
              "    </tr>\n",
              "    <tr>\n",
              "      <th>1</th>\n",
              "      <td>2017-08-16</td>\n",
              "      <td>54.837037</td>\n",
              "      <td>73.354155</td>\n",
              "      <td>1502841600</td>\n",
              "      <td>173878.77312</td>\n",
              "      <td>1</td>\n",
              "    </tr>\n",
              "    <tr>\n",
              "      <th>2</th>\n",
              "      <td>2017-08-16</td>\n",
              "      <td>-21.077740</td>\n",
              "      <td>30.211620</td>\n",
              "      <td>1502841600</td>\n",
              "      <td>173878.77312</td>\n",
              "      <td>0</td>\n",
              "    </tr>\n",
              "    <tr>\n",
              "      <th>3</th>\n",
              "      <td>2017-08-15</td>\n",
              "      <td>-26.000000</td>\n",
              "      <td>28.300000</td>\n",
              "      <td>1502755200</td>\n",
              "      <td>173868.77664</td>\n",
              "      <td>0</td>\n",
              "    </tr>\n",
              "    <tr>\n",
              "      <th>4</th>\n",
              "      <td>2017-08-15</td>\n",
              "      <td>49.237900</td>\n",
              "      <td>17.700200</td>\n",
              "      <td>1502755200</td>\n",
              "      <td>173868.77664</td>\n",
              "      <td>2</td>\n",
              "    </tr>\n",
              "    <tr>\n",
              "      <th>...</th>\n",
              "      <td>...</td>\n",
              "      <td>...</td>\n",
              "      <td>...</td>\n",
              "      <td>...</td>\n",
              "      <td>...</td>\n",
              "      <td>...</td>\n",
              "    </tr>\n",
              "    <tr>\n",
              "      <th>17003</th>\n",
              "      <td>1998-06-01</td>\n",
              "      <td>7.289176</td>\n",
              "      <td>8.857676</td>\n",
              "      <td>896659200</td>\n",
              "      <td>103743.46944</td>\n",
              "      <td>-1</td>\n",
              "    </tr>\n",
              "    <tr>\n",
              "      <th>17004</th>\n",
              "      <td>1998-01-01</td>\n",
              "      <td>15.112823</td>\n",
              "      <td>-23.645005</td>\n",
              "      <td>883612800</td>\n",
              "      <td>102234.00096</td>\n",
              "      <td>-1</td>\n",
              "    </tr>\n",
              "    <tr>\n",
              "      <th>17005</th>\n",
              "      <td>1997-12-01</td>\n",
              "      <td>6.658696</td>\n",
              "      <td>2.489576</td>\n",
              "      <td>880934400</td>\n",
              "      <td>101924.11008</td>\n",
              "      <td>-1</td>\n",
              "    </tr>\n",
              "    <tr>\n",
              "      <th>17006</th>\n",
              "      <td>1997-09-01</td>\n",
              "      <td>7.143645</td>\n",
              "      <td>3.278189</td>\n",
              "      <td>873072000</td>\n",
              "      <td>101014.43040</td>\n",
              "      <td>-1</td>\n",
              "    </tr>\n",
              "    <tr>\n",
              "      <th>17007</th>\n",
              "      <td>1996-04-16</td>\n",
              "      <td>5.413067</td>\n",
              "      <td>-4.068581</td>\n",
              "      <td>829612800</td>\n",
              "      <td>95986.20096</td>\n",
              "      <td>-1</td>\n",
              "    </tr>\n",
              "  </tbody>\n",
              "</table>\n",
              "<p>17008 rows × 6 columns</p>\n",
              "</div>\n",
              "    <div class=\"colab-df-buttons\">\n",
              "\n",
              "  <div class=\"colab-df-container\">\n",
              "    <button class=\"colab-df-convert\" onclick=\"convertToInteractive('df-4735ba27-3971-4d39-bd58-05195b7bc671')\"\n",
              "            title=\"Convert this dataframe to an interactive table.\"\n",
              "            style=\"display:none;\">\n",
              "\n",
              "  <svg xmlns=\"http://www.w3.org/2000/svg\" height=\"24px\" viewBox=\"0 -960 960 960\">\n",
              "    <path d=\"M120-120v-720h720v720H120Zm60-500h600v-160H180v160Zm220 220h160v-160H400v160Zm0 220h160v-160H400v160ZM180-400h160v-160H180v160Zm440 0h160v-160H620v160ZM180-180h160v-160H180v160Zm440 0h160v-160H620v160Z\"/>\n",
              "  </svg>\n",
              "    </button>\n",
              "\n",
              "  <style>\n",
              "    .colab-df-container {\n",
              "      display:flex;\n",
              "      gap: 12px;\n",
              "    }\n",
              "\n",
              "    .colab-df-convert {\n",
              "      background-color: #E8F0FE;\n",
              "      border: none;\n",
              "      border-radius: 50%;\n",
              "      cursor: pointer;\n",
              "      display: none;\n",
              "      fill: #1967D2;\n",
              "      height: 32px;\n",
              "      padding: 0 0 0 0;\n",
              "      width: 32px;\n",
              "    }\n",
              "\n",
              "    .colab-df-convert:hover {\n",
              "      background-color: #E2EBFA;\n",
              "      box-shadow: 0px 1px 2px rgba(60, 64, 67, 0.3), 0px 1px 3px 1px rgba(60, 64, 67, 0.15);\n",
              "      fill: #174EA6;\n",
              "    }\n",
              "\n",
              "    .colab-df-buttons div {\n",
              "      margin-bottom: 4px;\n",
              "    }\n",
              "\n",
              "    [theme=dark] .colab-df-convert {\n",
              "      background-color: #3B4455;\n",
              "      fill: #D2E3FC;\n",
              "    }\n",
              "\n",
              "    [theme=dark] .colab-df-convert:hover {\n",
              "      background-color: #434B5C;\n",
              "      box-shadow: 0px 1px 3px 1px rgba(0, 0, 0, 0.15);\n",
              "      filter: drop-shadow(0px 1px 2px rgba(0, 0, 0, 0.3));\n",
              "      fill: #FFFFFF;\n",
              "    }\n",
              "  </style>\n",
              "\n",
              "    <script>\n",
              "      const buttonEl =\n",
              "        document.querySelector('#df-4735ba27-3971-4d39-bd58-05195b7bc671 button.colab-df-convert');\n",
              "      buttonEl.style.display =\n",
              "        google.colab.kernel.accessAllowed ? 'block' : 'none';\n",
              "\n",
              "      async function convertToInteractive(key) {\n",
              "        const element = document.querySelector('#df-4735ba27-3971-4d39-bd58-05195b7bc671');\n",
              "        const dataTable =\n",
              "          await google.colab.kernel.invokeFunction('convertToInteractive',\n",
              "                                                    [key], {});\n",
              "        if (!dataTable) return;\n",
              "\n",
              "        const docLinkHtml = 'Like what you see? Visit the ' +\n",
              "          '<a target=\"_blank\" href=https://colab.research.google.com/notebooks/data_table.ipynb>data table notebook</a>'\n",
              "          + ' to learn more about interactive tables.';\n",
              "        element.innerHTML = '';\n",
              "        dataTable['output_type'] = 'display_data';\n",
              "        await google.colab.output.renderOutput(dataTable, element);\n",
              "        const docLink = document.createElement('div');\n",
              "        docLink.innerHTML = docLinkHtml;\n",
              "        element.appendChild(docLink);\n",
              "      }\n",
              "    </script>\n",
              "  </div>\n",
              "\n",
              "\n",
              "    <div id=\"df-ee2bf663-1552-4fc0-ae2e-87e4e142e248\">\n",
              "      <button class=\"colab-df-quickchart\" onclick=\"quickchart('df-ee2bf663-1552-4fc0-ae2e-87e4e142e248')\"\n",
              "                title=\"Suggest charts\"\n",
              "                style=\"display:none;\">\n",
              "\n",
              "<svg xmlns=\"http://www.w3.org/2000/svg\" height=\"24px\"viewBox=\"0 0 24 24\"\n",
              "     width=\"24px\">\n",
              "    <g>\n",
              "        <path d=\"M19 3H5c-1.1 0-2 .9-2 2v14c0 1.1.9 2 2 2h14c1.1 0 2-.9 2-2V5c0-1.1-.9-2-2-2zM9 17H7v-7h2v7zm4 0h-2V7h2v10zm4 0h-2v-4h2v4z\"/>\n",
              "    </g>\n",
              "</svg>\n",
              "      </button>\n",
              "\n",
              "<style>\n",
              "  .colab-df-quickchart {\n",
              "      --bg-color: #E8F0FE;\n",
              "      --fill-color: #1967D2;\n",
              "      --hover-bg-color: #E2EBFA;\n",
              "      --hover-fill-color: #174EA6;\n",
              "      --disabled-fill-color: #AAA;\n",
              "      --disabled-bg-color: #DDD;\n",
              "  }\n",
              "\n",
              "  [theme=dark] .colab-df-quickchart {\n",
              "      --bg-color: #3B4455;\n",
              "      --fill-color: #D2E3FC;\n",
              "      --hover-bg-color: #434B5C;\n",
              "      --hover-fill-color: #FFFFFF;\n",
              "      --disabled-bg-color: #3B4455;\n",
              "      --disabled-fill-color: #666;\n",
              "  }\n",
              "\n",
              "  .colab-df-quickchart {\n",
              "    background-color: var(--bg-color);\n",
              "    border: none;\n",
              "    border-radius: 50%;\n",
              "    cursor: pointer;\n",
              "    display: none;\n",
              "    fill: var(--fill-color);\n",
              "    height: 32px;\n",
              "    padding: 0;\n",
              "    width: 32px;\n",
              "  }\n",
              "\n",
              "  .colab-df-quickchart:hover {\n",
              "    background-color: var(--hover-bg-color);\n",
              "    box-shadow: 0 1px 2px rgba(60, 64, 67, 0.3), 0 1px 3px 1px rgba(60, 64, 67, 0.15);\n",
              "    fill: var(--button-hover-fill-color);\n",
              "  }\n",
              "\n",
              "  .colab-df-quickchart-complete:disabled,\n",
              "  .colab-df-quickchart-complete:disabled:hover {\n",
              "    background-color: var(--disabled-bg-color);\n",
              "    fill: var(--disabled-fill-color);\n",
              "    box-shadow: none;\n",
              "  }\n",
              "\n",
              "  .colab-df-spinner {\n",
              "    border: 2px solid var(--fill-color);\n",
              "    border-color: transparent;\n",
              "    border-bottom-color: var(--fill-color);\n",
              "    animation:\n",
              "      spin 1s steps(1) infinite;\n",
              "  }\n",
              "\n",
              "  @keyframes spin {\n",
              "    0% {\n",
              "      border-color: transparent;\n",
              "      border-bottom-color: var(--fill-color);\n",
              "      border-left-color: var(--fill-color);\n",
              "    }\n",
              "    20% {\n",
              "      border-color: transparent;\n",
              "      border-left-color: var(--fill-color);\n",
              "      border-top-color: var(--fill-color);\n",
              "    }\n",
              "    30% {\n",
              "      border-color: transparent;\n",
              "      border-left-color: var(--fill-color);\n",
              "      border-top-color: var(--fill-color);\n",
              "      border-right-color: var(--fill-color);\n",
              "    }\n",
              "    40% {\n",
              "      border-color: transparent;\n",
              "      border-right-color: var(--fill-color);\n",
              "      border-top-color: var(--fill-color);\n",
              "    }\n",
              "    60% {\n",
              "      border-color: transparent;\n",
              "      border-right-color: var(--fill-color);\n",
              "    }\n",
              "    80% {\n",
              "      border-color: transparent;\n",
              "      border-right-color: var(--fill-color);\n",
              "      border-bottom-color: var(--fill-color);\n",
              "    }\n",
              "    90% {\n",
              "      border-color: transparent;\n",
              "      border-bottom-color: var(--fill-color);\n",
              "    }\n",
              "  }\n",
              "</style>\n",
              "\n",
              "      <script>\n",
              "        async function quickchart(key) {\n",
              "          const quickchartButtonEl =\n",
              "            document.querySelector('#' + key + ' button');\n",
              "          quickchartButtonEl.disabled = true;  // To prevent multiple clicks.\n",
              "          quickchartButtonEl.classList.add('colab-df-spinner');\n",
              "          try {\n",
              "            const charts = await google.colab.kernel.invokeFunction(\n",
              "                'suggestCharts', [key], {});\n",
              "          } catch (error) {\n",
              "            console.error('Error during call to suggestCharts:', error);\n",
              "          }\n",
              "          quickchartButtonEl.classList.remove('colab-df-spinner');\n",
              "          quickchartButtonEl.classList.add('colab-df-quickchart-complete');\n",
              "        }\n",
              "        (() => {\n",
              "          let quickchartButtonEl =\n",
              "            document.querySelector('#df-ee2bf663-1552-4fc0-ae2e-87e4e142e248 button');\n",
              "          quickchartButtonEl.style.display =\n",
              "            google.colab.kernel.accessAllowed ? 'block' : 'none';\n",
              "        })();\n",
              "      </script>\n",
              "    </div>\n",
              "\n",
              "  <div id=\"id_ef25ad45-0eea-4dfd-9aec-f6de95c44455\">\n",
              "    <style>\n",
              "      .colab-df-generate {\n",
              "        background-color: #E8F0FE;\n",
              "        border: none;\n",
              "        border-radius: 50%;\n",
              "        cursor: pointer;\n",
              "        display: none;\n",
              "        fill: #1967D2;\n",
              "        height: 32px;\n",
              "        padding: 0 0 0 0;\n",
              "        width: 32px;\n",
              "      }\n",
              "\n",
              "      .colab-df-generate:hover {\n",
              "        background-color: #E2EBFA;\n",
              "        box-shadow: 0px 1px 2px rgba(60, 64, 67, 0.3), 0px 1px 3px 1px rgba(60, 64, 67, 0.15);\n",
              "        fill: #174EA6;\n",
              "      }\n",
              "\n",
              "      [theme=dark] .colab-df-generate {\n",
              "        background-color: #3B4455;\n",
              "        fill: #D2E3FC;\n",
              "      }\n",
              "\n",
              "      [theme=dark] .colab-df-generate:hover {\n",
              "        background-color: #434B5C;\n",
              "        box-shadow: 0px 1px 3px 1px rgba(0, 0, 0, 0.15);\n",
              "        filter: drop-shadow(0px 1px 2px rgba(0, 0, 0, 0.3));\n",
              "        fill: #FFFFFF;\n",
              "      }\n",
              "    </style>\n",
              "    <button class=\"colab-df-generate\" onclick=\"generateWithVariable('df_clus_DBSCAN')\"\n",
              "            title=\"Generate code using this dataframe.\"\n",
              "            style=\"display:none;\">\n",
              "\n",
              "  <svg xmlns=\"http://www.w3.org/2000/svg\" height=\"24px\"viewBox=\"0 0 24 24\"\n",
              "       width=\"24px\">\n",
              "    <path d=\"M7,19H8.4L18.45,9,17,7.55,7,17.6ZM5,21V16.75L18.45,3.32a2,2,0,0,1,2.83,0l1.4,1.43a1.91,1.91,0,0,1,.58,1.4,1.91,1.91,0,0,1-.58,1.4L9.25,21ZM18.45,9,17,7.55Zm-12,3A5.31,5.31,0,0,0,4.9,8.1,5.31,5.31,0,0,0,1,6.5,5.31,5.31,0,0,0,4.9,4.9,5.31,5.31,0,0,0,6.5,1,5.31,5.31,0,0,0,8.1,4.9,5.31,5.31,0,0,0,12,6.5,5.46,5.46,0,0,0,6.5,12Z\"/>\n",
              "  </svg>\n",
              "    </button>\n",
              "    <script>\n",
              "      (() => {\n",
              "      const buttonEl =\n",
              "        document.querySelector('#id_ef25ad45-0eea-4dfd-9aec-f6de95c44455 button.colab-df-generate');\n",
              "      buttonEl.style.display =\n",
              "        google.colab.kernel.accessAllowed ? 'block' : 'none';\n",
              "\n",
              "      buttonEl.onclick = () => {\n",
              "        google.colab.notebook.generateWithVariable('df_clus_DBSCAN');\n",
              "      }\n",
              "      })();\n",
              "    </script>\n",
              "  </div>\n",
              "\n",
              "    </div>\n",
              "  </div>\n"
            ],
            "application/vnd.google.colaboratory.intrinsic+json": {
              "type": "dataframe",
              "variable_name": "df_clus_DBSCAN",
              "summary": "{\n  \"name\": \"df_clus_DBSCAN\",\n  \"rows\": 17008,\n  \"fields\": [\n    {\n      \"column\": \"Observation Date\",\n      \"properties\": {\n        \"dtype\": \"date\",\n        \"min\": \"1996-04-16 00:00:00\",\n        \"max\": \"2017-08-17 00:00:00\",\n        \"num_unique_values\": 852,\n        \"samples\": [\n          \"2017-06-06 00:00:00\",\n          \"2016-06-12 00:00:00\",\n          \"2017-02-03 00:00:00\"\n        ],\n        \"semantic_type\": \"\",\n        \"description\": \"\"\n      }\n    },\n    {\n      \"column\": \"Latitude\",\n      \"properties\": {\n        \"dtype\": \"number\",\n        \"std\": 16.8178214693892,\n        \"min\": -36.85621,\n        \"max\": 68.392,\n        \"num_unique_values\": 11872,\n        \"samples\": [\n          -5.405463,\n          31.833333,\n          31.218974\n        ],\n        \"semantic_type\": \"\",\n        \"description\": \"\"\n      }\n    },\n    {\n      \"column\": \"Longitude\",\n      \"properties\": {\n        \"dtype\": \"number\",\n        \"std\": 41.034310263191536,\n        \"min\": -146.49,\n        \"max\": 144.847374,\n        \"num_unique_values\": 12051,\n        \"samples\": [\n          23.0361,\n          11.14,\n          7.5287\n        ],\n        \"semantic_type\": \"\",\n        \"description\": \"\"\n      }\n    },\n    {\n      \"column\": \"Time Stamp\",\n      \"properties\": {\n        \"dtype\": \"number\",\n        \"std\": 20468144,\n        \"min\": 829612800,\n        \"max\": 1502928000,\n        \"num_unique_values\": 852,\n        \"samples\": [\n          1496707200,\n          1465689600,\n          1486080000\n        ],\n        \"semantic_type\": \"\",\n        \"description\": \"\"\n      }\n    },\n    {\n      \"column\": \"Time Scaled\",\n      \"properties\": {\n        \"dtype\": \"number\",\n        \"std\": 2368.164375056591,\n        \"min\": 95986.20095999999,\n        \"max\": 173888.7696,\n        \"num_unique_values\": 852,\n        \"samples\": [\n          173169.02304,\n          169580.28672,\n          171939.45599999998\n        ],\n        \"semantic_type\": \"\",\n        \"description\": \"\"\n      }\n    },\n    {\n      \"column\": \"cluster\",\n      \"properties\": {\n        \"dtype\": \"number\",\n        \"std\": 1,\n        \"min\": -1,\n        \"max\": 19,\n        \"num_unique_values\": 21,\n        \"samples\": [\n          0,\n          15,\n          16\n        ],\n        \"semantic_type\": \"\",\n        \"description\": \"\"\n      }\n    }\n  ]\n}"
            }
          },
          "metadata": {},
          "execution_count": 108
        }
      ],
      "source": [
        "  db = DBSCAN(eps=0.4, min_samples=5)\n",
        "  df_clus_DBSCAN['cluster'] = db.fit_predict(X_scaled)\n",
        "  df_clus_DBSCAN\n"
      ]
    },
    {
      "cell_type": "code",
      "execution_count": 109,
      "metadata": {
        "colab": {
          "base_uri": "https://localhost:8080/"
        },
        "id": "OffMiWvyjLgh",
        "outputId": "c661b256-0c1d-4a22-ae5d-1d657e1adf6f"
      },
      "outputs": [
        {
          "output_type": "stream",
          "name": "stdout",
          "text": [
            "    Cluster  Số điểm\n",
            "0        -1       83\n",
            "1         0      225\n",
            "2         1       15\n",
            "3         2    15762\n",
            "4         3        8\n",
            "5         4      532\n",
            "6         5       43\n",
            "7         6       11\n",
            "8         7        5\n",
            "9         8        5\n",
            "10        9        8\n",
            "11       10        7\n",
            "12       11       28\n",
            "13       12        7\n",
            "14       13       28\n",
            "15       14      113\n",
            "16       15        9\n",
            "17       16        6\n",
            "18       17        6\n",
            "19       18      101\n",
            "20       19        6\n"
          ]
        }
      ],
      "source": [
        "import pandas as pd\n",
        "\n",
        "cluster_counts = df_clus_DBSCAN['cluster'].value_counts().reset_index()\n",
        "cluster_counts.columns = ['Cluster', 'Số điểm']\n",
        "cluster_counts = cluster_counts.sort_values(by='Cluster').reset_index(drop=True)\n",
        "\n",
        "print(cluster_counts)"
      ]
    },
    {
      "cell_type": "code",
      "execution_count": 110,
      "metadata": {
        "colab": {
          "base_uri": "https://localhost:8080/"
        },
        "id": "h6tcXNn4TxDH",
        "outputId": "3aef3ed9-ad44-4014-e91f-5e26b1f169be"
      },
      "outputs": [
        {
          "output_type": "execute_result",
          "data": {
            "text/plain": [
              "np.int64(83)"
            ]
          },
          "metadata": {},
          "execution_count": 110
        }
      ],
      "source": [
        "#So luong diem nhieu\n",
        "num_noise = np.sum(df_clus_DBSCAN['cluster'] == -1)\n",
        "num_noise"
      ]
    },
    {
      "cell_type": "code",
      "execution_count": 111,
      "metadata": {
        "colab": {
          "base_uri": "https://localhost:8080/",
          "height": 0
        },
        "id": "kKUSRsFHr2wi",
        "outputId": "00eb2cb3-8c83-4e0b-b62e-85c3ec172ced"
      },
      "outputs": [
        {
          "output_type": "stream",
          "name": "stderr",
          "text": [
            "/tmp/ipython-input-529950814.py:5: MatplotlibDeprecationWarning:\n",
            "\n",
            "The get_cmap function was deprecated in Matplotlib 3.7 and will be removed in 3.11. Use ``matplotlib.colormaps[name]`` or ``matplotlib.colormaps.get_cmap()`` or ``pyplot.get_cmap()`` instead.\n",
            "\n"
          ]
        },
        {
          "output_type": "display_data",
          "data": {
            "text/plain": [
              "<Figure size 1000x600 with 1 Axes>"
            ],
            "image/png": "[encoded data removed]"
          },
          "metadata": {}
        }
      ],
      "source": [
        "# Trực quan hóa biểu đồ\n",
        "import matplotlib.pyplot as plt\n",
        "\n",
        "unique_labels = np.unique(df_clus_DBSCAN['cluster'])\n",
        "colors = plt.cm.get_cmap('tab20', len(unique_labels))\n",
        "\n",
        "plt.figure(figsize=(10, 6))\n",
        "\n",
        "for label in unique_labels:\n",
        "    cluster_data = df_clus_DBSCAN[df_clus_DBSCAN['cluster'] == label]\n",
        "    if label == -1:\n",
        "        color = 'gray'\n",
        "        label_name = 'Noise'\n",
        "    else:\n",
        "        color = colors(label)\n",
        "        label_name = f'Cluster {label}'\n",
        "\n",
        "    plt.scatter(cluster_data['Longitude'], cluster_data['Latitude'],\n",
        "                s=20, c=[color], label=label_name, alpha=0.6, edgecolors='k')\n",
        "\n",
        "plt.title('Kết quả phân cụm ổ dịch theo không gian & thời gian (DBSCAN)')\n",
        "plt.xlabel('Kinh độ (Longitude)')\n",
        "plt.ylabel('Vĩ độ (Latitude)')\n",
        "plt.legend()\n",
        "plt.grid(True)\n",
        "plt.tight_layout()\n",
        "plt.show()\n"
      ]
    },
    {
      "cell_type": "markdown",
      "metadata": {
        "id": "rznw19vJ_GVP"
      },
      "source": [
        "### 4.2. Phân cụm theo thời gian và không gian địa lý sử thuật toán MeanShift"
      ]
    },
    {
      "cell_type": "code",
      "execution_count": null,
      "metadata": {
        "id": "i6bx7c6P_Oto"
      },
      "outputs": [],
      "source": [
        "import pandas as pd\n",
        "import numpy as np\n",
        "from sklearn.preprocessing import StandardScaler\n",
        "from sklearn.cluster import MeanShift\n",
        "\n",
        "df_clus_MeanShift = df[[\"Observation Date\", \"Latitude\", \"Longitude\"]].copy()\n",
        "df_clus_MeanShift['Time Stamp'] = df_clus_MeanShift['Observation Date'].astype(np.int64) // 10**9\n",
        "\n",
        "alpha = 0.0001157\n",
        "df_clus_MeanShift['Time Scaled'] = df_clus_MeanShift['Time Stamp'] * alpha\n",
        "\n",
        "X = df_clus_MeanShift[['Latitude', 'Longitude', 'Time Scaled']].values\n",
        "\n",
        "scaler = StandardScaler()\n",
        "X_scaled = scaler.fit_transform(X)\n",
        "\n",
        "# Gom cụm bằng MeanShift\n",
        "ms = MeanShift()\n",
        "ms.fit(X_scaled)\n",
        "\n",
        "df_clus_MeanShift['cluster'] = ms.labels_\n",
        "\n",
        "df_clus_MeanShift"
      ]
    },
    {
      "cell_type": "code",
      "execution_count": null,
      "metadata": {
        "id": "a2tKas_UBVhg"
      },
      "outputs": [],
      "source": [
        "# Trực quan hóa biểu đồ\n",
        "import matplotlib.pyplot as plt\n",
        "\n",
        "plt.figure(figsize=(10, 6))\n",
        "plt.scatter(df_clus_MeanShift['Longitude'], df_clus_MeanShift['Latitude'], c=df_clus_MeanShift['cluster'], cmap='tab20', s=10)\n",
        "plt.xlabel('Kinh độ')\n",
        "plt.ylabel('Vĩ độ')\n",
        "plt.title('Gom cụm theo thời gian và không gian địa lý (Mean Shift)')\n",
        "plt.colorbar(label='Cluster')\n",
        "plt.show()"
      ]
    },
    {
      "cell_type": "code",
      "execution_count": null,
      "metadata": {
        "id": "HfglKkL0HzPR"
      },
      "outputs": [],
      "source": [
        "import pandas as pd\n",
        "\n",
        "cluster_counts = df_clus_MeanShift['cluster'].value_counts().reset_index()\n",
        "cluster_counts.columns = ['Cluster', 'Số điểm']\n",
        "cluster_counts = cluster_counts.sort_values(by='Cluster').reset_index(drop=True)\n",
        "\n",
        "print(cluster_counts)"
      ]
    },
    {
      "cell_type": "markdown",
      "metadata": {
        "id": "-BtbLx7r3IpM"
      },
      "source": [
        "### 4.3. Gom cụm theo thời gian và không gian địa lý sử dụng thuật toán KMean"
      ]
    },
    {
      "cell_type": "code",
      "execution_count": null,
      "metadata": {
        "id": "TWj1ZsBlJn8w"
      },
      "outputs": [],
      "source": [
        "import pandas as pd\n",
        "import numpy as np\n",
        "from sklearn.preprocessing import StandardScaler\n",
        "from sklearn.cluster import KMeans\n",
        "\n",
        "\n",
        "df_clus_Kmean = df[[\"Observation Date\", \"Latitude\", \"Longitude\"]].copy()\n",
        "df_clus_Kmean['Time Stamp'] = df_clus_Kmean['Observation Date'].astype(np.int64) // 10**9\n",
        "\n",
        "alpha = 0.0001157\n",
        "df_clus_Kmean['Time Scaled'] = df_clus_Kmean['Time Stamp'] * alpha\n",
        "\n",
        "X = df_clus_Kmean[['Latitude', 'Longitude', 'Time Scaled']].values\n",
        "\n",
        "scaler = StandardScaler()\n",
        "X_scaled = scaler.fit_transform(X)"
      ]
    },
    {
      "cell_type": "markdown",
      "metadata": {
        "id": "ULmgtE3FInqq"
      },
      "source": [
        "#### Tim số cụm tối ưu cho thuật toán KMean"
      ]
    },
    {
      "cell_type": "code",
      "execution_count": null,
      "metadata": {
        "id": "jtGLtEjYIljQ"
      },
      "outputs": [],
      "source": [
        "#Phuong phap Ebow\n",
        "sse = []\n",
        "k_range = range(1, 11)\n",
        "\n",
        "for k in k_range:\n",
        "    kmeans = KMeans(n_clusters=k, n_init=10, random_state=42)\n",
        "    kmeans.fit(X_scaled)\n",
        "    sse.append(kmeans.inertia_)\n",
        "\n",
        "plt.figure(figsize=(10, 6))\n",
        "plt.plot(k_range, sse, marker='o')\n",
        "plt.title('Phuong phap elbow')\n",
        "plt.xlabel('So cum k')\n",
        "plt.ylabel('SSE')\n",
        "plt.grid(True)\n",
        "plt.show()\n"
      ]
    },
    {
      "cell_type": "code",
      "execution_count": null,
      "metadata": {
        "id": "JZids_igKC8i"
      },
      "outputs": [],
      "source": [
        "from sklearn.metrics import silhouette_score\n",
        "\n",
        "#Tim he so silhouette\n",
        "silhouette_coefficients = []\n",
        "k_range = range(2, 11)\n",
        "for k in k_range:\n",
        "  kmeans = KMeans(n_clusters=k, n_init=10, random_state=42)\n",
        "  kmeans.fit(X_scaled)\n",
        "  score = silhouette_score(X_scaled, kmeans.labels_)\n",
        "  silhouette_coefficients.append(score)\n",
        "\n",
        "plt.figure(figsize=(10, 6))\n",
        "plt.plot(k_range, silhouette_coefficients, marker='o')\n",
        "plt.title('He so silhousette cho cac gia tri k')\n",
        "plt.xlabel('So cum k')\n",
        "plt.ylabel('He so Silhouette trung binh')\n",
        "plt.grid(True)\n",
        "plt.show()"
      ]
    },
    {
      "cell_type": "code",
      "execution_count": null,
      "metadata": {
        "collapsed": true,
        "id": "hCZHlKzk4kRH"
      },
      "outputs": [],
      "source": [
        "from sklearn.cluster import KMeans\n",
        "\n",
        "kmeans = KMeans(n_clusters=3, random_state=42)\n",
        "df_clus_Kmean['cluster'] = kmeans.fit_predict(X_scaled)\n",
        "df_clus_Kmean"
      ]
    },
    {
      "cell_type": "code",
      "execution_count": null,
      "metadata": {
        "id": "3e-657wEjgnG"
      },
      "outputs": [],
      "source": [
        "import pandas as pd\n",
        "\n",
        "cluster_counts = df_clus_Kmean['cluster'].value_counts().reset_index()\n",
        "cluster_counts.columns = ['Cluster', 'Số điểm']\n",
        "cluster_counts = cluster_counts.sort_values(by='Cluster').reset_index(drop=True)\n",
        "\n",
        "print(cluster_counts)"
      ]
    },
    {
      "cell_type": "code",
      "execution_count": null,
      "metadata": {
        "collapsed": true,
        "id": "Qf9ZC5Vn6GJD"
      },
      "outputs": [],
      "source": [
        "# Trực quan hóa lên biểu đồ\n",
        "import matplotlib.pyplot as plt\n",
        "plt.figure(figsize=(10, 6))\n",
        "scatter = plt.scatter(\n",
        "    df_clus_Kmean['Longitude'],\n",
        "    df_clus_Kmean['Latitude'],\n",
        "    c=df_clus_Kmean['cluster'],\n",
        "    cmap='Set1',\n",
        "    s=10,\n",
        "    alpha=0.6 # Do trong suot\n",
        ")\n",
        "plt.title(\"Gom cụm theo thời gian và không gian địa lý (K-Means)\")\n",
        "plt.xlabel(\"Kinh độ\")\n",
        "plt.ylabel(\"Vĩ độ\")\n",
        "plt.colorbar(scatter, label=\"Cluster ID\")\n",
        "plt.grid(True)\n",
        "plt.tight_layout()\n",
        "plt.show()\n"
      ]
    },
    {
      "cell_type": "markdown",
      "metadata": {
        "id": "gqcCT3zYGT2_"
      },
      "source": [
        "### 4.4. Gom cụm theo thời gian và không gian địa lý sử dụng thuật toán HDBSCAN"
      ]
    },
    {
      "cell_type": "code",
      "execution_count": null,
      "metadata": {
        "id": "Kf3sfRd6Gd2k"
      },
      "outputs": [],
      "source": [
        "import pandas as pd\n",
        "import numpy as np\n",
        "from sklearn.cluster import HDBSCAN\n",
        "from sklearn.preprocessing import StandardScaler\n",
        "\n",
        "df_clus_HDBSCAN = df[[\"Observation Date\", \"Latitude\", \"Longitude\"]].copy()\n",
        "df_clus_HDBSCAN['Time Stamp'] = df_clus_HDBSCAN['Observation Date'].astype(np.int64) // 10**9\n",
        "\n",
        "alpha = 0.0001157\n",
        "df_clus_HDBSCAN['Time Scaled'] = df_clus_HDBSCAN['Time Stamp'] * alpha\n",
        "\n",
        "X = df_clus_HDBSCAN[[\"Latitude\", \"Longitude\", \"Time Scaled\"]].values\n",
        "\n",
        "scaler = StandardScaler()\n",
        "X_scaled = scaler.fit_transform(X)\n",
        "\n",
        "clusterer = HDBSCAN(min_cluster_size=170) # 0.01 * so luong diem\n",
        "df_clus_HDBSCAN['cluster'] = clusterer.fit_predict(X_scaled)\n"
      ]
    },
    {
      "cell_type": "code",
      "execution_count": null,
      "metadata": {
        "id": "4VL0ual0Xy7H"
      },
      "outputs": [],
      "source": [
        "#So luong diem nhieu\n",
        "num_noise = np.sum(df_clus_HDBSCAN['cluster'] == -1)\n",
        "num_noise"
      ]
    },
    {
      "cell_type": "code",
      "execution_count": null,
      "metadata": {
        "id": "UT63OoUjJyHu"
      },
      "outputs": [],
      "source": [
        "# Trực quan hóa biểu đồ\n",
        "import matplotlib.pyplot as plt\n",
        "\n",
        "plt.figure(figsize=(10, 6))\n",
        "scatter = plt.scatter(df_clus_HDBSCAN[\"Longitude\"], df_clus_HDBSCAN[\"Latitude\"],\n",
        "                      c=df_clus_HDBSCAN[\"cluster\"], cmap='tab20', s=10)\n",
        "plt.colorbar(scatter, label='Cluster')\n",
        "plt.xlabel(\"Kinh độ\")\n",
        "plt.ylabel(\"Vĩ độ\")\n",
        "plt.title(\"Gom cụm theo thời gian và không gian địa lý (HDBSCAN)\")\n",
        "plt.show()"
      ]
    },
    {
      "cell_type": "code",
      "execution_count": null,
      "metadata": {
        "id": "e6Et0SbCM46H"
      },
      "outputs": [],
      "source": [
        "import pandas as pd\n",
        "\n",
        "cluster_counts = df_clus_HDBSCAN['cluster'].value_counts().reset_index()\n",
        "cluster_counts.columns = ['Cluster', 'Số điểm']\n",
        "cluster_counts = cluster_counts.sort_values(by='Cluster').reset_index(drop=True)\n",
        "\n",
        "print(cluster_counts)\n"
      ]
    },
    {
      "cell_type": "markdown",
      "metadata": {
        "id": "UqzLrezmQE3v"
      },
      "source": [
        "### Gom cụm theo thuật toán HDBSCAN cho ta thấy số lượng cụm rất lớn nguyên nhân là HDBSCAN dựa vào mật độ điểm dữ liệu để tự tìm số cụm tối ưu điều này dẫn đến việc có nhiều cụm nhỏ mặt dù chúng rất sát nhau."
      ]
    },
    {
      "cell_type": "markdown",
      "metadata": {
        "id": "jln-XJAT5_Rz"
      },
      "source": [
        "# 5. Pattern Mining"
      ]
    },
    {
      "cell_type": "markdown",
      "metadata": {
        "id": "JOYC6ZTDKKXK"
      },
      "source": [
        "## 5.1. Frequent Itemset Mining"
      ]
    },
    {
      "cell_type": "markdown",
      "metadata": {
        "id": "bD1cPzmg6n1O"
      },
      "source": [
        "Phân tích các mối quan hệ phổ biến giữa bệnh, khu vực và loài vật bằng cách tìm các tổ hợp xuất hiện thường xuyên (Frequent Itemsets) và sinh ra các luật kết hợp (Association Rules) để xác định kiểu “nếu có loài A ở vùng B thì thường xảy ra bệnh C\"\n",
        "\n",
        "VD: Nếu loài vật là Wild Boar ở khu vực Africa, thì bệnh thường gặp là Foot and mouth disease"
      ]
    },
    {
      "cell_type": "markdown",
      "metadata": {
        "id": "q0HnHzFaKPUK"
      },
      "source": [
        "###5.1.1 Làm sạch dữ liệu"
      ]
    },
    {
      "cell_type": "code",
      "execution_count": null,
      "metadata": {
        "id": "O_0UCqPCLD0S"
      },
      "outputs": [],
      "source": [
        "df.info()"
      ]
    },
    {
      "cell_type": "code",
      "execution_count": null,
      "metadata": {
        "id": "jGT8TLTme1AY"
      },
      "outputs": [],
      "source": [
        "#Domestic: Thuần hóa\n",
        "#Wild: Hoang dã\n",
        "#Captive: Nuôi nhốt\n",
        "import re\n",
        "\n",
        "# Hàm tách và làm sạch Species Description\n",
        "def clean_and_split_species(desc):\n",
        "    if pd.isna(desc):\n",
        "        return [\"unknown\"]\n",
        "\n",
        "    desc = desc.lower().strip()\n",
        "    desc = re.sub(r\"\\([^()]*\\)\", \"\", desc)  # Loại bỏ nội dung trong ngoặc\n",
        "    desc = re.sub(r\"\\s*[()]\\s*\", \"\", desc)  # Loại bỏ dấu ngoặc đơn lẻ\n",
        "    parts = [p.strip() for p in desc.split(\",\") if p.strip()]\n",
        "\n",
        "    result = []\n",
        "    i = 0\n",
        "    while i < len(parts):\n",
        "        if parts[i] in [\"domestic\", \"wild\", \"captive\"]:\n",
        "            if i + 1 < len(parts) and parts[i + 1] not in [\"domestic\", \"wild\", \"captive\"]:\n",
        "                species = parts[i + 1]\n",
        "                if species.startswith(parts[i]):\n",
        "                    species = species[len(parts[i]):].strip()\n",
        "                result.append(f\"{parts[i]} {species}\")\n",
        "                i += 2\n",
        "            else:\n",
        "                result.append(parts[i])\n",
        "                i += 1\n",
        "        else:\n",
        "            result.append(parts[i])\n",
        "            i += 1\n",
        "    return result\n",
        "# Mở rộng các dòng dựa trên species\n",
        "expanded_rows = []\n",
        "for _, row in df.iterrows():\n",
        "    species_list = clean_and_split_species(row[\"Species Description\"])\n",
        "    for species in species_list:\n",
        "        new_row = row.copy()\n",
        "        new_row[\"Species Description\"] = species\n",
        "        expanded_rows.append(new_row)\n",
        "\n",
        "# Tạo DataFrame mới\n",
        "df_cleaned = pd.DataFrame(expanded_rows).reset_index(drop=True)"
      ]
    },
    {
      "cell_type": "markdown",
      "metadata": {
        "id": "nzzj9vtflZPD"
      },
      "source": [
        "Tiến hành phân tích dựa trên 3 cột dữ liệu Species Description, Country và Disease. Các cột dữ liệu Disease và Country tương đối đã sạch. Cột Species Description có chứa các dấu \")\" và \"()\" dư thừa và trên hàng dữ liệu có nhiều hàng có nhiều dữ liệu VD: \"Wild Boar, Domestic Duck\". Tiến hành làm sạch dữ liệu và chuẩn hóa dữ liệu, sinh ra thêm các dòng dữ liệu mới với các dòng dữ liệu có nhiều giá trị"
      ]
    },
    {
      "cell_type": "markdown",
      "metadata": {
        "id": "6a6wilC8mhZL"
      },
      "source": [
        "### 5.1.2 Dữ liệu sau khi làm sạch"
      ]
    },
    {
      "cell_type": "code",
      "execution_count": null,
      "metadata": {
        "id": "Z_tayIMKmlPL"
      },
      "outputs": [],
      "source": [
        "df_cleaned"
      ]
    },
    {
      "cell_type": "code",
      "execution_count": null,
      "metadata": {
        "id": "0iex6Ya2m2Mr"
      },
      "outputs": [],
      "source": [
        "df_cleaned.shape"
      ]
    },
    {
      "cell_type": "markdown",
      "metadata": {
        "id": "gTwmsCzjm5hj"
      },
      "source": [
        "Bộ dữ liệu đã tăng lên thay từ 17008 dòng lên 18092 dòng dữ liệu"
      ]
    },
    {
      "cell_type": "markdown",
      "metadata": {
        "id": "HwYe3TxZnCnL"
      },
      "source": [
        "### 5.1.3 Biến đổi Dữ liệu sang dạng giao dịch (transaction)"
      ]
    },
    {
      "cell_type": "code",
      "execution_count": null,
      "metadata": {
        "id": "9yOYjtbcKL1a"
      },
      "outputs": [],
      "source": [
        "transactions = df_cleaned.groupby('Id').apply(\n",
        "    lambda x: list(set(\n",
        "        x['Country'].astype(str).tolist() +\n",
        "        x['Disease'].astype(str).tolist() +\n",
        "        x['Species Description'].astype(str).tolist()\n",
        "    ))\n",
        ").tolist()\n",
        "for t in transactions[:3]:\n",
        "    print(t)"
      ]
    },
    {
      "cell_type": "markdown",
      "metadata": {
        "id": "eVQd8aipnZ1E"
      },
      "source": [
        "\n",
        "Nhóm DataFrame sau khi làm sạch theo 'Id', gộp các giá trị duy nhất của Country, Disease và Species Description thành danh sách, rồi in ba tập giao dịch đầu tiên."
      ]
    },
    {
      "cell_type": "markdown",
      "metadata": {
        "id": "TPsJyMrRM8xZ"
      },
      "source": [
        "###Mã hóa giao dịch về dạng true/false (transaction-endcoding)"
      ]
    },
    {
      "cell_type": "code",
      "execution_count": null,
      "metadata": {
        "id": "OwrX3G8nNDqx"
      },
      "outputs": [],
      "source": [
        "from mlxtend.preprocessing import TransactionEncoder\n",
        "\n",
        "te = TransactionEncoder()\n",
        "te_array = te.fit_transform(transactions)\n",
        "df_encoded = pd.DataFrame(te_array, columns=te.columns_).astype(bool)\n",
        "\n",
        "df_encoded"
      ]
    },
    {
      "cell_type": "markdown",
      "metadata": {
        "id": "8avdLQctNX-3"
      },
      "source": [
        "###5.1.4 Áp dụng thuật toán Apriori"
      ]
    },
    {
      "cell_type": "code",
      "execution_count": null,
      "metadata": {
        "id": "bDVyhv9PNc8R"
      },
      "outputs": [],
      "source": [
        "from mlxtend.frequent_patterns import apriori\n",
        "\n",
        "frequent_itemsets = apriori(df_encoded, min_support=0.01, use_colnames=True)\n",
        "frequent_itemsets = frequent_itemsets.sort_values(by='support', ascending=False)\n",
        "\n",
        "print(frequent_itemsets.head(10))"
      ]
    },
    {
      "cell_type": "markdown",
      "metadata": {
        "id": "8Cr7kHE5n-cT"
      },
      "source": [
        "- Các bệnh như Influenza - Avian, Bluetongue, African swine fever, và domestic cattle là những mục xuất hiện thường xuyên nhất\n",
        "- Các tổ hợp như (domestic cattle, Bluetongue) hoặc (African swine fever, wild boar) cho thấy mối liên hệ thường xuyên giữa các yếu tố này trong dữ liệu\n",
        "- France là một địa điểm thường xuyên xuất hiện trong dữ liệu, có thể liên quan đến các báo cáo dịch bệnh\n",
        "- Các tập hợp mục trong top 10 đều có hỗ trợ từ 12.41% đến 38.09%, cho thấy chúng xuất hiện trong một tỷ lệ đáng kể các giao dịch"
      ]
    },
    {
      "cell_type": "markdown",
      "metadata": {
        "id": "9PkeLApMose7"
      },
      "source": [
        "###5.1.5 Vẽ biểu đồ trực quan hóa"
      ]
    },
    {
      "cell_type": "code",
      "execution_count": null,
      "metadata": {
        "id": "BQECmUMGLVcb"
      },
      "outputs": [],
      "source": [
        "import matplotlib.pyplot as plt\n",
        "\n",
        "top_sets = frequent_itemsets.head(10)\n",
        "labels = [' + '.join(item) for item in top_sets['itemsets']]\n",
        "plt.figure(figsize=(10, 6))\n",
        "plt.barh(labels, top_sets['support'], color='skyblue')\n",
        "plt.xlabel('Support (Tần suất)')\n",
        "plt.title('Top 10 Tổ hợp phổ biến')\n",
        "plt.gca().invert_yaxis()\n",
        "plt.tight_layout()\n",
        "plt.show()"
      ]
    },
    {
      "cell_type": "markdown",
      "metadata": {
        "id": "y8_6mCTUOLxz"
      },
      "source": [
        "### 5.1.6 Sinh các luật kết hợp từ các item phổ biến"
      ]
    },
    {
      "cell_type": "code",
      "execution_count": null,
      "metadata": {
        "id": "gpV49PhWON7R"
      },
      "outputs": [],
      "source": [
        "from mlxtend.frequent_patterns import association_rules\n",
        "from mlxtend.frequent_patterns import apriori\n",
        "\n",
        "\n",
        "# Tạo Association Rules\n",
        "rules = association_rules(frequent_itemsets, metric=\"lift\", min_threshold=1.0)\n",
        "rules = rules[rules['confidence'] >= 0.6].sort_values(by='confidence', ascending=False)\n",
        "\n",
        "# Làm đẹp và lọc các luật dạng Country + Species Description → Disease\n",
        "rules_display = rules[['antecedents', 'consequents', 'support', 'confidence', 'lift']].copy()\n",
        "rules_display['antecedents'] = rules_display['antecedents'].apply(lambda x: ', '.join(sorted(list(x))))\n",
        "rules_display['consequents'] = rules_display['consequents'].apply(lambda x: ', '.join(sorted(list(x))))\n",
        "\n",
        "# Lọc các luật có Country và Species Description trong antecedents, Disease trong consequents\n",
        "def is_valid_rule(row):\n",
        "    antecedents = set(row['antecedents'].split(', '))\n",
        "    consequents = set(row['consequents'].split(', '))\n",
        "    has_country = any(df_cleaned['Country'].isin(antecedents).any() for x in antecedents)\n",
        "    has_species = any(df_cleaned['Species Description'].isin(antecedents).any() for x in antecedents)\n",
        "    has_disease = any(df_cleaned['Disease'].isin(consequents).any() for x in consequents)\n",
        "    return has_country and has_species and has_disease\n",
        "\n",
        "target_rules = rules_display[rules_display.apply(is_valid_rule, axis=1)]\n",
        "\n",
        "rules_display.head(10)\n"
      ]
    },
    {
      "cell_type": "markdown",
      "metadata": {
        "id": "wI3KKczMedbI"
      },
      "source": [
        "###5.1.7 kết quả"
      ]
    },
    {
      "cell_type": "code",
      "execution_count": null,
      "metadata": {
        "id": "bXaWWS8XXE4k"
      },
      "outputs": [],
      "source": [
        "print(\"Nếu loài A ở vùng B thì bệnh thường là C:\")\n",
        "for idx, row in target_rules.iterrows():\n",
        "    try:\n",
        "        antecedents = row['antecedents'].split(', ')\n",
        "        consequents = row['consequents'].split(', ')\n",
        "        country = next(x for x in antecedents if x in df_cleaned['Country'].values)\n",
        "        species = next(x for x in antecedents if x in df_cleaned['Species Description'].values)\n",
        "        disease = next(x for x in consequents if x in df_cleaned['Disease'].values)\n",
        "        print(f\"Nếu loài {species} ở {country}, thì bệnh thường là {disease} \"\n",
        "              f\"(confidence={row['confidence']:.2f}, lift={row['lift']:.2f})\")\n",
        "    except StopIteration:\n",
        "        continue"
      ]
    },
    {
      "cell_type": "markdown",
      "metadata": {
        "id": "gWa24yTTKG0L"
      },
      "source": [
        "## 5.2 Sequential Pattern Mining"
      ]
    },
    {
      "cell_type": "markdown",
      "metadata": {
        "id": "RdwhUe0347Km"
      },
      "source": [
        "Phân tích chuỗi sự kiện bệnh dịch theo thời gian bằng cách khai thác các mẫu tuần tự (Sequential Patterns). Mỗi quốc gia được xem là một đơn vị theo dõi, và các sự kiện bệnh được sắp xếp theo trình tự thời gian. Sử dụng thuật toán PrefixSpan để tìm ra các chuỗi bệnh thường xuyên lặp lại, giúp phát hiện các xu hướng lây lan theo thời gian hoặc mô hình tái bùng phát dịch\n",
        "\n",
        "Ví dụ:\n",
        "Nếu tại một quốc gia có dịch Influenza - Avian, sau đó thường xảy ra tiếp Foot and mouth disease, có thể là một chuỗi tuần tự đáng chú ý"
      ]
    },
    {
      "cell_type": "markdown",
      "metadata": {
        "id": "24QlRlVZMouz"
      },
      "source": [
        "### 5.2.1 cài đặt thư viện prefixspan"
      ]
    },
    {
      "cell_type": "code",
      "execution_count": null,
      "metadata": {
        "id": "ERd2bVGw22D4"
      },
      "outputs": [],
      "source": [
        "pip install prefixspan"
      ]
    },
    {
      "cell_type": "markdown",
      "metadata": {
        "id": "y5rAxD2I9Eix"
      },
      "source": [
        "###5.2.2 Tạo mới cột event"
      ]
    },
    {
      "cell_type": "code",
      "execution_count": null,
      "metadata": {
        "id": "Y8opWwx88kAB"
      },
      "outputs": [],
      "source": [
        "df_cleaned['event'] = df_cleaned['Disease']"
      ]
    },
    {
      "cell_type": "markdown",
      "metadata": {
        "id": "maubjN1l29p3"
      },
      "source": [
        "### 5.2.3 Gom nhóm theo country, loại bỏ các trùng lắp và lọc chuỗi\n"
      ]
    },
    {
      "cell_type": "code",
      "execution_count": null,
      "metadata": {
        "id": "by0cYjDT2_qY"
      },
      "outputs": [],
      "source": [
        "sequences = []\n",
        "for country, group in df_cleaned.groupby('Country'):\n",
        "    group_sorted = group.sort_values('Observation Date')\n",
        "    event_sequence = group_sorted['event'].tolist()\n",
        "\n",
        "    # Loại bỏ các sự kiện trùng nhau liên tiếp\n",
        "    cleaned_sequence = []\n",
        "    for i, event in enumerate(event_sequence):\n",
        "        if i == 0 or event != event_sequence[i - 1]:\n",
        "            cleaned_sequence.append(event)\n",
        "\n",
        "    # Lọc chuỗi đủ độ dài\n",
        "    if 2 <= len(cleaned_sequence) <= 50:\n",
        "        sequences.append(cleaned_sequence)\n",
        "\n",
        "print(f\"Tổng số chuỗi hợp lệ: {len(sequences)}\")"
      ]
    },
    {
      "cell_type": "markdown",
      "metadata": {
        "id": "xZnlUx5Q6XZm"
      },
      "source": [
        "Tạo danh sách chuỗi sự kiện theo từng quốc gia bằng cách nhóm dữ liệu theo quốc gia, sắp xếp theo thời gian, loại bỏ sự kiện trùng lặp liên tiếp và lọc các chuỗi có độ dài hợp lệ"
      ]
    },
    {
      "cell_type": "markdown",
      "metadata": {
        "id": "pbRuFM1u3HE_"
      },
      "source": [
        "###5.2.4 Áp dụng PrefixSpan\n"
      ]
    },
    {
      "cell_type": "code",
      "execution_count": null,
      "metadata": {
        "id": "qFd-dDYk2g-J"
      },
      "outputs": [],
      "source": [
        "from prefixspan import PrefixSpan\n",
        "\n",
        "ps = PrefixSpan(sequences)\n",
        "raw_patterns = ps.frequent(5)"
      ]
    },
    {
      "cell_type": "code",
      "execution_count": null,
      "metadata": {
        "id": "Z6Q2c1-61zm_"
      },
      "outputs": [],
      "source": [
        "# Lọc chuỗi độ dài 2–4 và loại chuỗi chỉ 1 loại bệnh\n",
        "patterns = []\n",
        "for support, seq in raw_patterns:\n",
        "    if 2 <= len(seq) <= 4 and len(set(seq)) > 1:\n",
        "        patterns.append((support, seq))\n",
        "\n",
        "# Sắp xếp chuỗi theo support giảm dần\n",
        "top_patterns = sorted(patterns, key=lambda x: (-x[0], len(x[1])))"
      ]
    },
    {
      "cell_type": "markdown",
      "metadata": {
        "id": "wk8hhh6C6pyJ"
      },
      "source": [
        " Áp dụng thuật toán PrefixSpan để khai phá các mẫu chuỗi tuần tự có độ dài từ 2 đến 4 sự kiện và chứa nhiều loại sự kiện khác nhau, sau đó sắp xếp các mẫu theo mức độ phổ biến (support) để chọn ra các chuỗi đáng chú ý"
      ]
    },
    {
      "cell_type": "markdown",
      "metadata": {
        "id": "81Xef5593VvH"
      },
      "source": [
        "### 5.2.5 Kết quả"
      ]
    },
    {
      "cell_type": "code",
      "execution_count": null,
      "metadata": {
        "id": "-Y1zbkUbGJvH"
      },
      "outputs": [],
      "source": [
        "print(f\"Top {min(10, len(top_patterns))} chuỗi tuần tự phổ biến nhất:\")\n",
        "for support, seq in top_patterns[:10]:\n",
        "    print(f\"Support: {support} | Sequence: {' → '.join(seq)}\")"
      ]
    },
    {
      "cell_type": "markdown",
      "metadata": {
        "id": "_KKCzSLA9ylb"
      },
      "source": [
        "Kết quả cho thấy Influenza - Avian là bệnh xuất hiện thường xuyên trong các chuỗi sự kiện, đặc biệt là sau các bệnh như Bluetongue, Foot and mouth disease, Anthrax và Rabies. Điều này cho thấy Influenza - Avian có xu hướng xảy ra kế tiếp sau nhiều loại bệnh khác, phản ánh khả năng lây lan cao hoặc mối liên hệ giữa các đợt bùng phát bệnh"
      ]
    },
    {
      "cell_type": "markdown",
      "metadata": {
        "id": "arTtnIbA38s2"
      },
      "source": [
        "###Vẽ biểu đồ trực quan"
      ]
    },
    {
      "cell_type": "code",
      "execution_count": null,
      "metadata": {
        "id": "0U45BcOQ3_nf"
      },
      "outputs": [],
      "source": [
        "import seaborn as sns\n",
        "\n",
        "# Chuẩn bị dữ liệu cho biểu đồ (top 10)\n",
        "labels = [' → '.join(p[1]) for p in top_patterns[:10]]\n",
        "supports = [p[0] for p in top_patterns[:10]]\n",
        "\n",
        "# Vẽ biểu đồ cột ngang\n",
        "plt.figure(figsize=(12, 6))\n",
        "sns.barplot(x=supports, y=labels, palette='viridis')\n",
        "plt.xlabel('Số Lượng Quốc Gia (Support)')\n",
        "plt.ylabel('Chuỗi Sự Kiện')\n",
        "plt.title('Top 10 Chuỗi Sự Kiện Bệnh Dịch Phổ Biến Nhất')\n",
        "plt.gca().invert_yaxis()\n",
        "plt.tight_layout()\n",
        "plt.savefig('sequential_patterns.png')\n",
        "plt.show()"
      ]
    },
    {
      "cell_type": "markdown",
      "metadata": {
        "id": "G2kjAmvH6V2j"
      },
      "source": [
        "#6. Regression"
      ]
    },
    {
      "cell_type": "markdown",
      "metadata": {
        "id": "h4jOjdtf6eXi"
      },
      "source": [
        "Regression (hồi quy) trong khai phá dữ liệu (data mining) là một kỹ thuật dùng để dự đoán giá trị của một biến liên tục (biến số lượng) dựa trên giá trị của một hoặc nhiều biến đầu vào. Nó được xem là một trong những phương pháp dự báo (predictive modeling) phổ biến nhất trong lĩnh vực khai phá dữ liệu.\n",
        "Với bộ dữ liệu EMPRES, có thể áp dụng hồi quy (regression) để dự đoán số ca bệnh, số con chết hoặc số bị tiêu huỷ dựa vào các yếu tố không gian, thời gian và dịch bệnh."
      ]
    },
    {
      "cell_type": "markdown",
      "metadata": {
        "id": "0bec3d4f"
      },
      "source": [
        "## 6.1. Huấn luyện mô hình Decision Tree Regressor"
      ]
    },
    {
      "cell_type": "code",
      "execution_count": null,
      "metadata": {
        "id": "2734d409"
      },
      "outputs": [],
      "source": [
        "from sklearn.tree import DecisionTreeRegressor\n",
        "from sklearn.tree import plot_tree\n",
        "from sklearn.model_selection import train_test_split\n",
        "from sklearn.metrics import mean_squared_error, r2_score\n",
        "from sklearn.preprocessing import OneHotEncoder\n",
        "from sklearn.compose import ColumnTransformer\n",
        "from sklearn.pipeline import Pipeline\n",
        "import matplotlib.pyplot as plt\n",
        "import pandas as pd\n",
        "\n",
        "# Dự đoán Sum Cases (số ca nhiễm) từ các đặc trưng đầu vào\n",
        "features = ['Sum At Risk', 'Sum Deaths', 'report late', 'Latitude', 'Longitude', 'Disease', 'Region']\n",
        "target = 'Sum Cases'\n",
        "\n",
        "df_reg = df.dropna(subset=[target]).copy()\n",
        "\n",
        "# Xử lý dữ liệu đầu vào\n",
        "X = df_reg[features]\n",
        "y = df_reg[target]\n",
        "\n",
        "categorical_features = ['Disease', 'Region']\n",
        "numerical_features = ['Sum At Risk', 'Sum Deaths', 'report late', 'Latitude', 'Longitude']\n",
        "\n",
        "# Tiền xử lý với ColumnTransformer\n",
        "preprocessor = ColumnTransformer(\n",
        "    transformers=[\n",
        "        ('num', 'passthrough', numerical_features),\n",
        "        ('cat', OneHotEncoder(handle_unknown='ignore'), categorical_features)\n",
        "    ])\n",
        "\n",
        "# Xây dựng Pipeline với DecisionTreeRegressor\n",
        "model_dt = Pipeline(steps=[('preprocessor', preprocessor),\n",
        "                      ('regressor', DecisionTreeRegressor(random_state=42))])\n",
        "\n",
        "# Chia train/test và huấn luyện\n",
        "X_train, X_test, y_train, y_test = train_test_split(X, y, test_size=0.2, random_state=42)\n",
        "\n",
        "model_dt.fit(X_train, y_train)\n",
        "\n",
        "# Dự đoán và đánh giá\n",
        "y_pred_dt = model_dt.predict(X_test)\n",
        "\n",
        "mse_dt = mean_squared_error(y_test, y_pred_dt)\n",
        "r2_dt = r2_score(y_test, y_pred_dt)\n",
        "\n",
        "# Kết quả\n",
        "print(f\"Decision Tree Regressor - Mean Squared Error (MSE): {mse_dt}\")\n",
        "print(f\"Decision Tree Regressor - R-squared (R2): {r2_dt}\")\n",
        "\n",
        "results_dt = pd.DataFrame({'Actual': y_test, 'Predicted': y_pred_dt})\n",
        "print(\"\\nPrediction Results (first 5 rows):\")\n",
        "display(results_dt.head())"
      ]
    },
    {
      "cell_type": "markdown",
      "metadata": {
        "id": "e0747baa"
      },
      "source": [
        "## 6.2. Trực quan hóa cây quyết định"
      ]
    },
    {
      "cell_type": "code",
      "execution_count": null,
      "metadata": {
        "id": "ae33041d"
      },
      "outputs": [],
      "source": [
        "# Để trực quan hóa, chúng ta cần trích xuất Decision Tree model từ pipeline\n",
        "# và lấy tên các đặc trưng sau khi tiền xử lý\n",
        "feature_names = numerical_features + \\\n",
        "                list(model_dt.named_steps['preprocessor'].named_transformers_['cat'].get_feature_names_out(categorical_features))\n",
        "\n",
        "plt.figure(figsize=(20,10))\n",
        "plot_tree(model_dt.named_steps['regressor'],\n",
        "          feature_names=feature_names,\n",
        "          filled=True,\n",
        "          max_depth=3, # Giới hạn độ sâu để cây dễ nhìn hơn\n",
        "          fontsize=8)\n",
        "plt.title(\"Decision Tree Regressor (Max Depth=3)\")\n",
        "plt.show()"
      ]
    },
    {
      "cell_type": "markdown",
      "metadata": {
        "id": "z6Li9HX6M8N9"
      },
      "source": [
        "## 6.3. Quy trình hồi quy tuyến tính (Linear Regression) dự đoán số ca nhiễm bệnh (Sum Cases)"
      ]
    },
    {
      "cell_type": "code",
      "execution_count": null,
      "metadata": {
        "id": "_yb5WOLFHM7a"
      },
      "outputs": [],
      "source": [
        "\n",
        "import pandas as pd\n",
        "\n",
        "from sklearn.model_selection import train_test_split\n",
        "from sklearn.linear_model import LinearRegression\n",
        "from sklearn.metrics import mean_squared_error, r2_score\n",
        "from sklearn.preprocessing import OneHotEncoder\n",
        "from sklearn.compose import ColumnTransformer\n",
        "from sklearn.pipeline import Pipeline\n",
        "\n",
        "# Dự đoán Sum Cases (số ca nhiễm) từ các đặc trưng đầu vào\n",
        "\n",
        "features = ['Sum At Risk', 'Sum Deaths', 'report late', 'Latitude', 'Longitude', 'Disease', 'Region']\n",
        "target = 'Sum Cases'\n",
        "\n",
        "df_reg = df.dropna(subset=[target]).copy()\n",
        "\n",
        "# Xử lý dữ liệu đầu vào\n",
        "X = df_reg[features]\n",
        "y = df_reg[target]\n",
        "\n",
        "categorical_features = ['Disease', 'Region']\n",
        "numerical_features = ['Sum At Risk', 'Sum Deaths', 'report late', 'Latitude', 'Longitude']\n",
        "\n",
        "# Tiền xử lý với ColumnTransformer\n",
        "preprocessor = ColumnTransformer(\n",
        "    transformers=[\n",
        "        ('num', 'passthrough', numerical_features),\n",
        "        ('cat', OneHotEncoder(handle_unknown='ignore'), categorical_features)\n",
        "    ])\n",
        "\n",
        "# Xây dựng Pipeline\n",
        "model = Pipeline(steps=[('preprocessor', preprocessor),\n",
        "                      ('regressor', LinearRegression())])\n",
        "\n",
        "# Chia train/test và huấn luyện\n",
        "X_train, X_test, y_train, y_test = train_test_split(X, y, test_size=0.2, random_state=42)\n",
        "\n",
        "model.fit(X_train, y_train)\n",
        "\n",
        "# Dự đoán và đánh giá\n",
        "y_pred = model.predict(X_test)\n",
        "\n",
        "mse = mean_squared_error(y_test, y_pred)\n",
        "r2 = r2_score(y_test, y_pred)\n",
        "\n",
        "# Kết quả\n",
        "print(f\"Mean Squared Error (MSE): {mse}\")\n",
        "print(f\"R-squared (R2): {r2}\")\n",
        "\n",
        "results = pd.DataFrame({'Actual': y_test, 'Predicted': y_pred})\n",
        "results.head()"
      ]
    },
    {
      "cell_type": "markdown",
      "metadata": {
        "id": "f-uLPhc_Kp9E"
      },
      "source": [
        "MSE cao → mô hình đang dự đoán chưa sát, đặc biệt nếu có nhiều outlier (ca nhiễm rất lớn), MSE sẽ bị kéo cao"
      ]
    },
    {
      "cell_type": "markdown",
      "metadata": {
        "id": "z7jHRCrwKyrI"
      },
      "source": [
        "Với R² = 0.38 → mô hình hiện tại chỉ giải thích được 38% biến động của số ca nhiễm.\n",
        "\n",
        "Ý nghĩa: Mô hình tuyến tính hiện tại chưa tốt, vì còn 62% biến động không được giải thích, có thể do:\n",
        "\n",
        "Dữ liệu phân tán, không tuyến tính.\n",
        "\n",
        "Còn thiếu biến quan trọng (ví dụ: thời gian, loại vật nuôi, biện pháp phòng dịch...).\n",
        "\n",
        "Hoặc mối quan hệ giữa các yếu tố phức tạp, cần mô hình phi tuyến như Random Forest hoặc XGBoost."
      ]
    },
    {
      "cell_type": "markdown",
      "metadata": {
        "id": "bJyXmuM0LLbU"
      },
      "source": [
        "Mô hình đang dự đoán sai lệch rất lớn với các ca bệnh thấp (1, 2, 11). Việc dự đoán ra số âm (như -94) cũng cho thấy mô hình không hợp lý với dữ liệu rời rạc và skewed như số ca bệnh."
      ]
    },
    {
      "cell_type": "markdown",
      "metadata": {
        "id": "0saaFFS7CQdJ"
      },
      "source": [
        "## 6.4. Biểu đồ Actual vs Predicted cho Linear Regression"
      ]
    },
    {
      "cell_type": "code",
      "execution_count": null,
      "metadata": {
        "id": "6oVpJ185CDjO"
      },
      "outputs": [],
      "source": [
        "import matplotlib.pyplot as plt\n",
        "import seaborn as sns\n",
        "\n",
        "plt.figure(figsize=(8, 6))\n",
        "sns.scatterplot(data=results, x='Actual', y='Predicted', alpha=0.6)\n",
        "plt.plot([results['Actual'].min(), results['Actual'].max()],\n",
        "         [results['Actual'].min(), results['Actual'].max()],\n",
        "         color='red', linestyle='--')  # Đường chéo lý tưởng\n",
        "plt.xlabel('Actual Sum Cases')\n",
        "plt.ylabel('Predicted Sum Cases')\n",
        "plt.title('Actual vs Predicted Sum Cases')\n",
        "plt.grid(True)\n",
        "plt.tight_layout()\n",
        "plt.show()\n"
      ]
    },
    {
      "cell_type": "markdown",
      "metadata": {
        "id": "3Jnwv8jgE7ZD"
      },
      "source": [
        "Phân bố lệch mạnh:\n",
        "\n",
        "Đa phần điểm dữ liệu tập trung ở góc dưới trái (giá trị nhỏ).\n",
        "\n",
        "Một số điểm có giá trị lớn vượt trội → gây lệch và làm mô hình khó học tốt.\n",
        "\n",
        "Dự đoán sai lệch lớn:\n",
        "\n",
        "Nhiều điểm xa đường chéo, đặc biệt là vùng giá trị lớn → cho thấy mô hình chưa dự đoán tốt."
      ]
    },
    {
      "cell_type": "markdown",
      "metadata": {
        "id": "WG-Bibw-HUZK"
      },
      "source": [
        "## 6.5. Random Forest Regressor (Mô hình phi tuyến và chống nhiễu tốt hơn, để cải thiện độ chính xác dự đoán)"
      ]
    },
    {
      "cell_type": "code",
      "execution_count": null,
      "metadata": {
        "id": "c352164c"
      },
      "outputs": [],
      "source": [
        "from sklearn.ensemble import RandomForestRegressor\n",
        "import pandas as pd\n",
        "from sklearn.model_selection import train_test_split\n",
        "from sklearn.metrics import mean_squared_error, r2_score\n",
        "from sklearn.preprocessing import OneHotEncoder\n",
        "from sklearn.compose import ColumnTransformer\n",
        "from sklearn.pipeline import Pipeline\n",
        "\n",
        "# Dự đoán Sum At Risk từ các đặc trưng đầu vào\n",
        "features = ['Sum Cases', 'Sum Deaths', 'report late', 'Latitude', 'Longitude', 'Disease', 'Region']\n",
        "target = 'Sum At Risk'\n",
        "\n",
        "# Ensure df_reg is defined (assuming df is available from previous cells)\n",
        "df_reg = df.dropna(subset=[target]).copy()\n",
        "\n",
        "# Xử lý dữ liệu đầu vào\n",
        "X = df_reg[features]\n",
        "y = df_reg[target]\n",
        "\n",
        "categorical_features = ['Disease', 'Region']\n",
        "numerical_features = ['Sum Cases', 'Sum Deaths', 'report late', 'Latitude', 'Longitude']\n",
        "\n",
        "# Tiền xử lý với ColumnTransformer\n",
        "preprocessor = ColumnTransformer(\n",
        "    transformers=[\n",
        "        ('num', 'passthrough', numerical_features),\n",
        "        ('cat', OneHotEncoder(handle_unknown='ignore'), categorical_features)\n",
        "    ])\n",
        "\n",
        "# Xây dựng Pipeline với RandomForestRegressor\n",
        "model_rf = Pipeline(steps=[('preprocessor', preprocessor),\n",
        "                           ('regressor', RandomForestRegressor(n_estimators=100, random_state=42))])\n",
        "\n",
        "# Chia train/test và huấn luyện\n",
        "X_train, X_test, y_train, y_test = train_test_split(X, y, test_size=0.2, random_state=42)\n",
        "\n",
        "model_rf.fit(X_train, y_train)\n",
        "\n",
        "# Dự đoán và đánh giá\n",
        "y_pred_rf = model_rf.predict(X_test)\n",
        "\n",
        "mse_rf = mean_squared_error(y_test, y_pred_rf)\n",
        "r2_rf = r2_score(y_test, y_pred_rf)\n",
        "\n",
        "# Kết quả\n",
        "print(f\"Random Forest Regressor - Mean Squared Error (MSE) for {target}: {mse_rf}\")\n",
        "print(f\"Random Forest Regressor - R-squared (R2) for {target}: {r2_rf}\")\n",
        "\n",
        "results_rf = pd.DataFrame({'Actual': y_test, 'Predicted': y_pred_rf})\n",
        "print(f\"\\nPrediction Results for {target} (first 5 rows):\")\n",
        "display(results_rf.head())"
      ]
    },
    {
      "cell_type": "markdown",
      "metadata": {
        "id": "2e474dee"
      },
      "source": [
        "## 6.6. Biểu đồ Actual vs Predicted của Random Forest Regressor"
      ]
    },
    {
      "cell_type": "code",
      "execution_count": null,
      "metadata": {
        "id": "213a8ba5"
      },
      "outputs": [],
      "source": [
        "import matplotlib.pyplot as plt\n",
        "import seaborn as sns\n",
        "\n",
        "plt.figure(figsize=(8, 6))\n",
        "sns.scatterplot(data=results_rf, x='Actual', y='Predicted', alpha=0.6)\n",
        "plt.plot([results_rf['Actual'].min(), results_rf['Actual'].max()],\n",
        "         [results_rf['Actual'].min(), results_rf['Actual'].max()],\n",
        "         color='red', linestyle='--')  # Đường chéo lý tưởng\n",
        "plt.xlabel('Actual Sum At Risk')\n",
        "plt.ylabel('Predicted Sum At Risk')\n",
        "plt.title('Actual vs Predicted Sum At Risk (Random Forest Regressor)')\n",
        "plt.grid(True)\n",
        "plt.tight_layout()\n",
        "plt.show()"
      ]
    },
    {
      "cell_type": "markdown",
      "metadata": {
        "id": "0544d463"
      },
      "source": [
        "## 6.7. Biểu đồ Residual Plot của Random Forest Regressor"
      ]
    },
    {
      "cell_type": "code",
      "execution_count": null,
      "metadata": {
        "id": "a1555ecd"
      },
      "outputs": [],
      "source": [
        "import matplotlib.pyplot as plt\n",
        "import seaborn as sns\n",
        "\n",
        "residuals_rf = results_rf['Actual'] - results_rf['Predicted']\n",
        "\n",
        "plt.figure(figsize=(8, 6))\n",
        "sns.scatterplot(x=results_rf['Predicted'], y=residuals_rf, alpha=0.6)\n",
        "plt.axhline(y=0, color='red', linestyle='--') # Đường ngang tại 0\n",
        "plt.xlabel('Predicted Sum At Risk')\n",
        "plt.ylabel('Residuals (Actual - Predicted)')\n",
        "plt.title('Residual Plot for Sum At Risk (Random Forest Regressor)')\n",
        "plt.grid(True)\n",
        "plt.tight_layout()\n",
        "plt.show()"
      ]
    },
    {
      "cell_type": "markdown",
      "metadata": {
        "id": "bb6fae00"
      },
      "source": [
        "## 6.8. Huấn luyện mô hình GradientBoostingRegressor dự đoán Sum Deaths"
      ]
    },
    {
      "cell_type": "code",
      "execution_count": null,
      "metadata": {
        "id": "85cd81f3"
      },
      "outputs": [],
      "source": [
        "from sklearn.ensemble import GradientBoostingRegressor\n",
        "from sklearn.model_selection import train_test_split\n",
        "from sklearn.metrics import mean_squared_error, r2_score\n",
        "from sklearn.preprocessing import OneHotEncoder\n",
        "from sklearn.compose import ColumnTransformer\n",
        "from sklearn.pipeline import Pipeline\n",
        "import pandas as pd\n",
        "\n",
        "# Dự đoán Sum Deaths từ các đặc trưng đầu vào\n",
        "features = ['Sum Cases', 'Sum At Risk', 'report late', 'Latitude', 'Longitude', 'Disease', 'Region']\n",
        "target = 'Sum Deaths'\n",
        "\n",
        "df_reg = df.dropna(subset=[target]).copy()\n",
        "\n",
        "# Xử lý dữ liệu đầu vào\n",
        "X = df_reg[features]\n",
        "y = df_reg[target]\n",
        "\n",
        "categorical_features = ['Disease', 'Region']\n",
        "numerical_features = ['Sum Cases', 'Sum At Risk', 'report late', 'Latitude', 'Longitude']\n",
        "\n",
        "# Tiền xử lý với ColumnTransformer\n",
        "preprocessor = ColumnTransformer(\n",
        "    transformers=[\n",
        "        ('num', 'passthrough', numerical_features),\n",
        "        ('cat', OneHotEncoder(handle_unknown='ignore'), categorical_features)\n",
        "    ])\n",
        "\n",
        "# Xây dựng Pipeline với GradientBoostingRegressor\n",
        "model_gbr = Pipeline(steps=[('preprocessor', preprocessor),\n",
        "                           ('regressor', GradientBoostingRegressor(n_estimators=100, learning_rate=0.1, max_depth=3, random_state=42))])\n",
        "\n",
        "# Chia train/test và huấn luyện\n",
        "X_train, X_test, y_train, y_test = train_test_split(X, y, test_size=0.2, random_state=42)\n",
        "\n",
        "model_gbr.fit(X_train, y_train)\n",
        "\n",
        "# Dự đoán và đánh giá\n",
        "y_pred_gbr = model_gbr.predict(X_test)\n",
        "\n",
        "mse_gbr = mean_squared_error(y_test, y_pred_gbr)\n",
        "r2_gbr = r2_score(y_test, y_pred_gbr)\n",
        "\n",
        "# Kết quả\n",
        "print(f\"Gradient Boosting Regressor - Mean Squared Error (MSE) for {target}: {mse_gbr}\")\n",
        "print(f\"Gradient Boosting Regressor - R-squared (R2) for {target}: {r2_gbr}\")\n",
        "\n",
        "results_gbr = pd.DataFrame({'Actual': y_test, 'Predicted': y_pred_gbr})\n",
        "print(f\"\\nPrediction Results for {target} (first 5 rows):\")\n",
        "display(results_gbr.head())"
      ]
    },
    {
      "cell_type": "markdown",
      "metadata": {
        "id": "d07268c7"
      },
      "source": [
        "## 6.9. Biểu đồ Actual vs Predicted cho Sum Deaths (Gradient Boosting Regressor)"
      ]
    },
    {
      "cell_type": "code",
      "execution_count": null,
      "metadata": {
        "id": "37dbb646"
      },
      "outputs": [],
      "source": [
        "import matplotlib.pyplot as plt\n",
        "import seaborn as sns\n",
        "\n",
        "plt.figure(figsize=(8, 6))\n",
        "sns.scatterplot(data=results_gbr, x='Actual', y='Predicted', alpha=0.6)\n",
        "plt.plot([results_gbr['Actual'].min(), results_gbr['Actual'].max()],\n",
        "         [results_gbr['Actual'].min(), results_gbr['Actual'].max()],\n",
        "         color='red', linestyle='--')  # Đường chéo lý tưởng\n",
        "plt.xlabel('Actual Sum Deaths')\n",
        "plt.ylabel('Predicted Sum Deaths')\n",
        "plt.title('Actual vs Predicted Sum Deaths (Gradient Boosting Regressor)')\n",
        "plt.grid(True)\n",
        "plt.tight_layout()\n",
        "plt.show()"
      ]
    },
    {
      "cell_type": "markdown",
      "metadata": {
        "id": "c8add369"
      },
      "source": [
        "## 6.10. Biểu đồ Residual Plot cho Sum Deaths (Gradient Boosting Regressor)"
      ]
    },
    {
      "cell_type": "code",
      "execution_count": null,
      "metadata": {
        "id": "eR84pkF7cF50"
      },
      "outputs": [],
      "source": [
        "import matplotlib.pyplot as plt\n",
        "import seaborn as sns\n",
        "\n",
        "residuals_gbr = results_gbr['Actual'] - results_gbr['Predicted']\n",
        "\n",
        "plt.figure(figsize=(8, 6))\n",
        "sns.scatterplot(x=results_gbr['Predicted'], y=residuals_gbr, alpha=0.6)\n",
        "plt.axhline(y=0, color='red', linestyle='--') # Đường ngang tại 0\n",
        "plt.xlabel('Predicted Sum Deaths')\n",
        "plt.ylabel('Residuals (Actual - Predicted)')\n",
        "plt.title('Residual Plot for Sum Deaths (Gradient Boosting Regressor)')\n",
        "plt.grid(True)\n",
        "plt.tight_layout()\n",
        "plt.show()"
      ]
    },
    {
      "cell_type": "markdown",
      "source": [
        "## 6.11. Kết luận"
      ],
      "metadata": {
        "id": "kGm4rn45WEn1"
      }
    },
    {
      "cell_type": "code",
      "metadata": {
        "id": "d2ac5e4a"
      },
      "source": [
        "import matplotlib.pyplot as plt\n",
        "import seaborn as sns\n",
        "import pandas as pd\n",
        "\n",
        "# Create a DataFrame to store the results of the regression models\n",
        "model_data = {\n",
        "    'Model': ['Decision Tree', 'Linear Regression', 'Random Forest', 'Gradient Boosting'],\n",
        "    'MSE': [mse_dt, mse, mse_rf, mse_gbr],\n",
        "    'R-squared': [r2_dt, r2, r2_rf, r2_gbr],\n",
        "    'Target': ['Sum Cases', 'Sum Cases', 'Sum At Risk', 'Sum Deaths']\n",
        "}\n",
        "results_df = pd.DataFrame(model_data)\n",
        "\n",
        "# Plotting the Mean Squared Error (MSE) for each model\n",
        "plt.figure(figsize=(12, 6))\n",
        "sns.barplot(data=results_df, x='Model', y='MSE', hue='Target', palette='viridis')\n",
        "plt.title('Comparison of Mean Squared Error (MSE) across Models')\n",
        "plt.xlabel('Model')\n",
        "plt.ylabel('Mean Squared Error (MSE)')\n",
        "plt.xticks(rotation=45, ha='right')\n",
        "plt.tight_layout()\n",
        "plt.show()\n",
        "\n",
        "# Plotting the R-squared (R2) for each model\n",
        "plt.figure(figsize=(12, 6))\n",
        "sns.barplot(data=results_df, x='Model', y='R-squared', hue='Target', palette='plasma')\n",
        "plt.title('Comparison of R-squared (R²) across Models')\n",
        "plt.xlabel('Model')\n",
        "plt.ylabel('R-squared (R²)')\n",
        "plt.xticks(rotation=45, ha='right')\n",
        "plt.tight_layout()\n",
        "plt.show()"
      ],
      "execution_count": null,
      "outputs": []
    },
    {
      "cell_type": "markdown",
      "metadata": {
        "id": "n_qJ81SMCiJX"
      },
      "source": [
        "# 7 So sánh"
      ]
    },
    {
      "cell_type": "markdown",
      "metadata": {
        "id": "5Flzd9FHHaXs"
      },
      "source": [
        "## 7.1. Top 5 loại bệnh phổ biến nhất"
      ]
    },
    {
      "cell_type": "code",
      "execution_count": null,
      "metadata": {
        "collapsed": true,
        "id": "iPbtJ4yOC2ql"
      },
      "outputs": [],
      "source": [
        "import matplotlib.pyplot as plt\n",
        "\n",
        "bệnh_phổ_biến = df['Disease'].value_counts()\n",
        "bệnh_phổ_biến.head(5).plot(kind='bar', color='skyblue')\n",
        "plt.title('Top 5 bệnh phổ biến nhất trong dữ liệu EMPRES')\n",
        "plt.xlabel('Tên bệnh')\n",
        "plt.ylabel('Số đợt dịch ghi nhận')\n",
        "plt.xticks(rotation=45, ha='right')\n",
        "plt.tight_layout()\n",
        "plt.show()"
      ]
    },
    {
      "cell_type": "markdown",
      "metadata": {
        "id": "po1FYXZGHf_E"
      },
      "source": [
        "## 7.2 Tổng số ca bệnh của các quốc gia"
      ]
    },
    {
      "cell_type": "code",
      "execution_count": null,
      "metadata": {
        "id": "e-UlmHmNHnVM"
      },
      "outputs": [],
      "source": [
        "import matplotlib.pyplot as plt\n",
        "\n",
        "cases_by_country = df.groupby('Country')['Sum Cases'].sum().sort_values(ascending=False)\n",
        "plt.figure(figsize=(10, 6))\n",
        "cases_by_country.head().plot(kind='barh', color='salmon')\n",
        "plt.title('Top 5 quốc gia có tổng số ca bệnh cao nhất')\n",
        "plt.xlabel('Tổng số ca bệnh (sumCases)')\n",
        "plt.ylabel('Quốc gia')\n",
        "plt.gca().invert_yaxis()  # Đảo ngược để quốc gia cao nhất nằm trên cùng\n",
        "plt.grid(axis='x', linestyle='--', alpha=0.7)\n",
        "plt.tight_layout()\n",
        "plt.show()\n"
      ]
    },
    {
      "cell_type": "markdown",
      "metadata": {
        "id": "10aVSyMOP7ok"
      },
      "source": [
        "## 7.3 Dữ liệu covid\n"
      ]
    },
    {
      "cell_type": "code",
      "execution_count": null,
      "metadata": {
        "id": "-Ohy8UH5P_Cj"
      },
      "outputs": [],
      "source": [
        "import pandas as pd\n",
        "\n",
        "df_covid = pd.read_csv(\"https://raw.githubusercontent.com/thanhdanhk2004/DataMining/refs/heads/main/owid-covid-data.csv\")\n"
      ]
    },
    {
      "cell_type": "code",
      "execution_count": null,
      "metadata": {
        "collapsed": true,
        "id": "ihWnVjciQqdS"
      },
      "outputs": [],
      "source": [
        "df_covid.info()"
      ]
    },
    {
      "cell_type": "code",
      "execution_count": null,
      "metadata": {
        "collapsed": true,
        "id": "qm_m23AsRLPD"
      },
      "outputs": [],
      "source": [
        "df_compare = df_covid[[\"location\", \"date\", \"total_cases\", \"total_deaths\", \"continent\"]].copy()\n",
        "df_compare"
      ]
    },
    {
      "cell_type": "code",
      "execution_count": null,
      "metadata": {
        "collapsed": true,
        "id": "wr2bRBOISLAz"
      },
      "outputs": [],
      "source": [
        "df_sum_covid = df_compare.groupby('location')[['total_cases', 'total_deaths']].sum().reset_index()\n",
        "df_sum_covid.rename(columns={\n",
        "    'location':\"Country\",\n",
        "    'total_cases':\"Total cases covid\",\n",
        "    'total_deaths':\"Total deaths covid\"\n",
        "}, inplace=True)\n",
        "df_sum_covid"
      ]
    },
    {
      "cell_type": "code",
      "execution_count": null,
      "metadata": {
        "collapsed": true,
        "id": "D07d7vt4TZKj"
      },
      "outputs": [],
      "source": [
        "df_empres = df[[\"Country\", \"Observation Date\", \"Sum Cases\", \"Sum Deaths\"]].copy()\n",
        "df_sum_empres = df_empres.groupby('Country')[[\"Sum Cases\", \"Sum Deaths\"]].sum().reset_index()\n",
        "df_sum_empres.rename(columns={\n",
        "    \"Country\":\"Country\",\n",
        "    \"Sum Cases\":\"Total cases empres\",\n",
        "    \"Sum Deaths\":\"Total deaths empres\"\n",
        "}, inplace=True)\n",
        "df_sum_empres"
      ]
    },
    {
      "cell_type": "code",
      "execution_count": null,
      "metadata": {
        "id": "A7vmAKcsVlCK"
      },
      "outputs": [],
      "source": [
        "# Gom 2 df lai thanh 1 df\n",
        "df_merge = pd.merge(df_sum_covid, df_sum_empres, on=\"Country\", how=\"inner\") # how=\"inner\": Giu lai cac hang neu hai bang deu co cung quoc gia\n",
        "df_merge"
      ]
    },
    {
      "cell_type": "code",
      "execution_count": null,
      "metadata": {
        "id": "OzpG2Qr2WqZz"
      },
      "outputs": [],
      "source": [
        "import matplotlib.pyplot as plt\n",
        "import pandas as pd\n",
        "\n",
        "# Vẽ biểu đồ so sánh ca bệnh\n",
        "plt.figure(figsize=(14, 6))\n",
        "width = 0.35  # độ rộng cột\n",
        "\n",
        "countries = df_merge.head(10)['Country']\n",
        "x = range(len(countries))\n",
        "\n",
        "plt.bar(x, df_merge.head(10)['Total cases covid'], width=width, label='COVID-19 cases', color='skyblue')\n",
        "plt.bar([i + width for i in x], df_merge.head(10)['Total cases empres'], width=width, label='Animal disease cases', color='orange')\n",
        "\n",
        "plt.xticks([i + width/2 for i in x], countries, rotation=45, ha='right')\n",
        "plt.ylabel('Số ca mắc')\n",
        "plt.title('So sánh số ca mắc: COVID-19 vs. Dịch bệnh động vật (EMPRES)')\n",
        "plt.legend()\n",
        "plt.tight_layout()\n",
        "plt.show()\n"
      ]
    },
    {
      "cell_type": "code",
      "execution_count": null,
      "metadata": {
        "id": "Zo4hQPDcvBoW"
      },
      "outputs": [],
      "source": [
        "import matplotlib.pyplot as plt\n",
        "import pandas as pd\n",
        "\n",
        "# Vẽ biểu đồ so sánh ca bệnh\n",
        "plt.figure(figsize=(14, 6))\n",
        "width = 0.35  # độ rộng cột\n",
        "\n",
        "countries = df_merge.head(10)['Country']\n",
        "x = range(len(countries))\n",
        "\n",
        "plt.bar(x, df_merge.head(10)['Total deaths covid'], width=width, label='COVID-19 deaths', color='skyblue')\n",
        "plt.bar([i + width for i in x], df_merge.head(10)['Total deaths empres'], width=width, label='Animal disease deaths', color='orange')\n",
        "\n",
        "plt.xticks([i + width/2 for i in x], countries, rotation=45, ha='right')\n",
        "plt.ylabel('Số ca chết')\n",
        "plt.title('So sánh số ca chết: COVID-19 vs. Dịch bệnh động vật (EMPRES)')\n",
        "plt.legend()\n",
        "plt.tight_layout()\n",
        "plt.show()"
      ]
    },
    {
      "cell_type": "code",
      "execution_count": null,
      "metadata": {
        "id": "cu4U__WUwlus"
      },
      "outputs": [],
      "source": [
        "total_covid_cases = df_merge[\"Total cases covid\"].sum()\n",
        "total_covid_deaths = df_merge[\"Total deaths covid\"].sum()\n",
        "\n",
        "total_empres_cases = df_merge[\"Total cases empres\"].sum()\n",
        "total_empres_deaths = df_merge[\"Total deaths empres\"].sum()\n",
        "\n",
        "covid_death_rate_global = total_covid_deaths / total_covid_cases\n",
        "empres_death_rate_global = total_empres_deaths / total_empres_cases\n"
      ]
    },
    {
      "cell_type": "code",
      "execution_count": null,
      "metadata": {
        "id": "FJn40Pq8xnBu"
      },
      "outputs": [],
      "source": [
        "import matplotlib.pyplot as plt\n",
        "\n",
        "labels = ['COVID-19', 'Animal Diseases (EMPRES)']\n",
        "death_rates = [covid_death_rate_global, empres_death_rate_global]\n",
        "\n",
        "plt.figure(figsize=(6, 5))\n",
        "plt.bar(labels, death_rates, color=['salmon', 'green'])\n",
        "plt.ylabel('Tỷ lệ tử vong')\n",
        "plt.title('So sánh tỷ lệ tử vong toàn cầu: COVID-19 vs. Dịch bệnh động vật')\n",
        "plt.ylim(0, max(death_rates) * 1.2)\n",
        "\n",
        "for i, rate in enumerate(death_rates):\n",
        "    plt.text(i, rate + 0.00001, f'{rate:.4%}', ha='center')\n",
        "\n",
        "plt.tight_layout()\n",
        "plt.show()\n"
      ]
    }
  ],
  "metadata": {
    "colab": {
      "collapsed_sections": [
        "89rB2YIf4NXT",
        "KPrVtODJHQwZ",
        "gKKJ-od0UXDu",
        "KvHbGZQnQ5NX",
        "jln-XJAT5_Rz",
        "JOYC6ZTDKKXK",
        "q0HnHzFaKPUK",
        "6a6wilC8mhZL",
        "HwYe3TxZnCnL",
        "8avdLQctNX-3",
        "9PkeLApMose7",
        "y8_6mCTUOLxz",
        "wI3KKczMedbI",
        "81Xef5593VvH",
        "G2kjAmvH6V2j",
        "0bec3d4f",
        "e0747baa",
        "z6Li9HX6M8N9",
        "0saaFFS7CQdJ",
        "WG-Bibw-HUZK",
        "2e474dee",
        "0544d463",
        "bb6fae00",
        "d07268c7",
        "c8add369",
        "5Flzd9FHHaXs",
        "po1FYXZGHf_E",
        "10aVSyMOP7ok"
      ],
      "provenance": []
    },
    "kernelspec": {
      "display_name": "Python 3",
      "name": "python3"
    },
    "language_info": {
      "name": "python"
    }
  },
  "nbformat": 4,
  "nbformat_minor": 0
}